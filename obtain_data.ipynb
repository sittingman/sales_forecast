{
 "cells": [
  {
   "cell_type": "code",
   "execution_count": 1,
   "metadata": {},
   "outputs": [
    {
     "name": "stdout",
     "output_type": "stream",
     "text": [
      "Requirement already satisfied: kaggle in c:\\users\\sit_k\\appdata\\local\\continuum\\anaconda3\\lib\\site-packages (1.5.5)\n",
      "Requirement already satisfied: python-dateutil in c:\\users\\sit_k\\appdata\\local\\continuum\\anaconda3\\lib\\site-packages (from kaggle) (2.8.0)\n",
      "Requirement already satisfied: python-slugify in c:\\users\\sit_k\\appdata\\local\\continuum\\anaconda3\\lib\\site-packages (from kaggle) (3.0.3)\n",
      "Requirement already satisfied: urllib3<1.25,>=1.21.1 in c:\\users\\sit_k\\appdata\\local\\continuum\\anaconda3\\lib\\site-packages (from kaggle) (1.24.1)\n",
      "Requirement already satisfied: six>=1.10 in c:\\users\\sit_k\\appdata\\local\\continuum\\anaconda3\\lib\\site-packages (from kaggle) (1.12.0)\n",
      "Requirement already satisfied: requests in c:\\users\\sit_k\\appdata\\local\\continuum\\anaconda3\\lib\\site-packages (from kaggle) (2.21.0)\n",
      "Requirement already satisfied: certifi in c:\\users\\sit_k\\appdata\\local\\continuum\\anaconda3\\lib\\site-packages (from kaggle) (2019.11.28)\n",
      "Requirement already satisfied: tqdm in c:\\users\\sit_k\\appdata\\local\\continuum\\anaconda3\\lib\\site-packages (from kaggle) (4.31.1)\n",
      "Requirement already satisfied: text-unidecode==1.2 in c:\\users\\sit_k\\appdata\\local\\continuum\\anaconda3\\lib\\site-packages (from python-slugify->kaggle) (1.2)\n",
      "Requirement already satisfied: idna<2.9,>=2.5 in c:\\users\\sit_k\\appdata\\local\\continuum\\anaconda3\\lib\\site-packages (from requests->kaggle) (2.8)\n",
      "Requirement already satisfied: chardet<3.1.0,>=3.0.2 in c:\\users\\sit_k\\appdata\\local\\continuum\\anaconda3\\lib\\site-packages (from requests->kaggle) (3.0.4)\n"
     ]
    }
   ],
   "source": [
    "!pip install kaggle"
   ]
  },
  {
   "cell_type": "code",
   "execution_count": 2,
   "metadata": {},
   "outputs": [],
   "source": [
    "import os\n",
    "import zipfile\n",
    "\n",
    "import kaggle"
   ]
  },
  {
   "cell_type": "code",
   "execution_count": 3,
   "metadata": {},
   "outputs": [
    {
     "name": "stdout",
     "output_type": "stream",
     "text": [
      "Warning: Looks like you're using an outdated API Version, please consider updating (server 1.5.6 / client 1.5.5)\n",
      "Downloading shops.csv to data\n",
      "\n",
      "Downloading item_categories.csv to data\n",
      "\n",
      "Downloading test.csv.zip to data\n",
      "\n",
      "Downloading sample_submission.csv.zip to data\n",
      "\n",
      "Downloading items.csv.zip to data\n",
      "\n",
      "Downloading sales_train.csv.zip to data\n",
      "\n"
     ]
    },
    {
     "name": "stderr",
     "output_type": "stream",
     "text": [
      "\n",
      "  0%|          | 0.00/2.91k [00:00<?, ?B/s]\n",
      "100%|##########| 2.91k/2.91k [00:00<00:00, 2.99MB/s]\n",
      "\n",
      "  0%|          | 0.00/3.49k [00:00<?, ?B/s]\n",
      "100%|##########| 3.49k/3.49k [00:00<00:00, 1.83MB/s]\n",
      "\n",
      "  0%|          | 0.00/1.02M [00:00<?, ?B/s]\n",
      " 98%|#########7| 1.00M/1.02M [00:00<00:00, 6.01MB/s]\n",
      "100%|##########| 1.02M/1.02M [00:00<00:00, 6.05MB/s]\n",
      "\n",
      "  0%|          | 0.00/468k [00:00<?, ?B/s]\n",
      "100%|##########| 468k/468k [00:00<00:00, 10.5MB/s]\n",
      "\n",
      "  0%|          | 0.00/368k [00:00<?, ?B/s]\n",
      "100%|##########| 368k/368k [00:00<00:00, 12.2MB/s]\n",
      "\n",
      "  0%|          | 0.00/13.3M [00:00<?, ?B/s]\n",
      " 15%|#5        | 2.00M/13.3M [00:00<00:01, 11.0MB/s]\n",
      " 30%|###       | 4.00M/13.3M [00:00<00:00, 10.9MB/s]\n",
      " 45%|####5     | 6.00M/13.3M [00:00<00:00, 9.75MB/s]\n",
      " 60%|######    | 8.00M/13.3M [00:00<00:00, 10.2MB/s]\n",
      " 75%|#######5  | 10.0M/13.3M [00:01<00:00, 10.5MB/s]\n",
      " 83%|########2 | 11.0M/13.3M [00:01<00:00, 10.4MB/s]\n",
      " 98%|#########7| 13.0M/13.3M [00:01<00:00, 10.7MB/s]\n",
      "100%|##########| 13.3M/13.3M [00:01<00:00, 10.4MB/s]\n"
     ]
    }
   ],
   "source": [
    "!kaggle competitions download - c competitive-data-science-predict-future-sales - p data"
   ]
  },
  {
   "cell_type": "code",
   "execution_count": 4,
   "metadata": {},
   "outputs": [],
   "source": [
    "pwd = os.getcwd()\n",
    "dir_name = pwd+'\\data\\\\'"
   ]
  },
  {
   "cell_type": "code",
   "execution_count": 5,
   "metadata": {},
   "outputs": [
    {
     "data": {
      "text/plain": [
       "['items.csv.zip',\n",
       " 'item_categories.csv',\n",
       " 'sales_train.csv.zip',\n",
       " 'sample_submission.csv.zip',\n",
       " 'shops.csv',\n",
       " 'test.csv.zip']"
      ]
     },
     "execution_count": 5,
     "metadata": {},
     "output_type": "execute_result"
    }
   ],
   "source": [
    "os.listdir(dir_name)"
   ]
  },
  {
   "cell_type": "code",
   "execution_count": 6,
   "metadata": {},
   "outputs": [],
   "source": [
    "for item in os.listdir(dir_name):  # loop through items in dir\n",
    "    if item.endswith('.zip'):  # check for \".zip\" extension\n",
    "        file_name = dir_name+item  # get full path of files\n",
    "        zip_ref = zipfile.ZipFile(file_name)  # create zipfile object\n",
    "        zip_ref.extractall(dir_name)  # extract file to dir\n",
    "        zip_ref.close()  # close file\n",
    "        os.remove(file_name)  # delete zipped file"
   ]
  }
 ],
 "metadata": {
  "kernelspec": {
   "display_name": "Python 3",
   "language": "python",
   "name": "python3"
  },
  "language_info": {
   "codemirror_mode": {
    "name": "ipython",
    "version": 3
   },
   "file_extension": ".py",
   "mimetype": "text/x-python",
   "name": "python",
   "nbconvert_exporter": "python",
   "pygments_lexer": "ipython3",
   "version": "3.7.1"
  }
 },
 "nbformat": 4,
 "nbformat_minor": 4
}
