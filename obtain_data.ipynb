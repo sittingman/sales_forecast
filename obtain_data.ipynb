{
 "cells": [
  {
   "cell_type": "code",
   "execution_count": 1,
   "metadata": {
    "execution": {
     "iopub.execute_input": "2020-09-14T15:14:53.711182Z",
     "iopub.status.busy": "2020-09-14T15:14:53.711182Z",
     "iopub.status.idle": "2020-09-14T15:14:53.715715Z",
     "shell.execute_reply": "2020-09-14T15:14:53.714714Z",
     "shell.execute_reply.started": "2020-09-14T15:14:53.711182Z"
    }
   },
   "outputs": [],
   "source": [
    "# !pip install kaggle"
   ]
  },
  {
   "cell_type": "code",
   "execution_count": 2,
   "metadata": {
    "execution": {
     "iopub.execute_input": "2020-09-14T15:14:53.718479Z",
     "iopub.status.busy": "2020-09-14T15:14:53.718224Z",
     "iopub.status.idle": "2020-09-14T15:14:54.100345Z",
     "shell.execute_reply": "2020-09-14T15:14:54.099116Z",
     "shell.execute_reply.started": "2020-09-14T15:14:53.718479Z"
    }
   },
   "outputs": [],
   "source": [
    "import os\n",
    "import zipfile\n",
    "\n",
    "import kaggle"
   ]
  },
  {
   "cell_type": "code",
   "execution_count": 3,
   "metadata": {
    "execution": {
     "iopub.execute_input": "2020-09-14T15:14:54.104009Z",
     "iopub.status.busy": "2020-09-14T15:14:54.103011Z",
     "iopub.status.idle": "2020-09-14T15:14:54.990287Z",
     "shell.execute_reply": "2020-09-14T15:14:54.989291Z",
     "shell.execute_reply.started": "2020-09-14T15:14:54.104009Z"
    }
   },
   "outputs": [
    {
     "name": "stderr",
     "output_type": "stream",
     "text": [
      "usage: kaggle [-h] [-v] {competitions,c,datasets,d,kernels,k,config} ...\n",
      "kaggle: error: unrecognized arguments: c competitive-data-science-predict-future-sales - p data\n"
     ]
    }
   ],
   "source": [
    "!kaggle competitions download - c competitive-data-science-predict-future-sales - p data"
   ]
  },
  {
   "cell_type": "code",
   "execution_count": 4,
   "metadata": {
    "execution": {
     "iopub.execute_input": "2020-09-14T15:14:54.992283Z",
     "iopub.status.busy": "2020-09-14T15:14:54.992283Z",
     "iopub.status.idle": "2020-09-14T15:14:55.004847Z",
     "shell.execute_reply": "2020-09-14T15:14:55.003338Z",
     "shell.execute_reply.started": "2020-09-14T15:14:54.992283Z"
    }
   },
   "outputs": [],
   "source": [
    "pwd = os.getcwd()\n",
    "dir_name = pwd+'\\data\\\\'"
   ]
  },
  {
   "cell_type": "code",
   "execution_count": 5,
   "metadata": {
    "execution": {
     "iopub.execute_input": "2020-09-14T15:14:55.006824Z",
     "iopub.status.busy": "2020-09-14T15:14:55.006326Z",
     "iopub.status.idle": "2020-09-14T15:14:55.054388Z",
     "shell.execute_reply": "2020-09-14T15:14:55.052395Z",
     "shell.execute_reply.started": "2020-09-14T15:14:55.006824Z"
    }
   },
   "outputs": [
    {
     "data": {
      "text/plain": [
       "['final_df.csv',\n",
       " 'items.csv',\n",
       " 'item_categories.csv',\n",
       " 'sales_train.csv',\n",
       " 'sample_submission.csv',\n",
       " 'shops.csv',\n",
       " 'submission.csv',\n",
       " 'submission_naive.csv',\n",
       " 'submission_naiveLM.csv',\n",
       " 'submission_reg.csv',\n",
       " 'submission_rfc.csv',\n",
       " 'submission_sar.csv',\n",
       " 'submission_xgb.csv',\n",
       " 'test.csv',\n",
       " 'train_df.csv']"
      ]
     },
     "execution_count": 5,
     "metadata": {},
     "output_type": "execute_result"
    }
   ],
   "source": [
    "os.listdir(dir_name)"
   ]
  },
  {
   "cell_type": "code",
   "execution_count": 6,
   "metadata": {
    "execution": {
     "iopub.execute_input": "2020-09-14T15:14:55.057381Z",
     "iopub.status.busy": "2020-09-14T15:14:55.056383Z",
     "iopub.status.idle": "2020-09-14T15:14:55.066436Z",
     "shell.execute_reply": "2020-09-14T15:14:55.065364Z",
     "shell.execute_reply.started": "2020-09-14T15:14:55.057381Z"
    }
   },
   "outputs": [],
   "source": [
    "for item in os.listdir(dir_name):  # loop through items in dir\n",
    "    if item.endswith('.zip'):  # check for \".zip\" extension\n",
    "        file_name = dir_name+item  # get full path of files\n",
    "        zip_ref = zipfile.ZipFile(file_name)  # create zipfile object\n",
    "        zip_ref.extractall(dir_name)  # extract file to dir\n",
    "        zip_ref.close()  # close file\n",
    "        os.remove(file_name)  # delete zipped file"
   ]
  }
 ],
 "metadata": {
  "kernelspec": {
   "display_name": "Python 3",
   "language": "python",
   "name": "python3"
  },
  "language_info": {
   "codemirror_mode": {
    "name": "ipython",
    "version": 3
   },
   "file_extension": ".py",
   "mimetype": "text/x-python",
   "name": "python",
   "nbconvert_exporter": "python",
   "pygments_lexer": "ipython3",
   "version": "3.7.1"
  }
 },
 "nbformat": 4,
 "nbformat_minor": 4
}
