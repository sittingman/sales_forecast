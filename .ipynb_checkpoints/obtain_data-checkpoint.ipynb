{
 "cells": [
  {
   "cell_type": "code",
   "execution_count": 1,
   "metadata": {},
   "outputs": [
    {
     "name": "stdout",
     "output_type": "stream",
     "text": [
      "Requirement already satisfied: kaggle in c:\\users\\sit_k\\appdata\\local\\continuum\\anaconda3\\lib\\site-packages (1.5.5)\n",
      "Requirement already satisfied: python-dateutil in c:\\users\\sit_k\\appdata\\local\\continuum\\anaconda3\\lib\\site-packages (from kaggle) (2.8.0)\n",
      "Requirement already satisfied: tqdm in c:\\users\\sit_k\\appdata\\local\\continuum\\anaconda3\\lib\\site-packages (from kaggle) (4.31.1)\n",
      "Requirement already satisfied: certifi in c:\\users\\sit_k\\appdata\\local\\continuum\\anaconda3\\lib\\site-packages (from kaggle) (2019.11.28)\n",
      "Requirement already satisfied: urllib3<1.25,>=1.21.1 in c:\\users\\sit_k\\appdata\\local\\continuum\\anaconda3\\lib\\site-packages (from kaggle) (1.24.1)\n",
      "Requirement already satisfied: six>=1.10 in c:\\users\\sit_k\\appdata\\local\\continuum\\anaconda3\\lib\\site-packages (from kaggle) (1.12.0)\n",
      "Requirement already satisfied: requests in c:\\users\\sit_k\\appdata\\local\\continuum\\anaconda3\\lib\\site-packages (from kaggle) (2.21.0)\n",
      "Requirement already satisfied: python-slugify in c:\\users\\sit_k\\appdata\\local\\continuum\\anaconda3\\lib\\site-packages (from kaggle) (3.0.3)\n",
      "Requirement already satisfied: idna<2.9,>=2.5 in c:\\users\\sit_k\\appdata\\local\\continuum\\anaconda3\\lib\\site-packages (from requests->kaggle) (2.8)\n",
      "Requirement already satisfied: chardet<3.1.0,>=3.0.2 in c:\\users\\sit_k\\appdata\\local\\continuum\\anaconda3\\lib\\site-packages (from requests->kaggle) (3.0.4)\n",
      "Requirement already satisfied: text-unidecode==1.2 in c:\\users\\sit_k\\appdata\\local\\continuum\\anaconda3\\lib\\site-packages (from python-slugify->kaggle) (1.2)\n"
     ]
    }
   ],
   "source": [
    "!pip install kaggle"
   ]
  },
  {
   "cell_type": "code",
   "execution_count": 2,
   "metadata": {},
   "outputs": [],
   "source": [
    "import kaggle\n",
    "import os, zipfile"
   ]
  },
  {
   "cell_type": "code",
   "execution_count": 3,
   "metadata": {},
   "outputs": [
    {
     "name": "stdout",
     "output_type": "stream",
     "text": [
      "Warning: Looks like you're using an outdated API Version, please consider updating (server 1.5.6 / client 1.5.5)\n",
      "test.csv.zip: Skipping, found more recently modified local copy (use --force to force download)\n",
      "shops.csv: Skipping, found more recently modified local copy (use --force to force download)\n",
      "items.csv.zip: Skipping, found more recently modified local copy (use --force to force download)\n",
      "sample_submission.csv.zip: Skipping, found more recently modified local copy (use --force to force download)\n",
      "item_categories.csv: Skipping, found more recently modified local copy (use --force to force download)\n",
      "sales_train.csv.zip: Skipping, found more recently modified local copy (use --force to force download)\n"
     ]
    }
   ],
   "source": [
    "!kaggle competitions download -c competitive-data-science-predict-future-sales -p data"
   ]
  },
  {
   "cell_type": "code",
   "execution_count": 4,
   "metadata": {},
   "outputs": [],
   "source": [
    "pwd = os.getcwd()\n",
    "dir_name = pwd+'\\data\\\\'"
   ]
  },
  {
   "cell_type": "code",
   "execution_count": 5,
   "metadata": {},
   "outputs": [
    {
     "data": {
      "text/plain": [
       "['items.csv',\n",
       " 'items.csv.zip',\n",
       " 'item_categories.csv',\n",
       " 'sales_train.csv',\n",
       " 'sales_train.csv.zip',\n",
       " 'sample_submission.csv',\n",
       " 'sample_submission.csv.zip',\n",
       " 'shops.csv',\n",
       " 'test.csv',\n",
       " 'test.csv.zip',\n",
       " 'train_df.csv']"
      ]
     },
     "execution_count": 5,
     "metadata": {},
     "output_type": "execute_result"
    }
   ],
   "source": [
    "os.listdir(dir_name)"
   ]
  },
  {
   "cell_type": "code",
   "execution_count": 6,
   "metadata": {},
   "outputs": [],
   "source": [
    "for item in os.listdir(dir_name): # loop through items in dir\n",
    "    if item.endswith('.zip'): # check for \".zip\" extension\n",
    "        file_name = dir_name+item # get full path of files\n",
    "        zip_ref = zipfile.ZipFile(file_name) # create zipfile object\n",
    "        zip_ref.extractall(dir_name) # extract file to dir\n",
    "        zip_ref.close() # close file\n",
    "        os.remove(file_name) # delete zipped file"
   ]
  }
 ],
 "metadata": {
  "kernelspec": {
   "display_name": "Python 3",
   "language": "python",
   "name": "python3"
  },
  "language_info": {
   "codemirror_mode": {
    "name": "ipython",
    "version": 3
   },
   "file_extension": ".py",
   "mimetype": "text/x-python",
   "name": "python",
   "nbconvert_exporter": "python",
   "pygments_lexer": "ipython3",
   "version": "3.7.3"
  }
 },
 "nbformat": 4,
 "nbformat_minor": 2
}
