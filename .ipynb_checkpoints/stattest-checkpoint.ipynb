{
 "cells": [
  {
   "cell_type": "markdown",
   "metadata": {},
   "source": [
    "## Statistical Test\n",
    "\n",
    "From the exploratory analysis, we identify that sales tend to fluctuate by month and day of week, both of which are time-series components. We will access the time-series nature of the data to ensure it follows certain properties since any time-series predictive models will rely on that."
   ]
  },
  {
   "cell_type": "code",
   "execution_count": 1,
   "metadata": {},
   "outputs": [],
   "source": [
    "from datetime import datetime as dt\n",
    "from datetime import date\n",
    "import numpy as np\n",
    "import pandas as pd\n",
    "from pandas.plotting import register_matplotlib_converters\n",
    "register_matplotlib_converters()\n",
    "from statsmodels.tsa.stattools import acf, adfuller\n",
    "import pmdarima as pm\n",
    "from statsmodels.graphics.tsaplots import plot_acf, plot_pacf\n",
    "from sklearn.metrics import mean_squared_error\n",
    "from statsmodels.tsa.arima_model import ARMA, ARIMA\n",
    "import matplotlib.pyplot as plt\n",
    "import seaborn as sns\n",
    "sns.set()\n",
    "%matplotlib inline "
   ]
  },
  {
   "cell_type": "code",
   "execution_count": 2,
   "metadata": {},
   "outputs": [],
   "source": [
    "train_df = pd.read_csv('data/train_df.csv', parse_dates=['date'])"
   ]
  },
  {
   "cell_type": "code",
   "execution_count": 3,
   "metadata": {},
   "outputs": [
    {
     "data": {
      "text/html": [
       "<div>\n",
       "<style scoped>\n",
       "    .dataframe tbody tr th:only-of-type {\n",
       "        vertical-align: middle;\n",
       "    }\n",
       "\n",
       "    .dataframe tbody tr th {\n",
       "        vertical-align: top;\n",
       "    }\n",
       "\n",
       "    .dataframe thead th {\n",
       "        text-align: right;\n",
       "    }\n",
       "</style>\n",
       "<table border=\"1\" class=\"dataframe\">\n",
       "  <thead>\n",
       "    <tr style=\"text-align: right;\">\n",
       "      <th></th>\n",
       "      <th>date</th>\n",
       "      <th>date_block_num</th>\n",
       "      <th>shop_id</th>\n",
       "      <th>shop_name</th>\n",
       "      <th>item_id</th>\n",
       "      <th>item_name</th>\n",
       "      <th>item_category_id</th>\n",
       "      <th>item_category_name</th>\n",
       "      <th>item_price</th>\n",
       "      <th>item_cnt_day</th>\n",
       "      <th>sales</th>\n",
       "    </tr>\n",
       "  </thead>\n",
       "  <tbody>\n",
       "    <tr>\n",
       "      <th>0</th>\n",
       "      <td>2013-01-02</td>\n",
       "      <td>0</td>\n",
       "      <td>59</td>\n",
       "      <td>Ярославль ТЦ \"Альтаир\"</td>\n",
       "      <td>22154</td>\n",
       "      <td>ЯВЛЕНИЕ 2012 (BD)</td>\n",
       "      <td>37</td>\n",
       "      <td>Кино - Blu-Ray</td>\n",
       "      <td>999.0</td>\n",
       "      <td>1.0</td>\n",
       "      <td>999.0</td>\n",
       "    </tr>\n",
       "    <tr>\n",
       "      <th>1</th>\n",
       "      <td>2013-01-02</td>\n",
       "      <td>0</td>\n",
       "      <td>25</td>\n",
       "      <td>Москва ТРК \"Атриум\"</td>\n",
       "      <td>22154</td>\n",
       "      <td>ЯВЛЕНИЕ 2012 (BD)</td>\n",
       "      <td>37</td>\n",
       "      <td>Кино - Blu-Ray</td>\n",
       "      <td>999.0</td>\n",
       "      <td>1.0</td>\n",
       "      <td>999.0</td>\n",
       "    </tr>\n",
       "    <tr>\n",
       "      <th>2</th>\n",
       "      <td>2013-01-03</td>\n",
       "      <td>0</td>\n",
       "      <td>25</td>\n",
       "      <td>Москва ТРК \"Атриум\"</td>\n",
       "      <td>22154</td>\n",
       "      <td>ЯВЛЕНИЕ 2012 (BD)</td>\n",
       "      <td>37</td>\n",
       "      <td>Кино - Blu-Ray</td>\n",
       "      <td>999.0</td>\n",
       "      <td>1.0</td>\n",
       "      <td>999.0</td>\n",
       "    </tr>\n",
       "    <tr>\n",
       "      <th>3</th>\n",
       "      <td>2013-01-20</td>\n",
       "      <td>0</td>\n",
       "      <td>25</td>\n",
       "      <td>Москва ТРК \"Атриум\"</td>\n",
       "      <td>22154</td>\n",
       "      <td>ЯВЛЕНИЕ 2012 (BD)</td>\n",
       "      <td>37</td>\n",
       "      <td>Кино - Blu-Ray</td>\n",
       "      <td>999.0</td>\n",
       "      <td>1.0</td>\n",
       "      <td>999.0</td>\n",
       "    </tr>\n",
       "    <tr>\n",
       "      <th>4</th>\n",
       "      <td>2013-01-23</td>\n",
       "      <td>0</td>\n",
       "      <td>25</td>\n",
       "      <td>Москва ТРК \"Атриум\"</td>\n",
       "      <td>22154</td>\n",
       "      <td>ЯВЛЕНИЕ 2012 (BD)</td>\n",
       "      <td>37</td>\n",
       "      <td>Кино - Blu-Ray</td>\n",
       "      <td>999.0</td>\n",
       "      <td>1.0</td>\n",
       "      <td>999.0</td>\n",
       "    </tr>\n",
       "  </tbody>\n",
       "</table>\n",
       "</div>"
      ],
      "text/plain": [
       "        date  date_block_num  shop_id               shop_name  item_id  \\\n",
       "0 2013-01-02               0       59  Ярославль ТЦ \"Альтаир\"    22154   \n",
       "1 2013-01-02               0       25     Москва ТРК \"Атриум\"    22154   \n",
       "2 2013-01-03               0       25     Москва ТРК \"Атриум\"    22154   \n",
       "3 2013-01-20               0       25     Москва ТРК \"Атриум\"    22154   \n",
       "4 2013-01-23               0       25     Москва ТРК \"Атриум\"    22154   \n",
       "\n",
       "           item_name  item_category_id item_category_name  item_price  \\\n",
       "0  ЯВЛЕНИЕ 2012 (BD)                37     Кино - Blu-Ray       999.0   \n",
       "1  ЯВЛЕНИЕ 2012 (BD)                37     Кино - Blu-Ray       999.0   \n",
       "2  ЯВЛЕНИЕ 2012 (BD)                37     Кино - Blu-Ray       999.0   \n",
       "3  ЯВЛЕНИЕ 2012 (BD)                37     Кино - Blu-Ray       999.0   \n",
       "4  ЯВЛЕНИЕ 2012 (BD)                37     Кино - Blu-Ray       999.0   \n",
       "\n",
       "   item_cnt_day  sales  \n",
       "0           1.0  999.0  \n",
       "1           1.0  999.0  \n",
       "2           1.0  999.0  \n",
       "3           1.0  999.0  \n",
       "4           1.0  999.0  "
      ]
     },
     "execution_count": 3,
     "metadata": {},
     "output_type": "execute_result"
    }
   ],
   "source": [
    "train_df.head()"
   ]
  },
  {
   "cell_type": "markdown",
   "metadata": {},
   "source": [
    "### Autocorrelation\n",
    "\n",
    "Test if each day of sales has correlation to daily sales of another day. Resample data to test week and month. Identify lags that has the highest autocorrelation"
   ]
  },
  {
   "cell_type": "code",
   "execution_count": 4,
   "metadata": {},
   "outputs": [],
   "source": [
    "ts_data = train_df[['date','sales']]"
   ]
  },
  {
   "cell_type": "code",
   "execution_count": 5,
   "metadata": {},
   "outputs": [],
   "source": [
    "ts_daily = ts_data.groupby(['date'])['sales'].sum()"
   ]
  },
  {
   "cell_type": "code",
   "execution_count": 6,
   "metadata": {},
   "outputs": [],
   "source": [
    "ts_weekly = ts_daily.resample(rule='W').last()\n",
    "ts_monthly = ts_daily.resample(rule='M').last()"
   ]
  },
  {
   "cell_type": "code",
   "execution_count": 7,
   "metadata": {},
   "outputs": [],
   "source": [
    "auto_daily = ts_daily.pct_change().autocorr()\n",
    "auto_weekly = ts_weekly.pct_change().autocorr()\n",
    "auto_monthly = ts_monthly.pct_change().autocorr()"
   ]
  },
  {
   "cell_type": "code",
   "execution_count": 8,
   "metadata": {},
   "outputs": [
    {
     "name": "stdout",
     "output_type": "stream",
     "text": [
      "Daily_autocorrelation -0.08463005530311793\n",
      "Weekly_autocorrelation -0.23559041330362235\n",
      "Monthly_autocorrelation -0.21480875731501684\n"
     ]
    }
   ],
   "source": [
    "print('Daily_autocorrelation {}'.format(auto_daily))\n",
    "print('Weekly_autocorrelation {}'.format(auto_weekly))\n",
    "print('Monthly_autocorrelation {}'.format(auto_monthly))"
   ]
  },
  {
   "cell_type": "markdown",
   "metadata": {},
   "source": [
    "The daily autocorrelation is almost not exist (~8%). Weekly and monthly has 3 times higher in autocorrelation magnitude. We will focusing on those two frequencies."
   ]
  },
  {
   "cell_type": "code",
   "execution_count": 9,
   "metadata": {},
   "outputs": [
    {
     "data": {
      "image/png": "[encoded data removed]",
      "text/plain": [
       "<Figure size 1080x288 with 1 Axes>"
      ]
     },
     "metadata": {
      "needs_background": "light"
     },
     "output_type": "display_data"
    }
   ],
   "source": [
    "fig, ax = plt.subplots(figsize=(15, 4))\n",
    "plot_acf(ts_weekly, alpha=.05, ax=ax, lags=60)\n",
    "plt.show()"
   ]
  },
  {
   "cell_type": "markdown",
   "metadata": {},
   "source": [
    "Strong lags at 2, 3, and 52"
   ]
  },
  {
   "cell_type": "code",
   "execution_count": 10,
   "metadata": {},
   "outputs": [
    {
     "data": {
      "image/png": "[encoded data removed]",
      "text/plain": [
       "<Figure size 1080x288 with 1 Axes>"
      ]
     },
     "metadata": {
      "needs_background": "light"
     },
     "output_type": "display_data"
    }
   ],
   "source": [
    "fig1, ax = plt.subplots(figsize=(15, 4))\n",
    "plot_pacf(ts_weekly, alpha=.05, ax=ax, lags=60)\n",
    "plt.show()"
   ]
  },
  {
   "cell_type": "code",
   "execution_count": 11,
   "metadata": {},
   "outputs": [
    {
     "data": {
      "image/png": "[encoded data removed]",
      "text/plain": [
       "<Figure size 1080x288 with 1 Axes>"
      ]
     },
     "metadata": {
      "needs_background": "light"
     },
     "output_type": "display_data"
    }
   ],
   "source": [
    "fig2, ax = plt.subplots(figsize=(15, 4))\n",
    "plot_acf(ts_monthly, alpha=.05, ax=ax, lags=30)\n",
    "plt.show()"
   ]
  },
  {
   "cell_type": "markdown",
   "metadata": {},
   "source": [
    "Strong lag at 12"
   ]
  },
  {
   "cell_type": "code",
   "execution_count": 12,
   "metadata": {},
   "outputs": [
    {
     "name": "stderr",
     "output_type": "stream",
     "text": [
      "C:\\Users\\sit_k\\AppData\\Local\\Continuum\\anaconda3\\lib\\site-packages\\statsmodels\\regression\\linear_model.py:1358: RuntimeWarning: invalid value encountered in sqrt\n",
      "  return rho, np.sqrt(sigmasq)\n"
     ]
    },
    {
     "data": {
      "image/png": "[encoded data removed]",
      "text/plain": [
       "<Figure size 1080x288 with 1 Axes>"
      ]
     },
     "metadata": {
      "needs_background": "light"
     },
     "output_type": "display_data"
    }
   ],
   "source": [
    "fig3, ax = plt.subplots(figsize=(15, 4))\n",
    "plot_pacf(ts_monthly, alpha=.05, ax=ax, lags=30)\n",
    "plt.show()"
   ]
  },
  {
   "cell_type": "markdown",
   "metadata": {},
   "source": [
    "Weekly level appears to give us more information on the lag, we will focus on weekly time series data from now on. We also want to check the confident intervals on the autocorrelation."
   ]
  },
  {
   "cell_type": "code",
   "execution_count": 13,
   "metadata": {},
   "outputs": [
    {
     "name": "stdout",
     "output_type": "stream",
     "text": [
      "The approximate confidence interval is +/- 0.16\n"
     ]
    }
   ],
   "source": [
    "conf = 1.96/np.sqrt(len(ts_weekly))\n",
    "print(\"The approximate confidence interval is +/- %4.2f\" %(conf))"
   ]
  },
  {
   "cell_type": "code",
   "execution_count": 14,
   "metadata": {},
   "outputs": [
    {
     "data": {
      "image/png": "[encoded data removed]",
      "text/plain": [
       "<Figure size 432x288 with 4 Axes>"
      ]
     },
     "metadata": {
      "needs_background": "light"
     },
     "output_type": "display_data"
    }
   ],
   "source": [
    "import chart_studio.plotly\n",
    "from statsmodels.tsa.seasonal import seasonal_decompose\n",
    "result = seasonal_decompose(ts_weekly, model='multiplicative')\n",
    "fig = result.plot()"
   ]
  },
  {
   "cell_type": "markdown",
   "metadata": {},
   "source": [
    "### Random Walk Test\n",
    "\n",
    "**H0**: data follow patten of random walk\n",
    "<br>\n",
    "**H1**: data does not follow pattern of random walk\n",
    "\n",
    "Apply Dickey-Fuller test"
   ]
  },
  {
   "cell_type": "code",
   "execution_count": 15,
   "metadata": {},
   "outputs": [
    {
     "name": "stdout",
     "output_type": "stream",
     "text": [
      "(-5.704656865380627, 7.536734912512145e-07, 0, 147, {'1%': -3.4756368462466662, '5%': -2.8814104466172608, '10%': -2.5773652982553568}, 4141.481596579406)\n",
      "p-value is 0.0001%\n"
     ]
    }
   ],
   "source": [
    "results =adfuller(ts_weekly)\n",
    "print(results)\n",
    "print('p-value is {:.4%}'.format(results[1]))"
   ]
  },
  {
   "cell_type": "markdown",
   "metadata": {},
   "source": [
    "We will reject H0 that the data follow random walk pattern."
   ]
  },
  {
   "cell_type": "markdown",
   "metadata": {},
   "source": [
    "### Seasonality Adjustments\n",
    "\n",
    "We want to identify and remove the seasonal component from the data for later modeling purposes. From the autocorrelation analysis, we identify 2, 3, and 52 to be strong lags. We choose 52 because 2 and 3 significance disappear if we observed at the monthly level."
   ]
  },
  {
   "cell_type": "code",
   "execution_count": 16,
   "metadata": {},
   "outputs": [],
   "source": [
    "ts_weeklysa = ts_weekly.diff(periods=52)"
   ]
  },
  {
   "cell_type": "code",
   "execution_count": 17,
   "metadata": {},
   "outputs": [],
   "source": [
    "ts_weeklysa = ts_weeklysa.dropna()"
   ]
  },
  {
   "cell_type": "code",
   "execution_count": 18,
   "metadata": {},
   "outputs": [
    {
     "data": {
      "image/png": "[encoded data removed]",
      "text/plain": [
       "<Figure size 432x288 with 1 Axes>"
      ]
     },
     "metadata": {
      "needs_background": "light"
     },
     "output_type": "display_data"
    }
   ],
   "source": [
    "plot_acf(ts_weeklysa, alpha=.05)\n",
    "plt.show()"
   ]
  },
  {
   "cell_type": "markdown",
   "metadata": {},
   "source": [
    "## Modeling"
   ]
  },
  {
   "cell_type": "markdown",
   "metadata": {},
   "source": [
    "### Simple ARMA model\n",
    "\n",
    "We will start with model order 1 to get a naive based model predictions on sales. We split the dataset into train (Jan 2013 - Jul 2015) and test (Aug 2015 - Oct 2015)."
   ]
  },
  {
   "cell_type": "code",
   "execution_count": 19,
   "metadata": {},
   "outputs": [],
   "source": [
    "ttl_period = len(ts_weekly)\n",
    "pred_period = 12\n",
    "ts_train = ts_weekly[:-pred_period]\n",
    "ts_test = ts_weekly[-pred_period:]"
   ]
  },
  {
   "cell_type": "code",
   "execution_count": 20,
   "metadata": {},
   "outputs": [],
   "source": [
    "mod = ARMA(ts_train, order=(1,0))\n",
    "res = mod.fit()\n",
    "prediction = res.predict(start=ts_test.index[0], end=ts_test.index[-1])"
   ]
  },
  {
   "cell_type": "code",
   "execution_count": 21,
   "metadata": {},
   "outputs": [],
   "source": [
    "comparsion = pd.DataFrame({'predict': prediction, 'test': ts_test})"
   ]
  },
  {
   "cell_type": "code",
   "execution_count": 22,
   "metadata": {},
   "outputs": [
    {
     "name": "stdout",
     "output_type": "stream",
     "text": [
      "RMSE is 546,217,502,118\n"
     ]
    }
   ],
   "source": [
    "print('RMSE is {:,.0f}'.format(mean_squared_error(ts_test, prediction)))"
   ]
  },
  {
   "cell_type": "markdown",
   "metadata": {},
   "source": [
    "Above is the 1st order model result. We will find the optimal order(s) that will lead to the minimal BIC"
   ]
  },
  {
   "cell_type": "code",
   "execution_count": 23,
   "metadata": {},
   "outputs": [
    {
     "name": "stderr",
     "output_type": "stream",
     "text": [
      "C:\\Users\\sit_k\\AppData\\Local\\Continuum\\anaconda3\\lib\\site-packages\\statsmodels\\base\\model.py:512: ConvergenceWarning: Maximum Likelihood optimization failed to converge. Check mle_retvals\n",
      "  \"Check mle_retvals\", ConvergenceWarning)\n"
     ]
    },
    {
     "data": {
      "image/png": "[encoded data removed]",
      "text/plain": [
       "<Figure size 432x288 with 1 Axes>"
      ]
     },
     "metadata": {
      "needs_background": "light"
     },
     "output_type": "display_data"
    }
   ],
   "source": [
    "BIC = np.zeros(7)\n",
    "for p in range(7):\n",
    "    mod = ARMA(ts_train, order=(p,0))\n",
    "    res = mod.fit()\n",
    "# Save BIC for AR(p)    \n",
    "    BIC[p] = res.bic\n",
    "    \n",
    "# Plot the BIC as a function of p\n",
    "plt.plot(range(1,7), BIC[1:7], marker='o')\n",
    "plt.xlabel('Order of AR Model')\n",
    "plt.ylabel('Bayesian Information Criterion')\n",
    "plt.show()"
   ]
  },
  {
   "cell_type": "markdown",
   "metadata": {},
   "source": [
    "AR = 1 is the best parameter. We repeat the same process for finding MA, with AR already set at 1"
   ]
  },
  {
   "cell_type": "markdown",
   "metadata": {},
   "source": [
    "Using trial and error, it turns out MA=2 will result in the lowest RSME"
   ]
  },
  {
   "cell_type": "code",
   "execution_count": 24,
   "metadata": {},
   "outputs": [
    {
     "name": "stdout",
     "output_type": "stream",
     "text": [
      "RMSE is 370,080,391,659\n"
     ]
    }
   ],
   "source": [
    "mod_1 = ARMA(ts_train, order=(1,2))\n",
    "res_1 = mod_1.fit()\n",
    "prediction_1 = res_1.predict(start=ts_test.index[0], end=ts_test.index[-1])\n",
    "print('RMSE is {:,.0f}'.format(mean_squared_error(ts_test, prediction_1)))"
   ]
  },
  {
   "cell_type": "markdown",
   "metadata": {},
   "source": [
    "RSME dropped by 35% when MA order is added to the model"
   ]
  },
  {
   "cell_type": "markdown",
   "metadata": {},
   "source": [
    "Final step is to integrate the ARMA into ARIMA"
   ]
  },
  {
   "cell_type": "code",
   "execution_count": 25,
   "metadata": {},
   "outputs": [
    {
     "name": "stdout",
     "output_type": "stream",
     "text": [
      "RMSE is 8,650,559,485,142\n"
     ]
    }
   ],
   "source": [
    "mod_2 = ARIMA(ts_train, order=(1,1,2))\n",
    "res_2 = mod_2.fit()\n",
    "prediction_2 = res_2.predict(start=ts_test.index[0], end=ts_test.index[-1])\n",
    "print('RMSE is {:,.0f}'.format(mean_squared_error(ts_test, prediction_2)))"
   ]
  },
  {
   "cell_type": "code",
   "execution_count": 26,
   "metadata": {},
   "outputs": [],
   "source": [
    "comparsion = pd.DataFrame({'predict': prediction, 'predict_1': prediction_1, 'predict_2': prediction_2, 'test': ts_test})"
   ]
  },
  {
   "cell_type": "code",
   "execution_count": 27,
   "metadata": {},
   "outputs": [
    {
     "data": {
      "image/png": "[encoded data removed]",
      "text/plain": [
       "<Figure size 1080x360 with 1 Axes>"
      ]
     },
     "metadata": {
      "needs_background": "light"
     },
     "output_type": "display_data"
    }
   ],
   "source": [
    "plt.figure(figsize=(15,5))\n",
    "plt.plot(comparsion['predict'], color='b', linestyle='dashed', label='AR')\n",
    "plt.plot(comparsion['predict_1'], color='g', linestyle='dashed', label='ARMA')\n",
    "plt.plot(comparsion['predict_2'], color='black', linestyle='dashed', label='ARIMA')\n",
    "plt.plot(comparsion['test'], color='r', label='test')\n",
    "plt.title('Graphical comparison on model forecast to actuals')\n",
    "plt.legend(loc='best')\n",
    "plt.xlabel('date')\n",
    "plt.ylabel('sales')\n",
    "plt.show()"
   ]
  },
  {
   "cell_type": "markdown",
   "metadata": {},
   "source": [
    "#### Model Comparison"
   ]
  },
  {
   "cell_type": "code",
   "execution_count": 28,
   "metadata": {},
   "outputs": [],
   "source": [
    "model = pd.DataFrame({'model': ['AR', 'ARMA', 'ARIMA'], \n",
    "                      'RMSE': [mean_squared_error(ts_test, prediction), mean_squared_error(ts_test, prediction_1), mean_squared_error(ts_test, prediction_2)],\n",
    "                     'AIC+BIC':[(res.aic+res.bic), (res_1.aic+res_1.bic), (res_2.aic+res_2.bic)]})"
   ]
  },
  {
   "cell_type": "code",
   "execution_count": 29,
   "metadata": {},
   "outputs": [
    {
     "data": {
      "text/html": [
       "<div>\n",
       "<style scoped>\n",
       "    .dataframe tbody tr th:only-of-type {\n",
       "        vertical-align: middle;\n",
       "    }\n",
       "\n",
       "    .dataframe tbody tr th {\n",
       "        vertical-align: top;\n",
       "    }\n",
       "\n",
       "    .dataframe thead th {\n",
       "        text-align: right;\n",
       "    }\n",
       "</style>\n",
       "<table border=\"1\" class=\"dataframe\">\n",
       "  <thead>\n",
       "    <tr style=\"text-align: right;\">\n",
       "      <th></th>\n",
       "      <th>RMSE</th>\n",
       "      <th>AIC+BIC</th>\n",
       "    </tr>\n",
       "    <tr>\n",
       "      <th>model</th>\n",
       "      <th></th>\n",
       "      <th></th>\n",
       "    </tr>\n",
       "  </thead>\n",
       "  <tbody>\n",
       "    <tr>\n",
       "      <th>AR</th>\n",
       "      <td>5.462175e+11</td>\n",
       "      <td>8500.780393</td>\n",
       "    </tr>\n",
       "    <tr>\n",
       "      <th>ARMA</th>\n",
       "      <td>3.700804e+11</td>\n",
       "      <td>8483.700826</td>\n",
       "    </tr>\n",
       "    <tr>\n",
       "      <th>ARIMA</th>\n",
       "      <td>8.650559e+12</td>\n",
       "      <td>8430.807331</td>\n",
       "    </tr>\n",
       "  </tbody>\n",
       "</table>\n",
       "</div>"
      ],
      "text/plain": [
       "               RMSE      AIC+BIC\n",
       "model                           \n",
       "AR     5.462175e+11  8500.780393\n",
       "ARMA   3.700804e+11  8483.700826\n",
       "ARIMA  8.650559e+12  8430.807331"
      ]
     },
     "execution_count": 29,
     "metadata": {},
     "output_type": "execute_result"
    }
   ],
   "source": [
    "model.set_index('model')"
   ]
  },
  {
   "cell_type": "markdown",
   "metadata": {},
   "source": [
    "### Observations\n",
    "\n",
    "ARMA has the smallest RMSE. AIC+BIC scores across all models are similar."
   ]
  },
  {
   "cell_type": "markdown",
   "metadata": {},
   "source": [
    "### Next Steps\n",
    "\n",
    "Perform time based cross validation, using expanding and sliding windows. We will also apply other time series model such as Prophet, Multivariate Time Series Model, and Regime Switching Model."
   ]
  },
  {
   "cell_type": "markdown",
   "metadata": {},
   "source": [
    "#### Cross validations"
   ]
  },
  {
   "cell_type": "code",
   "execution_count": 30,
   "metadata": {},
   "outputs": [],
   "source": [
    "# Define a function for the ARIMA model train and RSME generation\n",
    "# This function is accessing RSME for predicting 10 weeks out forecast with expanding data window\n",
    "def arima_rsme(data_set, n):\n",
    "    a = data_set[:-n]\n",
    "    b = data_set[-n:-n+10]\n",
    "    mod = ARIMA(a, order=(1,0,2))\n",
    "    res = mod.fit()\n",
    "    pred = res.predict(start=b.index[0], end=b.index[-1])\n",
    "    rmse = mean_squared_error(b, pred)\n",
    "    return rmse"
   ]
  },
  {
   "cell_type": "code",
   "execution_count": 31,
   "metadata": {},
   "outputs": [
    {
     "name": "stdout",
     "output_type": "stream",
     "text": [
      "RMSE is 866,933,942,687\n"
     ]
    }
   ],
   "source": [
    "# testing function\n",
    "print('RMSE is {:,.0f}'.format(arima_rsme(ts_weekly, 15)))"
   ]
  },
  {
   "cell_type": "code",
   "execution_count": 32,
   "metadata": {},
   "outputs": [
    {
     "name": "stdout",
     "output_type": "stream",
     "text": [
      "10 weeks out RMSE is 2451456850311\n",
      "10 weeks out RMSE is 11122880923626\n",
      "10 weeks out RMSE is 1997357797641\n",
      "10 weeks out RMSE is 1856090303743\n",
      "10 weeks out RMSE is 439209562347\n"
     ]
    }
   ],
   "source": [
    "for i in [60, 48, 36, 24, 12]:\n",
    "    print('10 weeks out RMSE is {:.0f}'.format(arima_rsme(ts_weekly,i)))"
   ]
  },
  {
   "cell_type": "markdown",
   "metadata": {},
   "source": [
    "The RSME continue to get larger as the train set size decrease on predicting 10 weeks out forecast. It could mean that current dataset does not provide ARIMA model enough data point to have consistent performance, or the data are not very stationary afterall."
   ]
  },
  {
   "cell_type": "markdown",
   "metadata": {},
   "source": [
    "## Prophet\n",
    "\n",
    "The model works well with continuous time data. We will switch apply the daily level data set to the model"
   ]
  },
  {
   "cell_type": "code",
   "execution_count": 33,
   "metadata": {},
   "outputs": [],
   "source": [
    "from fbprophet import Prophet\n",
    "import logging\n",
    "logging.getLogger().setLevel(logging.ERROR)"
   ]
  },
  {
   "cell_type": "code",
   "execution_count": 34,
   "metadata": {},
   "outputs": [
    {
     "data": {
      "text/html": [
       "<div>\n",
       "<style scoped>\n",
       "    .dataframe tbody tr th:only-of-type {\n",
       "        vertical-align: middle;\n",
       "    }\n",
       "\n",
       "    .dataframe tbody tr th {\n",
       "        vertical-align: top;\n",
       "    }\n",
       "\n",
       "    .dataframe thead th {\n",
       "        text-align: right;\n",
       "    }\n",
       "</style>\n",
       "<table border=\"1\" class=\"dataframe\">\n",
       "  <thead>\n",
       "    <tr style=\"text-align: right;\">\n",
       "      <th></th>\n",
       "      <th>ds</th>\n",
       "      <th>y</th>\n",
       "    </tr>\n",
       "  </thead>\n",
       "  <tbody>\n",
       "    <tr>\n",
       "      <th>0</th>\n",
       "      <td>2013-01-01</td>\n",
       "      <td>1362942.00</td>\n",
       "    </tr>\n",
       "    <tr>\n",
       "      <th>1</th>\n",
       "      <td>2013-01-02</td>\n",
       "      <td>6020512.03</td>\n",
       "    </tr>\n",
       "    <tr>\n",
       "      <th>2</th>\n",
       "      <td>2013-01-03</td>\n",
       "      <td>5436480.11</td>\n",
       "    </tr>\n",
       "    <tr>\n",
       "      <th>3</th>\n",
       "      <td>2013-01-04</td>\n",
       "      <td>4755664.00</td>\n",
       "    </tr>\n",
       "    <tr>\n",
       "      <th>4</th>\n",
       "      <td>2013-01-05</td>\n",
       "      <td>4587231.00</td>\n",
       "    </tr>\n",
       "  </tbody>\n",
       "</table>\n",
       "</div>"
      ],
      "text/plain": [
       "          ds           y\n",
       "0 2013-01-01  1362942.00\n",
       "1 2013-01-02  6020512.03\n",
       "2 2013-01-03  5436480.11\n",
       "3 2013-01-04  4755664.00\n",
       "4 2013-01-05  4587231.00"
      ]
     },
     "execution_count": 34,
     "metadata": {},
     "output_type": "execute_result"
    }
   ],
   "source": [
    "prophet_df = ts_daily.reset_index()\n",
    "prophet_df.columns = ['ds','y']\n",
    "prophet_df.head()"
   ]
  },
  {
   "cell_type": "code",
   "execution_count": 35,
   "metadata": {},
   "outputs": [],
   "source": [
    "prophet_df.ds = pd.to_datetime(prophet_df.ds)\n",
    "prophet_df.y = prophet_df.y.astype('float')"
   ]
  },
  {
   "cell_type": "code",
   "execution_count": 36,
   "metadata": {},
   "outputs": [
    {
     "name": "stdout",
     "output_type": "stream",
     "text": [
      "<class 'pandas.core.frame.DataFrame'>\n",
      "RangeIndex: 1034 entries, 0 to 1033\n",
      "Data columns (total 2 columns):\n",
      "ds    1034 non-null datetime64[ns]\n",
      "y     1034 non-null float64\n",
      "dtypes: datetime64[ns](1), float64(1)\n",
      "memory usage: 16.2 KB\n"
     ]
    }
   ],
   "source": [
    "prophet_df.info()"
   ]
  },
  {
   "cell_type": "code",
   "execution_count": 37,
   "metadata": {},
   "outputs": [],
   "source": [
    "pred_size = 30\n",
    "train_df = prophet_df[:-pred_size]"
   ]
  },
  {
   "cell_type": "code",
   "execution_count": null,
   "metadata": {},
   "outputs": [],
   "source": [
    "m = Prophet()"
   ]
  },
  {
   "cell_type": "code",
   "execution_count": null,
   "metadata": {},
   "outputs": [],
   "source": [
    "m.fit(train_df)"
   ]
  },
  {
   "cell_type": "code",
   "execution_count": null,
   "metadata": {},
   "outputs": [],
   "source": [
    "future = m.make_future_dataframe(periods=pred_size, freq='W')\n",
    "pred = m.predict(future)"
   ]
  },
  {
   "cell_type": "code",
   "execution_count": null,
   "metadata": {},
   "outputs": [],
   "source": [
    "pred.head()"
   ]
  },
  {
   "cell_type": "code",
   "execution_count": null,
   "metadata": {},
   "outputs": [],
   "source": []
  }
 ],
 "metadata": {
  "kernelspec": {
   "display_name": "Python 3",
   "language": "python",
   "name": "python3"
  },
  "language_info": {
   "codemirror_mode": {
    "name": "ipython",
    "version": 3
   },
   "file_extension": ".py",
   "mimetype": "text/x-python",
   "name": "python",
   "nbconvert_exporter": "python",
   "pygments_lexer": "ipython3",
   "version": "3.7.3"
  }
 },
 "nbformat": 4,
 "nbformat_minor": 2
}
