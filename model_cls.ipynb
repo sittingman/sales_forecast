{
 "cells": [
  {
   "cell_type": "code",
   "execution_count": 1,
   "metadata": {},
   "outputs": [
    {
     "name": "stderr",
     "output_type": "stream",
     "text": [
      "C:\\Users\\sit_k\\AppData\\Local\\Continuum\\anaconda3\\lib\\site-packages\\statsmodels\\tools\\_testing.py:19: FutureWarning: pandas.util.testing is deprecated. Use the functions in the public API at pandas.testing instead.\n",
      "  import pandas.util.testing as tm\n"
     ]
    }
   ],
   "source": [
    "import numpy as np\n",
    "import pandas as pd\n",
    "from datetime import datetime as dt\n",
    "from pandas.plotting import register_matplotlib_converters\n",
    "register_matplotlib_converters()\n",
    "from sklearn.metrics import mean_squared_error\n",
    "from sklearn.ensemble import RandomForestRegressor\n",
    "import xgboost as xgb\n",
    "from xgboost import XGBRegressor\n",
    "from xgboost import plot_importance\n",
    "import matplotlib.pyplot as plt\n",
    "import holidays\n",
    "import seaborn as sns\n",
    "from sklearn import linear_model\n",
    "sns.set()\n",
    "%matplotlib inline "
   ]
  },
  {
   "cell_type": "markdown",
   "metadata": {},
   "source": [
    "### Feature engineering\n",
    "\n",
    "Since we want to apply classification model, we will create new attributes from the dataset so that the models can learn. \n",
    "<br>\n",
    "\n",
    "Based on the exploratory analysis, the following features would be relevant:\n",
    "- month\n",
    "- dayofweek\n",
    "- holiday vs normal day\n",
    "- product category\n",
    "- shop id\n",
    "\n",
    "\n",
    "However, the test set for the submission is asking us to submit at total month level, so the dayofweek and holiday features would be applicable. We left with month, product category and shop id"
   ]
  },
  {
   "cell_type": "code",
   "execution_count": 2,
   "metadata": {},
   "outputs": [],
   "source": [
    "raw_df = pd.read_csv('data/train_df.csv', parse_dates=['date'])\n",
    "# outlier removal steps as identified in exploratory analysis\n",
    "id_out = [11, 14, 15, 12]\n",
    "raw_df.loc[(raw_df.date == '2013-11-29') & (raw_df.item_category_id.isin(id_out)), 'sales'] = np.nan\n",
    "raw_df.loc[(raw_df.date_block_num == 10) & (raw_df.item_category_id.isin(id_out))].interpolate(method='linear');"
   ]
  },
  {
   "cell_type": "code",
   "execution_count": 3,
   "metadata": {},
   "outputs": [],
   "source": [
    "raw_df['month'] = raw_df['date'].dt.month"
   ]
  },
  {
   "cell_type": "code",
   "execution_count": 4,
   "metadata": {},
   "outputs": [],
   "source": [
    "# daily level info would not match the test data set, hence groupby month\n",
    "month_df = raw_df.groupby(['date_block_num', 'shop_id', 'item_id'])['item_cnt_day'].sum().reset_index()"
   ]
  },
  {
   "cell_type": "code",
   "execution_count": 5,
   "metadata": {},
   "outputs": [],
   "source": [
    "month_df['shop_item'] = month_df['item_id'].astype('str') + '_' + month_df['shop_id'].astype('str')"
   ]
  },
  {
   "cell_type": "code",
   "execution_count": 6,
   "metadata": {},
   "outputs": [],
   "source": [
    "month_df.sort_values(['shop_item', 'date_block_num'], ascending=['True', 'True'], inplace=True)"
   ]
  },
  {
   "cell_type": "code",
   "execution_count": 7,
   "metadata": {},
   "outputs": [],
   "source": [
    "month_df['lag_1'] = month_df['date_block_num'] -1\n",
    "month_df['lag_3'] = month_df['date_block_num'] -3\n",
    "month_df['lag_6'] = month_df['date_block_num'] -6"
   ]
  },
  {
   "cell_type": "code",
   "execution_count": 8,
   "metadata": {},
   "outputs": [],
   "source": [
    "month_df_helper = month_df[['date_block_num', 'item_cnt_day', 'shop_item']]"
   ]
  },
  {
   "cell_type": "code",
   "execution_count": 9,
   "metadata": {},
   "outputs": [],
   "source": [
    "month_combine = pd.merge(month_df, month_df_helper, left_on=['lag_1', 'shop_item'], right_on=['date_block_num','shop_item'], how='left', suffixes=['', '_lag1'])\n",
    "month_combine = pd.merge(month_combine, month_df_helper, left_on=['lag_3', 'shop_item'], right_on=['date_block_num','shop_item'], how='left', suffixes=['', '_lag3'])\n",
    "month_combine = pd.merge(month_combine, month_df_helper, left_on=['lag_6', 'shop_item'], right_on=['date_block_num','shop_item'], how='left', suffixes=['', '_lag6'])"
   ]
  },
  {
   "cell_type": "code",
   "execution_count": 10,
   "metadata": {},
   "outputs": [],
   "source": [
    "month_combine['lag_1_pct'] = month_combine['item_cnt_day'] - month_combine['item_cnt_day_lag1']\n",
    "month_combine['lag_3_pct'] = month_combine['item_cnt_day'] - month_combine['item_cnt_day_lag3']\n",
    "month_combine['lag_6_pct'] = month_combine['item_cnt_day'] - month_combine['item_cnt_day_lag6']"
   ]
  },
  {
   "cell_type": "code",
   "execution_count": 11,
   "metadata": {},
   "outputs": [],
   "source": [
    "month_combine.dropna(axis=0, how='any', inplace=True)"
   ]
  },
  {
   "cell_type": "code",
   "execution_count": 12,
   "metadata": {},
   "outputs": [],
   "source": [
    "final = month_combine[['date_block_num', 'shop_id', 'item_id', 'item_cnt_day','lag_1_pct','lag_3_pct', 'lag_6_pct']]"
   ]
  },
  {
   "cell_type": "code",
   "execution_count": 13,
   "metadata": {},
   "outputs": [
    {
     "data": {
      "text/html": [
       "<div>\n",
       "<style scoped>\n",
       "    .dataframe tbody tr th:only-of-type {\n",
       "        vertical-align: middle;\n",
       "    }\n",
       "\n",
       "    .dataframe tbody tr th {\n",
       "        vertical-align: top;\n",
       "    }\n",
       "\n",
       "    .dataframe thead th {\n",
       "        text-align: right;\n",
       "    }\n",
       "</style>\n",
       "<table border=\"1\" class=\"dataframe\">\n",
       "  <thead>\n",
       "    <tr style=\"text-align: right;\">\n",
       "      <th></th>\n",
       "      <th>date_block_num</th>\n",
       "      <th>shop_id</th>\n",
       "      <th>item_id</th>\n",
       "      <th>item_cnt_day</th>\n",
       "      <th>lag_1_pct</th>\n",
       "      <th>lag_3_pct</th>\n",
       "      <th>lag_6_pct</th>\n",
       "    </tr>\n",
       "  </thead>\n",
       "  <tbody>\n",
       "    <tr>\n",
       "      <th>146</th>\n",
       "      <td>24</td>\n",
       "      <td>31</td>\n",
       "      <td>10003</td>\n",
       "      <td>1.0</td>\n",
       "      <td>-1.0</td>\n",
       "      <td>0.0</td>\n",
       "      <td>-1.0</td>\n",
       "    </tr>\n",
       "    <tr>\n",
       "      <th>219</th>\n",
       "      <td>6</td>\n",
       "      <td>31</td>\n",
       "      <td>10004</td>\n",
       "      <td>2.0</td>\n",
       "      <td>1.0</td>\n",
       "      <td>-1.0</td>\n",
       "      <td>1.0</td>\n",
       "    </tr>\n",
       "    <tr>\n",
       "      <th>220</th>\n",
       "      <td>7</td>\n",
       "      <td>31</td>\n",
       "      <td>10004</td>\n",
       "      <td>1.0</td>\n",
       "      <td>-1.0</td>\n",
       "      <td>-1.0</td>\n",
       "      <td>-1.0</td>\n",
       "    </tr>\n",
       "    <tr>\n",
       "      <th>221</th>\n",
       "      <td>8</td>\n",
       "      <td>31</td>\n",
       "      <td>10004</td>\n",
       "      <td>1.0</td>\n",
       "      <td>0.0</td>\n",
       "      <td>0.0</td>\n",
       "      <td>-1.0</td>\n",
       "    </tr>\n",
       "    <tr>\n",
       "      <th>225</th>\n",
       "      <td>18</td>\n",
       "      <td>31</td>\n",
       "      <td>10004</td>\n",
       "      <td>1.0</td>\n",
       "      <td>0.0</td>\n",
       "      <td>0.0</td>\n",
       "      <td>0.0</td>\n",
       "    </tr>\n",
       "  </tbody>\n",
       "</table>\n",
       "</div>"
      ],
      "text/plain": [
       "     date_block_num  shop_id  item_id  item_cnt_day  lag_1_pct  lag_3_pct  \\\n",
       "146              24       31    10003           1.0       -1.0        0.0   \n",
       "219               6       31    10004           2.0        1.0       -1.0   \n",
       "220               7       31    10004           1.0       -1.0       -1.0   \n",
       "221               8       31    10004           1.0        0.0        0.0   \n",
       "225              18       31    10004           1.0        0.0        0.0   \n",
       "\n",
       "     lag_6_pct  \n",
       "146       -1.0  \n",
       "219        1.0  \n",
       "220       -1.0  \n",
       "221       -1.0  \n",
       "225        0.0  "
      ]
     },
     "execution_count": 13,
     "metadata": {},
     "output_type": "execute_result"
    }
   ],
   "source": [
    "final.head()"
   ]
  },
  {
   "cell_type": "code",
   "execution_count": 14,
   "metadata": {},
   "outputs": [],
   "source": [
    "train = final[final.date_block_num != 33]\n",
    "test =final[final.date_block_num == 33]"
   ]
  },
  {
   "cell_type": "code",
   "execution_count": 15,
   "metadata": {},
   "outputs": [],
   "source": [
    "train_f = train.drop(['item_cnt_day'], axis=1)\n",
    "train_t = train['item_cnt_day']"
   ]
  },
  {
   "cell_type": "code",
   "execution_count": 16,
   "metadata": {},
   "outputs": [],
   "source": [
    "test_f = test.drop(['item_cnt_day'], axis=1)\n",
    "test_t = test['item_cnt_day']"
   ]
  },
  {
   "cell_type": "code",
   "execution_count": 17,
   "metadata": {},
   "outputs": [],
   "source": [
    "DM_train = xgb.DMatrix(data=train_f, label=train_t)\n",
    "DM_test =  xgb.DMatrix(data=test_f, label=test_t)"
   ]
  },
  {
   "cell_type": "code",
   "execution_count": 18,
   "metadata": {},
   "outputs": [],
   "source": [
    "params = {\"booster\":\"gblinear\", \"objective\":\"reg:squarederror\", 'max_depth':5, 'n_estimators':1000, 'min_child_weight':30, 'colsample_bytree': 0.8, \n",
    "          'subsample':0.8, 'eta' :0.3, 'seed':42}"
   ]
  },
  {
   "cell_type": "code",
   "execution_count": 19,
   "metadata": {},
   "outputs": [],
   "source": [
    "xg_reg = xgb.train(params = params, dtrain=DM_train, num_boost_round=5)"
   ]
  },
  {
   "cell_type": "code",
   "execution_count": 20,
   "metadata": {},
   "outputs": [
    {
     "name": "stdout",
     "output_type": "stream",
     "text": [
      "RMSE: 24.348302\n"
     ]
    }
   ],
   "source": [
    "preds = xg_reg.predict(DM_test)\n",
    "\n",
    "rmse = np.sqrt(mean_squared_error(test_t,preds))\n",
    "print(\"RMSE: %f\" % (rmse))"
   ]
  },
  {
   "cell_type": "code",
   "execution_count": 21,
   "metadata": {},
   "outputs": [],
   "source": [
    "rfc = RandomForestRegressor()"
   ]
  },
  {
   "cell_type": "code",
   "execution_count": 22,
   "metadata": {},
   "outputs": [
    {
     "data": {
      "text/plain": [
       "RandomForestRegressor(bootstrap=True, ccp_alpha=0.0, criterion='mse',\n",
       "                      max_depth=None, max_features='auto', max_leaf_nodes=None,\n",
       "                      max_samples=None, min_impurity_decrease=0.0,\n",
       "                      min_impurity_split=None, min_samples_leaf=1,\n",
       "                      min_samples_split=2, min_weight_fraction_leaf=0.0,\n",
       "                      n_estimators=100, n_jobs=None, oob_score=False,\n",
       "                      random_state=None, verbose=0, warm_start=False)"
      ]
     },
     "execution_count": 22,
     "metadata": {},
     "output_type": "execute_result"
    }
   ],
   "source": [
    "rfc.fit(train_f, train_t)"
   ]
  },
  {
   "cell_type": "code",
   "execution_count": 23,
   "metadata": {},
   "outputs": [],
   "source": [
    "pred_rfc = rfc.predict(test_f)"
   ]
  },
  {
   "cell_type": "code",
   "execution_count": 24,
   "metadata": {},
   "outputs": [
    {
     "name": "stdout",
     "output_type": "stream",
     "text": [
      "RMSE: 24.504742\n"
     ]
    }
   ],
   "source": [
    "regr = linear_model.LinearRegression()\n",
    "regr.fit(train_f, train_t)\n",
    "pred_reg = regr.predict(test_f)\n",
    "rmse_reg = np.sqrt(mean_squared_error(test_t, pred_reg))\n",
    "print(\"RMSE: %f\" % (rmse_reg))"
   ]
  },
  {
   "cell_type": "code",
   "execution_count": null,
   "metadata": {},
   "outputs": [],
   "source": []
  }
 ],
 "metadata": {
  "kernelspec": {
   "display_name": "Python 3",
   "language": "python",
   "name": "python3"
  },
  "language_info": {
   "codemirror_mode": {
    "name": "ipython",
    "version": 3
   },
   "file_extension": ".py",
   "mimetype": "text/x-python",
   "name": "python",
   "nbconvert_exporter": "python",
   "pygments_lexer": "ipython3",
   "version": "3.7.3"
  }
 },
 "nbformat": 4,
 "nbformat_minor": 4
}
