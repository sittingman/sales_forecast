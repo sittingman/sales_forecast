{
 "cells": [
  {
   "cell_type": "markdown",
   "metadata": {},
   "source": [
    "### Classificaton Models\n",
    "\n",
    "In this workbook, we will focus on feature creations to fit two classification models (Xgboost and Random Forest) and one linear model (Ridge) \n",
    "<br>\n",
    "\n",
    "Based on the exploratory analysis, the following features were identified:\n",
    "- month\n",
    "- dayofweek\n",
    "- product category\n",
    "- shop id\n",
    "\n",
    "However, the test set for the submission is asking us to submit at monthly level, so the dayofweek and holiday features would not be applicable. We left with month, product category and shop id.\n",
    "\n",
    "From the time series analysis, we do observe seasonality for the sale pattern, hence lag features would be useful too."
   ]
  },
  {
   "cell_type": "code",
   "execution_count": 1,
   "metadata": {
    "execution": {
     "iopub.status.idle": "2020-09-14T15:40:47.621302Z",
     "shell.execute_reply": "2020-09-14T15:40:47.621302Z",
     "shell.execute_reply.started": "2020-09-14T15:40:44.524203Z"
    }
   },
   "outputs": [
    {
     "name": "stderr",
     "output_type": "stream",
     "text": [
      "C:\\Users\\sit_k\\AppData\\Local\\Continuum\\anaconda3\\lib\\site-packages\\statsmodels\\tools\\_testing.py:19: FutureWarning: pandas.util.testing is deprecated. Use the functions in the public API at pandas.testing instead.\n",
      "  import pandas.util.testing as tm\n"
     ]
    }
   ],
   "source": [
    "from datetime import datetime as dt\n",
    "\n",
    "import holidays\n",
    "import matplotlib.pyplot as plt\n",
    "import numpy as np\n",
    "import pandas as pd\n",
    "import seaborn as sns\n",
    "import xgboost as xgb\n",
    "from pandas.plotting import register_matplotlib_converters\n",
    "from sklearn import linear_model\n",
    "from sklearn.ensemble import RandomForestRegressor\n",
    "from sklearn.metrics import mean_squared_error\n",
    "from xgboost import XGBRegressor, plot_importance\n",
    "\n",
    "register_matplotlib_converters()\n",
    "sns.set()\n",
    "%matplotlib inline"
   ]
  },
  {
   "cell_type": "code",
   "execution_count": 2,
   "metadata": {
    "execution": {
     "iopub.execute_input": "2020-09-14T15:40:47.626284Z",
     "iopub.status.busy": "2020-09-14T15:40:47.626284Z",
     "iopub.status.idle": "2020-09-14T15:40:59.804263Z",
     "shell.execute_reply": "2020-09-14T15:40:59.804263Z",
     "shell.execute_reply.started": "2020-09-14T15:40:47.626284Z"
    }
   },
   "outputs": [],
   "source": [
    "raw_df = pd.read_csv('data/train_df.csv', parse_dates=['date'])\n",
    "# outlier removal steps as identified in exploratory analysis\n",
    "id_out = [11, 14, 15, 12]\n",
    "raw_df.loc[(raw_df.date == '2013-11-29') &\n",
    "           (raw_df.item_category_id.isin(id_out)), 'sales'] = np.nan\n",
    "raw_df.loc[(raw_df.date_block_num == 10) & (\n",
    "    raw_df.item_category_id.isin(id_out))].interpolate(method='linear');"
   ]
  },
  {
   "cell_type": "code",
   "execution_count": 3,
   "metadata": {
    "execution": {
     "iopub.execute_input": "2020-09-14T15:40:59.813513Z",
     "iopub.status.busy": "2020-09-14T15:40:59.813329Z",
     "iopub.status.idle": "2020-09-14T15:40:59.830205Z",
     "shell.execute_reply": "2020-09-14T15:40:59.829451Z",
     "shell.execute_reply.started": "2020-09-14T15:40:59.813513Z"
    }
   },
   "outputs": [
    {
     "data": {
      "text/plain": [
       "(2916104, 11)"
      ]
     },
     "execution_count": 3,
     "metadata": {},
     "output_type": "execute_result"
    }
   ],
   "source": [
    "raw_df.shape"
   ]
  },
  {
   "cell_type": "markdown",
   "metadata": {},
   "source": [
    "#### Convert daily dataframe info monthly"
   ]
  },
  {
   "cell_type": "code",
   "execution_count": 4,
   "metadata": {
    "execution": {
     "iopub.execute_input": "2020-09-14T15:40:59.833532Z",
     "iopub.status.busy": "2020-09-14T15:40:59.832307Z",
     "iopub.status.idle": "2020-09-14T15:41:00.358480Z",
     "shell.execute_reply": "2020-09-14T15:41:00.356486Z",
     "shell.execute_reply.started": "2020-09-14T15:40:59.833532Z"
    }
   },
   "outputs": [],
   "source": [
    "raw_df['month'] = raw_df['date'].dt.month"
   ]
  },
  {
   "cell_type": "code",
   "execution_count": 5,
   "metadata": {
    "execution": {
     "iopub.execute_input": "2020-09-14T15:41:00.360320Z",
     "iopub.status.busy": "2020-09-14T15:41:00.360320Z",
     "iopub.status.idle": "2020-09-14T15:41:03.194004Z",
     "shell.execute_reply": "2020-09-14T15:41:03.194004Z",
     "shell.execute_reply.started": "2020-09-14T15:41:00.360320Z"
    }
   },
   "outputs": [],
   "source": [
    "month_df = raw_df.groupby(['date_block_num', 'shop_id', 'item_id', 'item_category_id', 'month']).agg(\n",
    "    {'item_cnt_day': 'sum', 'item_price': 'mean'}).reset_index()"
   ]
  },
  {
   "cell_type": "code",
   "execution_count": 6,
   "metadata": {
    "execution": {
     "iopub.execute_input": "2020-09-14T15:41:03.197830Z",
     "iopub.status.busy": "2020-09-14T15:41:03.196117Z",
     "iopub.status.idle": "2020-09-14T15:41:14.905571Z",
     "shell.execute_reply": "2020-09-14T15:41:14.905571Z",
     "shell.execute_reply.started": "2020-09-14T15:41:03.196117Z"
    }
   },
   "outputs": [],
   "source": [
    "# create two helper columns, shop_item and shop_item_date_block_num ('helper'), which will be used for data imputation\n",
    "month_df['shop_item'] = month_df['item_id'].astype(\n",
    "    'str') + '_' + month_df['shop_id'].astype('str')\n",
    "month_df['helper'] = month_df['item_id'].astype(\n",
    "    'str') + '_' + month_df['shop_id'].astype('str') + '_' + month_df['date_block_num'].astype('str')"
   ]
  },
  {
   "cell_type": "markdown",
   "metadata": {},
   "source": [
    "##### Imputing records to ensure all sku/shop have 33 periods of data"
   ]
  },
  {
   "cell_type": "code",
   "execution_count": 7,
   "metadata": {
    "execution": {
     "iopub.execute_input": "2020-09-14T15:41:14.907636Z",
     "iopub.status.busy": "2020-09-14T15:41:14.907636Z",
     "iopub.status.idle": "2020-09-14T15:41:18.073695Z",
     "shell.execute_reply": "2020-09-14T15:41:18.073695Z",
     "shell.execute_reply.started": "2020-09-14T15:41:14.907636Z"
    }
   },
   "outputs": [],
   "source": [
    "# these are tempoarily table to be used to refill values for missing records\n",
    "item = pd.read_csv('data/items.csv', index_col=1)\n",
    "subset_data = month_df[['shop_item']].drop_duplicates().reset_index(drop=True)\n",
    "subset_price = month_df[['shop_item', 'item_price']\n",
    "                        ].drop_duplicates().reset_index(drop=True)\n",
    "subset_price = subset_price.groupby(['shop_item']).agg({'item_price': 'mean'})\n",
    "month_num = month_df[['date_block_num', 'month']\n",
    "                     ].drop_duplicates().reset_index(drop=True)"
   ]
  },
  {
   "cell_type": "code",
   "execution_count": 8,
   "metadata": {
    "execution": {
     "iopub.execute_input": "2020-09-14T15:41:18.081174Z",
     "iopub.status.busy": "2020-09-14T15:41:18.081174Z",
     "iopub.status.idle": "2020-09-14T15:41:18.088639Z",
     "shell.execute_reply": "2020-09-14T15:41:18.086639Z",
     "shell.execute_reply.started": "2020-09-14T15:41:18.081174Z"
    }
   },
   "outputs": [],
   "source": [
    "from itertools import product"
   ]
  },
  {
   "cell_type": "code",
   "execution_count": 9,
   "metadata": {
    "execution": {
     "iopub.execute_input": "2020-09-14T15:41:18.092241Z",
     "iopub.status.busy": "2020-09-14T15:41:18.092241Z",
     "iopub.status.idle": "2020-09-14T15:41:56.720482Z",
     "shell.execute_reply": "2020-09-14T15:41:56.720482Z",
     "shell.execute_reply.started": "2020-09-14T15:41:18.092241Z"
    }
   },
   "outputs": [],
   "source": [
    "combo = pd.DataFrame(data=list(product(subset_data['shop_item'], range(\n",
    "    0, 34))), columns=['shop_item', 'date_block_num'])\n",
    "# this helper column will be used to match data bace from month_df dataframe\n",
    "combo['helper'] = combo['shop_item'].astype(\n",
    "    'str') + '_' + combo['date_block_num'].astype('str')"
   ]
  },
  {
   "cell_type": "code",
   "execution_count": 10,
   "metadata": {
    "execution": {
     "iopub.execute_input": "2020-09-14T15:41:56.722570Z",
     "iopub.status.busy": "2020-09-14T15:41:56.722570Z",
     "iopub.status.idle": "2020-09-14T15:42:25.519061Z",
     "shell.execute_reply": "2020-09-14T15:42:25.519061Z",
     "shell.execute_reply.started": "2020-09-14T15:41:56.722570Z"
    }
   },
   "outputs": [],
   "source": [
    "df_combine = pd.merge(combo, month_df, on=['helper'], how='left')"
   ]
  },
  {
   "cell_type": "code",
   "execution_count": 11,
   "metadata": {
    "execution": {
     "iopub.execute_input": "2020-09-14T15:42:25.522277Z",
     "iopub.status.busy": "2020-09-14T15:42:25.521090Z",
     "iopub.status.idle": "2020-09-14T15:42:29.755038Z",
     "shell.execute_reply": "2020-09-14T15:42:29.753786Z",
     "shell.execute_reply.started": "2020-09-14T15:42:25.522277Z"
    }
   },
   "outputs": [],
   "source": [
    "df_combine.drop(columns=['date_block_num_y', 'shop_item_y',\n",
    "                         'shop_id', 'item_id', 'month'], inplace=True)"
   ]
  },
  {
   "cell_type": "markdown",
   "metadata": {},
   "source": [
    "The follow steps are to recreate shop_id, item_id, and month event for all records"
   ]
  },
  {
   "cell_type": "code",
   "execution_count": 12,
   "metadata": {
    "execution": {
     "iopub.execute_input": "2020-09-14T15:42:29.758151Z",
     "iopub.status.busy": "2020-09-14T15:42:29.757149Z",
     "iopub.status.idle": "2020-09-14T15:43:31.438134Z",
     "shell.execute_reply": "2020-09-14T15:43:31.438134Z",
     "shell.execute_reply.started": "2020-09-14T15:42:29.757149Z"
    }
   },
   "outputs": [],
   "source": [
    "df_combine[['item_id', 'shop_id']] = df_combine['shop_item_x'].str.split(\n",
    "    '_', expand=True).astype('int')"
   ]
  },
  {
   "cell_type": "code",
   "execution_count": 13,
   "metadata": {
    "execution": {
     "iopub.execute_input": "2020-09-14T15:43:31.441478Z",
     "iopub.status.busy": "2020-09-14T15:43:31.441478Z",
     "iopub.status.idle": "2020-09-14T15:43:31.863543Z",
     "shell.execute_reply": "2020-09-14T15:43:31.862375Z",
     "shell.execute_reply.started": "2020-09-14T15:43:31.441478Z"
    }
   },
   "outputs": [],
   "source": [
    "df_combine['month'] = df_combine['date_block_num_x'].map(\n",
    "    month_num.set_index('date_block_num')['month'])"
   ]
  },
  {
   "cell_type": "markdown",
   "metadata": {},
   "source": [
    "Add back price and category id information for row that have missing records."
   ]
  },
  {
   "cell_type": "code",
   "execution_count": 14,
   "metadata": {
    "execution": {
     "iopub.execute_input": "2020-09-14T15:43:31.866535Z",
     "iopub.status.busy": "2020-09-14T15:43:31.865537Z",
     "iopub.status.idle": "2020-09-14T15:43:53.140461Z",
     "shell.execute_reply": "2020-09-14T15:43:53.140461Z",
     "shell.execute_reply.started": "2020-09-14T15:43:31.866535Z"
    }
   },
   "outputs": [],
   "source": [
    "df_combine.loc[df_combine['item_price'].isnull(\n",
    "), 'item_price'] = df_combine['shop_item_x'].map(subset_price['item_price'])\n",
    "df_combine.loc[df_combine['item_category_id'].isnull(\n",
    "), 'item_category_id'] = df_combine['item_id'].map(item['item_category_id'])\n",
    "df_combine = df_combine.sort_values(\n",
    "    ['item_id', 'shop_id', 'date_block_num_x'], ascending=[1, 1, 1]).reset_index(drop=True)\n",
    "df_combine['item_cnt_day'].fillna(0, inplace=True)"
   ]
  },
  {
   "cell_type": "code",
   "execution_count": 15,
   "metadata": {
    "execution": {
     "iopub.execute_input": "2020-09-14T15:43:53.140461Z",
     "iopub.status.busy": "2020-09-14T15:43:53.140461Z",
     "iopub.status.idle": "2020-09-14T15:43:53.798569Z",
     "shell.execute_reply": "2020-09-14T15:43:53.797173Z",
     "shell.execute_reply.started": "2020-09-14T15:43:53.140461Z"
    }
   },
   "outputs": [],
   "source": [
    "final_df = df_combine.drop(columns=['shop_item_x', 'helper'])"
   ]
  },
  {
   "cell_type": "code",
   "execution_count": 16,
   "metadata": {
    "execution": {
     "iopub.execute_input": "2020-09-14T15:43:53.800260Z",
     "iopub.status.busy": "2020-09-14T15:43:53.800260Z",
     "iopub.status.idle": "2020-09-14T15:43:54.382670Z",
     "shell.execute_reply": "2020-09-14T15:43:54.381037Z",
     "shell.execute_reply.started": "2020-09-14T15:43:53.800260Z"
    }
   },
   "outputs": [
    {
     "data": {
      "text/plain": [
       "date_block_num_x    0\n",
       "item_category_id    0\n",
       "item_cnt_day        0\n",
       "item_price          0\n",
       "item_id             0\n",
       "shop_id             0\n",
       "month               0\n",
       "dtype: int64"
      ]
     },
     "execution_count": 16,
     "metadata": {},
     "output_type": "execute_result"
    }
   ],
   "source": [
    "# check to ensure no missing records\n",
    "final_df.isnull().sum()"
   ]
  },
  {
   "cell_type": "code",
   "execution_count": 17,
   "metadata": {
    "execution": {
     "iopub.execute_input": "2020-09-14T15:43:54.383667Z",
     "iopub.status.busy": "2020-09-14T15:43:54.383667Z",
     "iopub.status.idle": "2020-09-14T15:43:55.048315Z",
     "shell.execute_reply": "2020-09-14T15:43:55.047317Z",
     "shell.execute_reply.started": "2020-09-14T15:43:54.383667Z"
    }
   },
   "outputs": [],
   "source": [
    "final_df.rename(columns={'date_block_num_x': 'date_block_num'}, inplace=True)"
   ]
  },
  {
   "cell_type": "markdown",
   "metadata": {},
   "source": [
    "**Lags features creations**"
   ]
  },
  {
   "cell_type": "code",
   "execution_count": 18,
   "metadata": {
    "execution": {
     "iopub.execute_input": "2020-09-14T15:43:55.049839Z",
     "iopub.status.busy": "2020-09-14T15:43:55.049839Z",
     "iopub.status.idle": "2020-09-14T15:43:55.798146Z",
     "shell.execute_reply": "2020-09-14T15:43:55.797148Z",
     "shell.execute_reply.started": "2020-09-14T15:43:55.049839Z"
    }
   },
   "outputs": [],
   "source": [
    "final_df['lag1'] = final_df['item_cnt_day'].shift(periods=1)\n",
    "final_df['lag3'] = final_df['item_cnt_day'].shift(periods=3)\n",
    "final_df['lag6'] = final_df['item_cnt_day'].shift(periods=6)\n",
    "final_df['lag12'] = final_df['item_cnt_day'].shift(periods=12)"
   ]
  },
  {
   "cell_type": "code",
   "execution_count": 19,
   "metadata": {
    "execution": {
     "iopub.execute_input": "2020-09-14T15:43:55.799403Z",
     "iopub.status.busy": "2020-09-14T15:43:55.799403Z",
     "iopub.status.idle": "2020-09-14T15:44:01.294584Z",
     "shell.execute_reply": "2020-09-14T15:44:01.294584Z",
     "shell.execute_reply.started": "2020-09-14T15:43:55.799403Z"
    }
   },
   "outputs": [],
   "source": [
    "final_df['lag1_pct'] = final_df['item_cnt_day'].pct_change().clip(-1,\n",
    "                                                                  1).fillna(0)\n",
    "final_df['lag3_pct'] = final_df['item_cnt_day'].pct_change(\n",
    "    periods=3).clip(-1, 1).fillna(0)\n",
    "final_df['lag6_pct'] = final_df['item_cnt_day'].pct_change(\n",
    "    periods=6).clip(-1, 1).fillna(0)\n",
    "final_df['lag12_pct'] = final_df['item_cnt_day'].pct_change(\n",
    "    periods=12).clip(-1, 1).fillna(0)"
   ]
  },
  {
   "cell_type": "markdown",
   "metadata": {},
   "source": [
    "We shift target back by 1. The final model will be to use current period features to predict only next period. For example, using all the features from period 10 to predict period 11, period 11 to predict period 12, and so on."
   ]
  },
  {
   "cell_type": "code",
   "execution_count": 20,
   "metadata": {
    "execution": {
     "iopub.execute_input": "2020-09-14T15:44:01.296638Z",
     "iopub.status.busy": "2020-09-14T15:44:01.296638Z",
     "iopub.status.idle": "2020-09-14T15:44:01.487312Z",
     "shell.execute_reply": "2020-09-14T15:44:01.486321Z",
     "shell.execute_reply.started": "2020-09-14T15:44:01.296638Z"
    }
   },
   "outputs": [],
   "source": [
    "final_df['target'] = final_df['item_cnt_day'].shift(periods=-1)"
   ]
  },
  {
   "cell_type": "code",
   "execution_count": 21,
   "metadata": {
    "execution": {
     "iopub.execute_input": "2020-09-14T15:44:01.488855Z",
     "iopub.status.busy": "2020-09-14T15:44:01.488855Z",
     "iopub.status.idle": "2020-09-14T15:44:09.680054Z",
     "shell.execute_reply": "2020-09-14T15:44:09.677878Z",
     "shell.execute_reply.started": "2020-09-14T15:44:01.488855Z"
    }
   },
   "outputs": [],
   "source": [
    "final_df.drop(final_df[final_df['date_block_num'] <= 12].index, inplace=True)"
   ]
  },
  {
   "cell_type": "code",
   "execution_count": 22,
   "metadata": {
    "execution": {
     "iopub.execute_input": "2020-09-14T15:44:09.683163Z",
     "iopub.status.busy": "2020-09-14T15:44:09.680054Z",
     "iopub.status.idle": "2020-09-14T15:44:09.702356Z",
     "shell.execute_reply": "2020-09-14T15:44:09.700362Z",
     "shell.execute_reply.started": "2020-09-14T15:44:09.683163Z"
    }
   },
   "outputs": [],
   "source": [
    "final_df.reset_index(drop=True, inplace=True)"
   ]
  },
  {
   "cell_type": "code",
   "execution_count": 23,
   "metadata": {
    "execution": {
     "iopub.execute_input": "2020-09-14T15:44:09.704201Z",
     "iopub.status.busy": "2020-09-14T15:44:09.703945Z",
     "iopub.status.idle": "2020-09-14T15:44:10.109912Z",
     "shell.execute_reply": "2020-09-14T15:44:10.108915Z",
     "shell.execute_reply.started": "2020-09-14T15:44:09.704201Z"
    }
   },
   "outputs": [],
   "source": [
    "final_df.fillna(0, inplace=True)"
   ]
  },
  {
   "cell_type": "markdown",
   "metadata": {},
   "source": [
    "### Xgboost Classification Model"
   ]
  },
  {
   "cell_type": "code",
   "execution_count": 24,
   "metadata": {
    "execution": {
     "iopub.execute_input": "2020-09-14T15:44:10.112683Z",
     "iopub.status.busy": "2020-09-14T15:44:10.112683Z",
     "iopub.status.idle": "2020-09-14T15:44:11.685130Z",
     "shell.execute_reply": "2020-09-14T15:44:11.685130Z",
     "shell.execute_reply.started": "2020-09-14T15:44:10.112683Z"
    }
   },
   "outputs": [],
   "source": [
    "train = final_df[final_df.date_block_num < 32]\n",
    "test = final_df[final_df.date_block_num == 32]"
   ]
  },
  {
   "cell_type": "code",
   "execution_count": 25,
   "metadata": {
    "execution": {
     "iopub.execute_input": "2020-09-14T15:44:11.688956Z",
     "iopub.status.busy": "2020-09-14T15:44:11.685130Z",
     "iopub.status.idle": "2020-09-14T15:44:12.468416Z",
     "shell.execute_reply": "2020-09-14T15:44:12.466988Z",
     "shell.execute_reply.started": "2020-09-14T15:44:11.688956Z"
    }
   },
   "outputs": [],
   "source": [
    "train_f = train.drop(['target'], axis=1)\n",
    "train_t = train['target']"
   ]
  },
  {
   "cell_type": "code",
   "execution_count": 26,
   "metadata": {
    "execution": {
     "iopub.execute_input": "2020-09-14T15:44:12.475007Z",
     "iopub.status.busy": "2020-09-14T15:44:12.474083Z",
     "iopub.status.idle": "2020-09-14T15:44:12.535148Z",
     "shell.execute_reply": "2020-09-14T15:44:12.534108Z",
     "shell.execute_reply.started": "2020-09-14T15:44:12.475007Z"
    }
   },
   "outputs": [],
   "source": [
    "test_f = test.drop(['target'], axis=1)\n",
    "test_t = test['target']"
   ]
  },
  {
   "cell_type": "code",
   "execution_count": 27,
   "metadata": {
    "execution": {
     "iopub.execute_input": "2020-09-14T15:44:12.538327Z",
     "iopub.status.busy": "2020-09-14T15:44:12.535148Z",
     "iopub.status.idle": "2020-09-14T15:44:21.478762Z",
     "shell.execute_reply": "2020-09-14T15:44:21.478762Z",
     "shell.execute_reply.started": "2020-09-14T15:44:12.538327Z"
    }
   },
   "outputs": [],
   "source": [
    "DM_train = xgb.DMatrix(data=train_f, label=train_t)\n",
    "DM_test = xgb.DMatrix(data=test_f, label=test_t)"
   ]
  },
  {
   "cell_type": "code",
   "execution_count": 28,
   "metadata": {
    "execution": {
     "iopub.execute_input": "2020-09-14T15:44:21.480936Z",
     "iopub.status.busy": "2020-09-14T15:44:21.480936Z",
     "iopub.status.idle": "2020-09-14T15:44:21.494546Z",
     "shell.execute_reply": "2020-09-14T15:44:21.492830Z",
     "shell.execute_reply.started": "2020-09-14T15:44:21.480936Z"
    }
   },
   "outputs": [],
   "source": [
    "params = {\"booster\": \"gbtree\", \"objective\": \"reg:squarederror\", 'max_depth': 8, 'n_estimators': 500, 'min_child_weight': 40, 'colsample_bytree': 0.8,\n",
    "          'subsample': 0.8, 'eta': 0.3, 'seed': 42}"
   ]
  },
  {
   "cell_type": "code",
   "execution_count": 29,
   "metadata": {
    "execution": {
     "iopub.execute_input": "2020-09-14T15:44:21.496202Z",
     "iopub.status.busy": "2020-09-14T15:44:21.496202Z",
     "iopub.status.idle": "2020-09-14T15:46:03.556323Z",
     "shell.execute_reply": "2020-09-14T15:46:03.555325Z",
     "shell.execute_reply.started": "2020-09-14T15:44:21.496202Z"
    }
   },
   "outputs": [
    {
     "name": "stdout",
     "output_type": "stream",
     "text": [
      "[08:44:21] WARNING: src/learner.cc:686: Tree method is automatically selected to be 'approx' for faster speed. To use old behavior (exact greedy algorithm on single machine), set tree_method to 'exact'.\n"
     ]
    }
   ],
   "source": [
    "xg_reg = xgb.train(params=params, dtrain=DM_train, num_boost_round=15)"
   ]
  },
  {
   "cell_type": "code",
   "execution_count": 30,
   "metadata": {
    "execution": {
     "iopub.execute_input": "2020-09-14T15:46:03.556323Z",
     "iopub.status.busy": "2020-09-14T15:46:03.556323Z",
     "iopub.status.idle": "2020-09-14T15:46:03.731689Z",
     "shell.execute_reply": "2020-09-14T15:46:03.729815Z",
     "shell.execute_reply.started": "2020-09-14T15:46:03.556323Z"
    }
   },
   "outputs": [
    {
     "name": "stdout",
     "output_type": "stream",
     "text": [
      "RMSE: 3.914721\n"
     ]
    }
   ],
   "source": [
    "preds = (xg_reg.predict(DM_test))\n",
    "\n",
    "rmse_xgb = np.sqrt(mean_squared_error(test_t, preds))\n",
    "print(\"RMSE: %f\" % (rmse_xgb))"
   ]
  },
  {
   "cell_type": "code",
   "execution_count": 31,
   "metadata": {
    "execution": {
     "iopub.execute_input": "2020-09-14T15:46:03.734247Z",
     "iopub.status.busy": "2020-09-14T15:46:03.734247Z",
     "iopub.status.idle": "2020-09-14T15:46:05.873819Z",
     "shell.execute_reply": "2020-09-14T15:46:05.872275Z",
     "shell.execute_reply.started": "2020-09-14T15:46:03.734247Z"
    }
   },
   "outputs": [
    {
     "data": {
      "image/png": "[encoded data removed]",
      "text/plain": [
       "<Figure size 432x288 with 1 Axes>"
      ]
     },
     "metadata": {
      "needs_background": "light"
     },
     "output_type": "display_data"
    }
   ],
   "source": [
    "plt.scatter(preds, test_t)\n",
    "plt.xlabel('predicted values')\n",
    "plt.ylabel('actual values')\n",
    "plt.title('actual vs predicted values')\n",
    "plt.show()"
   ]
  },
  {
   "cell_type": "code",
   "execution_count": 32,
   "metadata": {
    "execution": {
     "iopub.execute_input": "2020-09-14T15:46:05.877592Z",
     "iopub.status.busy": "2020-09-14T15:46:05.877592Z",
     "iopub.status.idle": "2020-09-14T15:46:07.720948Z",
     "shell.execute_reply": "2020-09-14T15:46:07.719695Z",
     "shell.execute_reply.started": "2020-09-14T15:46:05.877592Z"
    }
   },
   "outputs": [
    {
     "data": {
      "image/png": "[encoded data removed]",
      "text/plain": [
       "<Figure size 432x288 with 1 Axes>"
      ]
     },
     "metadata": {
      "needs_background": "light"
     },
     "output_type": "display_data"
    }
   ],
   "source": [
    "xgb_residual = preds - test_t\n",
    "plt.scatter(preds, xgb_residual)\n",
    "plt.title('Xgboost residual plot')\n",
    "plt.xlabel('predicted values')\n",
    "plt.ylabel('residuals')\n",
    "plt.show()"
   ]
  },
  {
   "cell_type": "code",
   "execution_count": 33,
   "metadata": {
    "execution": {
     "iopub.execute_input": "2020-09-14T15:46:07.723351Z",
     "iopub.status.busy": "2020-09-14T15:46:07.720948Z",
     "iopub.status.idle": "2020-09-14T15:46:08.336758Z",
     "shell.execute_reply": "2020-09-14T15:46:08.335759Z",
     "shell.execute_reply.started": "2020-09-14T15:46:07.723351Z"
    }
   },
   "outputs": [
    {
     "data": {
      "image/png": "[encoded data removed]",
      "text/plain": [
       "<Figure size 432x288 with 1 Axes>"
      ]
     },
     "metadata": {
      "needs_background": "light"
     },
     "output_type": "display_data"
    }
   ],
   "source": [
    "from xgboost import plot_importance\n",
    "\n",
    "plot_importance(xg_reg)\n",
    "plt.show()"
   ]
  },
  {
   "cell_type": "code",
   "execution_count": 34,
   "metadata": {
    "execution": {
     "iopub.execute_input": "2020-09-14T15:46:08.339220Z",
     "iopub.status.busy": "2020-09-14T15:46:08.338221Z",
     "iopub.status.idle": "2020-09-14T15:46:08.353079Z",
     "shell.execute_reply": "2020-09-14T15:46:08.351385Z",
     "shell.execute_reply.started": "2020-09-14T15:46:08.339220Z"
    }
   },
   "outputs": [],
   "source": [
    "rfc = RandomForestRegressor(\n",
    "    n_estimators=250, max_depth=6, n_jobs=2, min_samples_leaf=1000)"
   ]
  },
  {
   "cell_type": "code",
   "execution_count": 35,
   "metadata": {
    "execution": {
     "iopub.execute_input": "2020-09-14T15:46:08.357110Z",
     "iopub.status.busy": "2020-09-14T15:46:08.355471Z",
     "iopub.status.idle": "2020-09-14T16:53:17.676877Z",
     "shell.execute_reply": "2020-09-14T16:53:17.675874Z",
     "shell.execute_reply.started": "2020-09-14T15:46:08.357110Z"
    }
   },
   "outputs": [],
   "source": [
    "rfc.fit(train_f, train_t);"
   ]
  },
  {
   "cell_type": "code",
   "execution_count": 36,
   "metadata": {
    "execution": {
     "iopub.execute_input": "2020-09-14T16:53:17.679475Z",
     "iopub.status.busy": "2020-09-14T16:53:17.678407Z",
     "iopub.status.idle": "2020-09-14T16:53:21.223057Z",
     "shell.execute_reply": "2020-09-14T16:53:21.223057Z",
     "shell.execute_reply.started": "2020-09-14T16:53:17.679475Z"
    }
   },
   "outputs": [
    {
     "name": "stdout",
     "output_type": "stream",
     "text": [
      "RMSE: 3.851024\n"
     ]
    }
   ],
   "source": [
    "pred_rfc = rfc.predict(test_f)\n",
    "rmse_rfc = np.sqrt(mean_squared_error(test_t, pred_rfc))\n",
    "print(\"RMSE: %f\" % (rmse_rfc))"
   ]
  },
  {
   "cell_type": "code",
   "execution_count": 37,
   "metadata": {
    "execution": {
     "iopub.execute_input": "2020-09-14T16:53:21.227083Z",
     "iopub.status.busy": "2020-09-14T16:53:21.227083Z",
     "iopub.status.idle": "2020-09-14T16:53:23.098943Z",
     "shell.execute_reply": "2020-09-14T16:53:23.097907Z",
     "shell.execute_reply.started": "2020-09-14T16:53:21.227083Z"
    }
   },
   "outputs": [
    {
     "data": {
      "image/png": "[encoded data removed]",
      "text/plain": [
       "<Figure size 432x288 with 1 Axes>"
      ]
     },
     "metadata": {
      "needs_background": "light"
     },
     "output_type": "display_data"
    }
   ],
   "source": [
    "plt.scatter(pred_rfc, test_t)\n",
    "plt.title('Random Forecast actual vs predicted values')\n",
    "plt.xlabel('predicted values')\n",
    "plt.ylabel('actual values')\n",
    "plt.show()"
   ]
  },
  {
   "cell_type": "code",
   "execution_count": 38,
   "metadata": {
    "execution": {
     "iopub.execute_input": "2020-09-14T16:53:23.101176Z",
     "iopub.status.busy": "2020-09-14T16:53:23.101176Z",
     "iopub.status.idle": "2020-09-14T16:53:24.893505Z",
     "shell.execute_reply": "2020-09-14T16:53:24.893505Z",
     "shell.execute_reply.started": "2020-09-14T16:53:23.101176Z"
    }
   },
   "outputs": [
    {
     "data": {
      "image/png": "[encoded data removed]",
      "text/plain": [
       "<Figure size 432x288 with 1 Axes>"
      ]
     },
     "metadata": {
      "needs_background": "light"
     },
     "output_type": "display_data"
    }
   ],
   "source": [
    "rfc_residual = pred_rfc - test_t\n",
    "plt.scatter(pred_rfc, rfc_residual)\n",
    "plt.title('Random Forecast residual plot')\n",
    "plt.xlabel('predicted values')\n",
    "plt.ylabel('residuals')\n",
    "plt.show()"
   ]
  },
  {
   "cell_type": "code",
   "execution_count": 39,
   "metadata": {
    "execution": {
     "iopub.execute_input": "2020-09-14T16:53:24.897066Z",
     "iopub.status.busy": "2020-09-14T16:53:24.893505Z",
     "iopub.status.idle": "2020-09-14T16:53:25.637090Z",
     "shell.execute_reply": "2020-09-14T16:53:25.636915Z",
     "shell.execute_reply.started": "2020-09-14T16:53:24.897066Z"
    }
   },
   "outputs": [
    {
     "name": "stdout",
     "output_type": "stream",
     "text": [
      "Wall time: 288 ms\n"
     ]
    },
    {
     "data": {
      "text/plain": [
       "<matplotlib.axes._subplots.AxesSubplot at 0x21c8aa63828>"
      ]
     },
     "execution_count": 39,
     "metadata": {},
     "output_type": "execute_result"
    },
    {
     "data": {
      "image/png": "[encoded data removed]",
      "text/plain": [
       "<Figure size 432x288 with 1 Axes>"
      ]
     },
     "metadata": {
      "needs_background": "light"
     },
     "output_type": "display_data"
    }
   ],
   "source": [
    "f_importance = pd.Series(rfc.feature_importances_, index=train_f.columns)\n",
    "f_importance.plot(kind='barh')"
   ]
  },
  {
   "cell_type": "code",
   "execution_count": 40,
   "metadata": {
    "execution": {
     "iopub.execute_input": "2020-09-14T16:53:25.641048Z",
     "iopub.status.busy": "2020-09-14T16:53:25.639128Z",
     "iopub.status.idle": "2020-09-14T16:53:28.774013Z",
     "shell.execute_reply": "2020-09-14T16:53:28.773015Z",
     "shell.execute_reply.started": "2020-09-14T16:53:25.641048Z"
    }
   },
   "outputs": [
    {
     "name": "stdout",
     "output_type": "stream",
     "text": [
      "RMSE: 4.031608\n"
     ]
    }
   ],
   "source": [
    "regr = linear_model.Ridge()\n",
    "regr.fit(train_f, train_t)\n",
    "pred_reg = regr.predict(test_f)\n",
    "rmse_reg = np.sqrt(mean_squared_error(test_t, pred_reg))\n",
    "print(\"RMSE: %f\" % (rmse_reg))"
   ]
  },
  {
   "cell_type": "code",
   "execution_count": 41,
   "metadata": {
    "execution": {
     "iopub.execute_input": "2020-09-14T16:53:28.776007Z",
     "iopub.status.busy": "2020-09-14T16:53:28.776007Z",
     "iopub.status.idle": "2020-09-14T16:53:30.643890Z",
     "shell.execute_reply": "2020-09-14T16:53:30.643890Z",
     "shell.execute_reply.started": "2020-09-14T16:53:28.776007Z"
    }
   },
   "outputs": [
    {
     "data": {
      "image/png": "[encoded data removed]",
      "text/plain": [
       "<Figure size 432x288 with 1 Axes>"
      ]
     },
     "metadata": {
      "needs_background": "light"
     },
     "output_type": "display_data"
    }
   ],
   "source": [
    "plt.scatter(pred_reg, test_t)\n",
    "plt.title('Rigde Regression actuals vs predicted values')\n",
    "plt.xlabel('predicted values')\n",
    "plt.ylabel('actual values')\n",
    "plt.show()"
   ]
  },
  {
   "cell_type": "code",
   "execution_count": 42,
   "metadata": {
    "execution": {
     "iopub.execute_input": "2020-09-14T16:53:30.643890Z",
     "iopub.status.busy": "2020-09-14T16:53:30.643890Z",
     "iopub.status.idle": "2020-09-14T16:53:32.450778Z",
     "shell.execute_reply": "2020-09-14T16:53:32.448942Z",
     "shell.execute_reply.started": "2020-09-14T16:53:30.643890Z"
    }
   },
   "outputs": [
    {
     "data": {
      "image/png": "[encoded data removed]",
      "text/plain": [
       "<Figure size 432x288 with 1 Axes>"
      ]
     },
     "metadata": {
      "needs_background": "light"
     },
     "output_type": "display_data"
    }
   ],
   "source": [
    "reg_residual = pred_reg - test_t\n",
    "plt.scatter(pred_reg, reg_residual)\n",
    "plt.title('Rigde Regression residual plot')\n",
    "plt.xlabel('predicted values')\n",
    "plt.ylabel('residuals')\n",
    "plt.show()"
   ]
  },
  {
   "cell_type": "code",
   "execution_count": 43,
   "metadata": {
    "execution": {
     "iopub.execute_input": "2020-09-14T16:53:32.453770Z",
     "iopub.status.busy": "2020-09-14T16:53:32.452773Z",
     "iopub.status.idle": "2020-09-14T16:53:32.477257Z",
     "shell.execute_reply": "2020-09-14T16:53:32.476260Z",
     "shell.execute_reply.started": "2020-09-14T16:53:32.453770Z"
    }
   },
   "outputs": [
    {
     "name": "stdout",
     "output_type": "stream",
     "text": [
      "{'xgb': 3.9147209995668977, 'random_forest': 3.8510242335001257, 'ridge': 4.031607779752055}\n"
     ]
    }
   ],
   "source": [
    "model_comparison = dict(\n",
    "    {'xgb': rmse_xgb, 'random_forest': rmse_rfc, 'ridge': rmse_reg})\n",
    "print(model_comparison)"
   ]
  },
  {
   "cell_type": "markdown",
   "metadata": {},
   "source": [
    "#### All three models have close performance. Xgboost executed faster and become the preferred model.\n",
    "\n",
    "**Note**: On the residual plots, all three models shows one major outlier in which actual unit was at 2000 range while the prediction was far off. It likely has impact to the RMSE. The best next step will be to consult client on any unusual events happening to that product/shop, and decide whether we should remove training information with related to that to improve model performance. \n",
    "\n",
    "There is a risk on overfitting the model by doing so and if the unusual event happen again in the future, the model will not be able to pick up the signal - manual forecast will be needed. \n",
    "\n",
    "For the scope of this project, we will keep model as is."
   ]
  },
  {
   "cell_type": "code",
   "execution_count": 44,
   "metadata": {
    "execution": {
     "iopub.execute_input": "2020-09-14T16:53:32.484428Z",
     "iopub.status.busy": "2020-09-14T16:53:32.482389Z",
     "iopub.status.idle": "2020-09-14T16:53:32.496079Z",
     "shell.execute_reply": "2020-09-14T16:53:32.495081Z",
     "shell.execute_reply.started": "2020-09-14T16:53:32.483385Z"
    }
   },
   "outputs": [],
   "source": [
    "# save the final df for ease of access in other works\n",
    "# final_df.to_csv('data/final_df.csv', index=True)"
   ]
  }
 ],
 "metadata": {
  "kernelspec": {
   "display_name": "Python 3",
   "language": "python",
   "name": "python3"
  },
  "language_info": {
   "codemirror_mode": {
    "name": "ipython",
    "version": 3
   },
   "file_extension": ".py",
   "mimetype": "text/x-python",
   "name": "python",
   "nbconvert_exporter": "python",
   "pygments_lexer": "ipython3",
   "version": "3.7.1"
  }
 },
 "nbformat": 4,
 "nbformat_minor": 4
}
