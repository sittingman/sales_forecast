{
 "cells": [
  {
   "cell_type": "markdown",
   "metadata": {},
   "source": [
    "### Classificaton Models\n",
    "\n",
    "In this workbook, we will focus on feature creations to fit two classification models (Xgboost and Random Forest) and one linear model (Ridge) \n",
    "<br>\n",
    "\n",
    "Based on the exploratory analysis, the following features were identified:\n",
    "- month\n",
    "- dayofweek\n",
    "- holiday vs normal day\n",
    "- product category\n",
    "- shop id\n",
    "\n",
    "However, the test set for the submission is asking us to submit at monthly level, so the dayofweek and holiday features would not be applicable. We left with month, product category and shop id.\n",
    "\n",
    "From the time series analysis, we do observe seasonality for the sale pattern, hence lag features would be useful too."
   ]
  },
  {
   "cell_type": "code",
   "execution_count": 1,
   "metadata": {},
   "outputs": [
    {
     "name": "stderr",
     "output_type": "stream",
     "text": [
      "C:\\Users\\sit_k\\AppData\\Local\\Continuum\\anaconda3\\lib\\site-packages\\statsmodels\\tools\\_testing.py:19: FutureWarning: pandas.util.testing is deprecated. Use the functions in the public API at pandas.testing instead.\n",
      "  import pandas.util.testing as tm\n"
     ]
    }
   ],
   "source": [
    "import numpy as np\n",
    "import pandas as pd\n",
    "from datetime import datetime as dt\n",
    "from pandas.plotting import register_matplotlib_converters\n",
    "register_matplotlib_converters()\n",
    "from sklearn.metrics import mean_squared_error\n",
    "from sklearn.ensemble import RandomForestRegressor\n",
    "import xgboost as xgb\n",
    "from xgboost import XGBRegressor\n",
    "from xgboost import plot_importance\n",
    "import matplotlib.pyplot as plt\n",
    "import holidays\n",
    "import seaborn as sns\n",
    "from sklearn import linear_model\n",
    "sns.set()\n",
    "%matplotlib inline "
   ]
  },
  {
   "cell_type": "code",
   "execution_count": 2,
   "metadata": {},
   "outputs": [],
   "source": [
    "raw_df = pd.read_csv('data/train_df.csv', parse_dates=['date'])\n",
    "# outlier removal steps as identified in exploratory analysis\n",
    "id_out = [11, 14, 15, 12]\n",
    "raw_df.loc[(raw_df.date == '2013-11-29') & (raw_df.item_category_id.isin(id_out)), 'sales'] = np.nan\n",
    "raw_df.loc[(raw_df.date_block_num == 10) & (raw_df.item_category_id.isin(id_out))].interpolate(method='linear');"
   ]
  },
  {
   "cell_type": "code",
   "execution_count": 3,
   "metadata": {},
   "outputs": [
    {
     "data": {
      "text/plain": [
       "(2916104, 11)"
      ]
     },
     "execution_count": 3,
     "metadata": {},
     "output_type": "execute_result"
    }
   ],
   "source": [
    "raw_df.shape"
   ]
  },
  {
   "cell_type": "markdown",
   "metadata": {},
   "source": [
    "#### Convert daily dataframe info monthly"
   ]
  },
  {
   "cell_type": "code",
   "execution_count": 4,
   "metadata": {},
   "outputs": [],
   "source": [
    "raw_df['month'] = raw_df['date'].dt.month"
   ]
  },
  {
   "cell_type": "code",
   "execution_count": 5,
   "metadata": {},
   "outputs": [],
   "source": [
    "month_df = raw_df.groupby(['date_block_num', 'shop_id', 'item_id','item_category_id','month']).agg({'item_cnt_day':'sum', 'item_price':'mean'}).reset_index()"
   ]
  },
  {
   "cell_type": "code",
   "execution_count": 6,
   "metadata": {},
   "outputs": [],
   "source": [
    "# create two helper columns, shop_item and shop_item_date_block_num ('helper'), which will be used for data imputation\n",
    "month_df['shop_item'] = month_df['item_id'].astype('str') + '_' + month_df['shop_id'].astype('str')\n",
    "month_df['helper'] = month_df['item_id'].astype('str') + '_' + month_df['shop_id'].astype('str') + '_' +month_df['date_block_num'].astype('str')"
   ]
  },
  {
   "cell_type": "markdown",
   "metadata": {},
   "source": [
    "##### Imputing records to ensure all sku/shop have 33 periods of data"
   ]
  },
  {
   "cell_type": "code",
   "execution_count": 7,
   "metadata": {},
   "outputs": [],
   "source": [
    "# these are tempoarily table to be used to refill values for missing records\n",
    "item = pd.read_csv('data/items.csv', index_col=1)\n",
    "subset_data = month_df[['shop_item']].drop_duplicates().reset_index(drop=True)\n",
    "subset_price = month_df[['shop_item','item_price']].drop_duplicates().reset_index(drop=True)\n",
    "subset_price = subset_price.groupby(['shop_item']).agg({'item_price': 'mean'})\n",
    "month_num = month_df[['date_block_num', 'month']].drop_duplicates().reset_index(drop=True)"
   ]
  },
  {
   "cell_type": "code",
   "execution_count": 8,
   "metadata": {},
   "outputs": [],
   "source": [
    "from itertools import product"
   ]
  },
  {
   "cell_type": "code",
   "execution_count": 9,
   "metadata": {},
   "outputs": [],
   "source": [
    "combo = pd.DataFrame(data=list(product(subset_data['shop_item'],range(0,34))), columns=['shop_item', 'date_block_num'])\n",
    "# this helper column will be used to match data bace from month_df dataframe\n",
    "combo['helper'] = combo['shop_item'].astype('str') + '_' + combo['date_block_num'].astype('str')"
   ]
  },
  {
   "cell_type": "code",
   "execution_count": 10,
   "metadata": {},
   "outputs": [],
   "source": [
    "df_combine = pd.merge(combo, month_df, on=['helper'], how='left')"
   ]
  },
  {
   "cell_type": "code",
   "execution_count": 11,
   "metadata": {},
   "outputs": [],
   "source": [
    "df_combine.drop(columns=['date_block_num_y', 'shop_item_y', 'shop_id','item_id','month'], inplace=True)"
   ]
  },
  {
   "cell_type": "markdown",
   "metadata": {},
   "source": [
    "The follow steps are to recreate shop_id, item_id, and month event for all records"
   ]
  },
  {
   "cell_type": "code",
   "execution_count": 12,
   "metadata": {},
   "outputs": [],
   "source": [
    "df_combine[['item_id','shop_id']] = df_combine['shop_item_x'].str.split('_', expand=True).astype('int')"
   ]
  },
  {
   "cell_type": "code",
   "execution_count": 13,
   "metadata": {},
   "outputs": [],
   "source": [
    "df_combine['month'] = df_combine['date_block_num_x'].map(month_num.set_index('date_block_num')['month'])"
   ]
  },
  {
   "cell_type": "markdown",
   "metadata": {},
   "source": [
    "Add back price and category id information for row that have missing records."
   ]
  },
  {
   "cell_type": "code",
   "execution_count": 14,
   "metadata": {},
   "outputs": [],
   "source": [
    "df_combine.loc[df_combine['item_price'].isnull(),'item_price'] = df_combine['shop_item_x'].map(subset_price['item_price'])\n",
    "df_combine.loc[df_combine['item_category_id'].isnull(),'item_category_id'] = df_combine['item_id'].map(item['item_category_id'])\n",
    "df_combine = df_combine.sort_values(['item_id', 'shop_id', 'date_block_num_x'], ascending=[1,1,1]).reset_index(drop=True)\n",
    "df_combine['item_cnt_day'].fillna(0,inplace=True)"
   ]
  },
  {
   "cell_type": "code",
   "execution_count": 15,
   "metadata": {},
   "outputs": [],
   "source": [
    "final_df = df_combine.drop(columns=['shop_item_x', 'helper'])"
   ]
  },
  {
   "cell_type": "code",
   "execution_count": 16,
   "metadata": {},
   "outputs": [
    {
     "data": {
      "text/plain": [
       "date_block_num_x    0\n",
       "item_category_id    0\n",
       "item_cnt_day        0\n",
       "item_price          0\n",
       "item_id             0\n",
       "shop_id             0\n",
       "month               0\n",
       "dtype: int64"
      ]
     },
     "execution_count": 16,
     "metadata": {},
     "output_type": "execute_result"
    }
   ],
   "source": [
    "#check to ensure no missing records\n",
    "final_df.isnull().sum()"
   ]
  },
  {
   "cell_type": "code",
   "execution_count": 17,
   "metadata": {},
   "outputs": [],
   "source": [
    "final_df.rename(columns={'date_block_num_x':'date_block_num'}, inplace=True)"
   ]
  },
  {
   "cell_type": "markdown",
   "metadata": {},
   "source": [
    "**Lags features creations**"
   ]
  },
  {
   "cell_type": "code",
   "execution_count": 18,
   "metadata": {},
   "outputs": [],
   "source": [
    "final_df['lag1'] = final_df['item_cnt_day'].shift(periods=1)\n",
    "final_df['lag3'] = final_df['item_cnt_day'].shift(periods=3)\n",
    "final_df['lag6'] = final_df['item_cnt_day'].shift(periods=6)\n",
    "final_df['lag12'] = final_df['item_cnt_day'].shift(periods=12)"
   ]
  },
  {
   "cell_type": "code",
   "execution_count": 19,
   "metadata": {},
   "outputs": [],
   "source": [
    "final_df['lag1_pct'] = final_df['item_cnt_day'].pct_change().clip(-1,1).fillna(0)\n",
    "final_df['lag3_pct'] = final_df['item_cnt_day'].pct_change(periods=3).clip(-1,1).fillna(0)\n",
    "final_df['lag6_pct'] = final_df['item_cnt_day'].pct_change(periods=6).clip(-1,1).fillna(0)\n",
    "final_df['lag12_pct'] = final_df['item_cnt_day'].pct_change(periods=12).clip(-1,1).fillna(0)"
   ]
  },
  {
   "cell_type": "markdown",
   "metadata": {},
   "source": [
    "We shift target back by 1. The final model will be to use current period features to predict only next period. For example, using all the features from period 10 to predict period 11, period 11 to predict period 12, and so on."
   ]
  },
  {
   "cell_type": "code",
   "execution_count": 20,
   "metadata": {},
   "outputs": [],
   "source": [
    "final_df['target'] = final_df['item_cnt_day'].shift(periods=-1)"
   ]
  },
  {
   "cell_type": "code",
   "execution_count": 21,
   "metadata": {},
   "outputs": [],
   "source": [
    "final_df.drop(final_df[final_df['date_block_num']<=12].index, inplace=True)"
   ]
  },
  {
   "cell_type": "code",
   "execution_count": 22,
   "metadata": {},
   "outputs": [],
   "source": [
    "final_df.reset_index(drop=True,inplace=True)"
   ]
  },
  {
   "cell_type": "code",
   "execution_count": 23,
   "metadata": {},
   "outputs": [],
   "source": [
    "final_df.fillna(0, inplace=True)"
   ]
  },
  {
   "cell_type": "code",
   "execution_count": 24,
   "metadata": {},
   "outputs": [],
   "source": [
    "final_df.to_csv('data/final_df.csv', index=True)"
   ]
  },
  {
   "cell_type": "markdown",
   "metadata": {},
   "source": [
    "### Xgboost Classification Model"
   ]
  },
  {
   "cell_type": "code",
   "execution_count": 25,
   "metadata": {},
   "outputs": [],
   "source": [
    "train = final_df[final_df.date_block_num < 32]\n",
    "test =final_df[final_df.date_block_num == 32]"
   ]
  },
  {
   "cell_type": "code",
   "execution_count": 26,
   "metadata": {},
   "outputs": [],
   "source": [
    "train_f = train.drop(['target' ], axis=1)\n",
    "train_t = train['target']"
   ]
  },
  {
   "cell_type": "code",
   "execution_count": 27,
   "metadata": {},
   "outputs": [],
   "source": [
    "test_f = test.drop(['target'], axis=1)\n",
    "test_t = test['target']"
   ]
  },
  {
   "cell_type": "code",
   "execution_count": 28,
   "metadata": {},
   "outputs": [],
   "source": [
    "DM_train = xgb.DMatrix(data=train_f, label=train_t)\n",
    "DM_test =  xgb.DMatrix(data=test_f, label=test_t)"
   ]
  },
  {
   "cell_type": "code",
   "execution_count": 29,
   "metadata": {},
   "outputs": [],
   "source": [
    "params = {\"booster\":\"gbtree\", \"objective\":\"reg:squarederror\", 'max_depth':8, 'n_estimators':500, 'min_child_weight':40, 'colsample_bytree': 0.8, \n",
    "          'subsample':0.8, 'eta' :0.3, 'seed':42}"
   ]
  },
  {
   "cell_type": "code",
   "execution_count": 30,
   "metadata": {},
   "outputs": [
    {
     "name": "stdout",
     "output_type": "stream",
     "text": [
      "[22:17:54] WARNING: src/learner.cc:686: Tree method is automatically selected to be 'approx' for faster speed. To use old behavior (exact greedy algorithm on single machine), set tree_method to 'exact'.\n",
      "Wall time: 1min 3s\n"
     ]
    }
   ],
   "source": [
    "%%time\n",
    "xg_reg = xgb.train(params = params, dtrain=DM_train, num_boost_round=15)"
   ]
  },
  {
   "cell_type": "code",
   "execution_count": 31,
   "metadata": {},
   "outputs": [
    {
     "name": "stdout",
     "output_type": "stream",
     "text": [
      "RMSE: 3.914721\n"
     ]
    }
   ],
   "source": [
    "preds = (xg_reg.predict(DM_test))\n",
    "\n",
    "rmse_xgb = np.sqrt(mean_squared_error(test_t,preds))\n",
    "print(\"RMSE: %f\" % (rmse_xgb))"
   ]
  },
  {
   "cell_type": "code",
   "execution_count": 32,
   "metadata": {},
   "outputs": [
    {
     "data": {
      "image/png": "[encoded data removed]",
      "text/plain": [
       "<Figure size 432x288 with 1 Axes>"
      ]
     },
     "metadata": {
      "needs_background": "light"
     },
     "output_type": "display_data"
    }
   ],
   "source": [
    "from xgboost import plot_importance\n",
    "plot_importance(xg_reg)\n",
    "plt.show()"
   ]
  },
  {
   "cell_type": "code",
   "execution_count": 33,
   "metadata": {},
   "outputs": [],
   "source": [
    "rfc = RandomForestRegressor(n_estimators=250, max_depth=6, n_jobs=-1, min_samples_leaf=1000)"
   ]
  },
  {
   "cell_type": "code",
   "execution_count": 34,
   "metadata": {},
   "outputs": [
    {
     "name": "stdout",
     "output_type": "stream",
     "text": [
      "Wall time: 21min 23s\n"
     ]
    },
    {
     "data": {
      "text/plain": [
       "RandomForestRegressor(bootstrap=True, ccp_alpha=0.0, criterion='mse',\n",
       "                      max_depth=6, max_features='auto', max_leaf_nodes=None,\n",
       "                      max_samples=None, min_impurity_decrease=0.0,\n",
       "                      min_impurity_split=None, min_samples_leaf=1000,\n",
       "                      min_samples_split=2, min_weight_fraction_leaf=0.0,\n",
       "                      n_estimators=250, n_jobs=-1, oob_score=False,\n",
       "                      random_state=None, verbose=0, warm_start=False)"
      ]
     },
     "execution_count": 34,
     "metadata": {},
     "output_type": "execute_result"
    }
   ],
   "source": [
    "%%time\n",
    "rfc.fit(train_f, train_t);"
   ]
  },
  {
   "cell_type": "code",
   "execution_count": 35,
   "metadata": {},
   "outputs": [
    {
     "name": "stdout",
     "output_type": "stream",
     "text": [
      "RMSE: 3.851035\n"
     ]
    }
   ],
   "source": [
    "pred_rfc = rfc.predict(test_f)\n",
    "rmse_rfc = np.sqrt(mean_squared_error(test_t,pred_rfc))\n",
    "print(\"RMSE: %f\" % (rmse_rfc))"
   ]
  },
  {
   "cell_type": "code",
   "execution_count": 36,
   "metadata": {},
   "outputs": [
    {
     "name": "stdout",
     "output_type": "stream",
     "text": [
      "Wall time: 265 ms\n"
     ]
    },
    {
     "data": {
      "text/plain": [
       "<matplotlib.axes._subplots.AxesSubplot at 0x17a041d3400>"
      ]
     },
     "execution_count": 36,
     "metadata": {},
     "output_type": "execute_result"
    },
    {
     "data": {
      "image/png": "[encoded data removed]",
      "text/plain": [
       "<Figure size 432x288 with 1 Axes>"
      ]
     },
     "metadata": {
      "needs_background": "light"
     },
     "output_type": "display_data"
    }
   ],
   "source": [
    "%%time\n",
    "f_importance = pd.Series(rfc.feature_importances_, index=train_f.columns)\n",
    "f_importance.plot(kind='barh')"
   ]
  },
  {
   "cell_type": "code",
   "execution_count": 37,
   "metadata": {},
   "outputs": [
    {
     "name": "stdout",
     "output_type": "stream",
     "text": [
      "RMSE: 4.031608\n"
     ]
    }
   ],
   "source": [
    "regr = linear_model.Ridge()\n",
    "regr.fit(train_f, train_t)\n",
    "pred_reg = regr.predict(test_f)\n",
    "rmse_reg = np.sqrt(mean_squared_error(test_t, pred_reg))\n",
    "print(\"RMSE: %f\" % (rmse_reg))"
   ]
  },
  {
   "cell_type": "code",
   "execution_count": 38,
   "metadata": {},
   "outputs": [
    {
     "name": "stdout",
     "output_type": "stream",
     "text": [
      "{'xgb': 3.9147209995668977, 'random_forest': 3.85103509635787, 'ridge': 4.031607779752055}\n"
     ]
    }
   ],
   "source": [
    "model_comparison = dict({'xgb': rmse_xgb, 'random_forest': rmse_rfc, 'ridge': rmse_reg})\n",
    "print(model_comparison)"
   ]
  },
  {
   "cell_type": "markdown",
   "metadata": {},
   "source": [
    "##### All three models have close performance. Xgboost executed faster and become the preferred model."
   ]
  }
 ],
 "metadata": {
  "kernelspec": {
   "display_name": "Python 3",
   "language": "python",
   "name": "python3"
  },
  "language_info": {
   "codemirror_mode": {
    "name": "ipython",
    "version": 3
   },
   "file_extension": ".py",
   "mimetype": "text/x-python",
   "name": "python",
   "nbconvert_exporter": "python",
   "pygments_lexer": "ipython3",
   "version": "3.7.3"
  }
 },
 "nbformat": 4,
 "nbformat_minor": 4
}
