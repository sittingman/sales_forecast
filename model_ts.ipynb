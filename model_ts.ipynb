{
 "cells": [
  {
   "cell_type": "markdown",
   "metadata": {},
   "source": [
    "## Time Series Models"
   ]
  },
  {
   "cell_type": "markdown",
   "metadata": {},
   "source": [
    "Based on the statistical test execrise, the data meet stationary requirement. We will apply five different time series to identify the best fit models\n",
    "- ARIMA\n",
    "- SARIMA\n",
    "- Prophet\n",
    "- Exponential Smoothing\n",
    "- VARMAX"
   ]
  },
  {
   "cell_type": "code",
   "execution_count": 1,
   "metadata": {},
   "outputs": [
    {
     "name": "stderr",
     "output_type": "stream",
     "text": [
      "C:\\Users\\sit_k\\AppData\\Local\\Continuum\\anaconda3\\lib\\site-packages\\sklearn\\externals\\six.py:31: FutureWarning: The module is deprecated in version 0.21 and will be removed in version 0.23 since we've dropped support for Python 2.7. Please rely on the official version of six (https://pypi.org/project/six/).\n",
      "  \"(https://pypi.org/project/six/).\", FutureWarning)\n",
      "C:\\Users\\sit_k\\AppData\\Local\\Continuum\\anaconda3\\lib\\site-packages\\statsmodels\\tools\\_testing.py:19: FutureWarning: pandas.util.testing is deprecated. Use the functions in the public API at pandas.testing instead.\n",
      "  import pandas.util.testing as tm\n",
      "C:\\Users\\sit_k\\AppData\\Local\\Continuum\\anaconda3\\lib\\site-packages\\sklearn\\externals\\joblib\\__init__.py:15: FutureWarning: sklearn.externals.joblib is deprecated in 0.21 and will be removed in 0.23. Please import this functionality directly from joblib, which can be installed with: pip install joblib. If this warning is raised when loading pickled models, you may need to re-serialize those models with scikit-learn 0.21+.\n",
      "  warnings.warn(msg, category=FutureWarning)\n"
     ]
    }
   ],
   "source": [
    "import numpy as np\n",
    "import pandas as pd\n",
    "from pandas.plotting import register_matplotlib_converters\n",
    "register_matplotlib_converters()\n",
    "import pmdarima as pm\n",
    "from statsmodels.graphics.tsaplots import plot_acf, plot_pacf\n",
    "from sklearn.metrics import mean_squared_error\n",
    "from statsmodels.tsa.arima_model import ARMA, ARIMA\n",
    "from statsmodels.tsa.statespace.sarimax import SARIMAX\n",
    "from statsmodels.tsa.statespace.varmax import VARMAX\n",
    "from fbprophet import Prophet\n",
    "from statsmodels.tsa.holtwinters import ExponentialSmoothing\n",
    "import logging\n",
    "logging.getLogger().setLevel(logging.ERROR)\n",
    "import matplotlib.pyplot as plt\n",
    "import seaborn as sns\n",
    "sns.set()\n",
    "%matplotlib inline "
   ]
  },
  {
   "cell_type": "code",
   "execution_count": 2,
   "metadata": {},
   "outputs": [],
   "source": [
    "raw_df = pd.read_csv('data/train_df.csv', parse_dates=['date'])"
   ]
  },
  {
   "cell_type": "markdown",
   "metadata": {},
   "source": [
    "Outlier removal steps as developed in another analysis"
   ]
  },
  {
   "cell_type": "code",
   "execution_count": 3,
   "metadata": {},
   "outputs": [
    {
     "data": {
      "text/html": [
       "<div>\n",
       "<style scoped>\n",
       "    .dataframe tbody tr th:only-of-type {\n",
       "        vertical-align: middle;\n",
       "    }\n",
       "\n",
       "    .dataframe tbody tr th {\n",
       "        vertical-align: top;\n",
       "    }\n",
       "\n",
       "    .dataframe thead th {\n",
       "        text-align: right;\n",
       "    }\n",
       "</style>\n",
       "<table border=\"1\" class=\"dataframe\">\n",
       "  <thead>\n",
       "    <tr style=\"text-align: right;\">\n",
       "      <th></th>\n",
       "      <th>date</th>\n",
       "      <th>date_block_num</th>\n",
       "      <th>shop_id</th>\n",
       "      <th>shop_name</th>\n",
       "      <th>item_id</th>\n",
       "      <th>item_name</th>\n",
       "      <th>item_category_id</th>\n",
       "      <th>item_category_name</th>\n",
       "      <th>item_price</th>\n",
       "      <th>item_cnt_day</th>\n",
       "      <th>sales</th>\n",
       "    </tr>\n",
       "  </thead>\n",
       "  <tbody>\n",
       "    <tr>\n",
       "      <th>0</th>\n",
       "      <td>2013-01-02</td>\n",
       "      <td>0</td>\n",
       "      <td>59</td>\n",
       "      <td>Ярославль ТЦ \"Альтаир\"</td>\n",
       "      <td>22154</td>\n",
       "      <td>ЯВЛЕНИЕ 2012 (BD)</td>\n",
       "      <td>37</td>\n",
       "      <td>Кино - Blu-Ray</td>\n",
       "      <td>999.0</td>\n",
       "      <td>1.0</td>\n",
       "      <td>999.0</td>\n",
       "    </tr>\n",
       "    <tr>\n",
       "      <th>1</th>\n",
       "      <td>2013-01-02</td>\n",
       "      <td>0</td>\n",
       "      <td>25</td>\n",
       "      <td>Москва ТРК \"Атриум\"</td>\n",
       "      <td>22154</td>\n",
       "      <td>ЯВЛЕНИЕ 2012 (BD)</td>\n",
       "      <td>37</td>\n",
       "      <td>Кино - Blu-Ray</td>\n",
       "      <td>999.0</td>\n",
       "      <td>1.0</td>\n",
       "      <td>999.0</td>\n",
       "    </tr>\n",
       "    <tr>\n",
       "      <th>2</th>\n",
       "      <td>2013-01-03</td>\n",
       "      <td>0</td>\n",
       "      <td>25</td>\n",
       "      <td>Москва ТРК \"Атриум\"</td>\n",
       "      <td>22154</td>\n",
       "      <td>ЯВЛЕНИЕ 2012 (BD)</td>\n",
       "      <td>37</td>\n",
       "      <td>Кино - Blu-Ray</td>\n",
       "      <td>999.0</td>\n",
       "      <td>1.0</td>\n",
       "      <td>999.0</td>\n",
       "    </tr>\n",
       "    <tr>\n",
       "      <th>3</th>\n",
       "      <td>2013-01-20</td>\n",
       "      <td>0</td>\n",
       "      <td>25</td>\n",
       "      <td>Москва ТРК \"Атриум\"</td>\n",
       "      <td>22154</td>\n",
       "      <td>ЯВЛЕНИЕ 2012 (BD)</td>\n",
       "      <td>37</td>\n",
       "      <td>Кино - Blu-Ray</td>\n",
       "      <td>999.0</td>\n",
       "      <td>1.0</td>\n",
       "      <td>999.0</td>\n",
       "    </tr>\n",
       "    <tr>\n",
       "      <th>4</th>\n",
       "      <td>2013-01-23</td>\n",
       "      <td>0</td>\n",
       "      <td>25</td>\n",
       "      <td>Москва ТРК \"Атриум\"</td>\n",
       "      <td>22154</td>\n",
       "      <td>ЯВЛЕНИЕ 2012 (BD)</td>\n",
       "      <td>37</td>\n",
       "      <td>Кино - Blu-Ray</td>\n",
       "      <td>999.0</td>\n",
       "      <td>1.0</td>\n",
       "      <td>999.0</td>\n",
       "    </tr>\n",
       "  </tbody>\n",
       "</table>\n",
       "</div>"
      ],
      "text/plain": [
       "        date  date_block_num  shop_id               shop_name  item_id  \\\n",
       "0 2013-01-02               0       59  Ярославль ТЦ \"Альтаир\"    22154   \n",
       "1 2013-01-02               0       25     Москва ТРК \"Атриум\"    22154   \n",
       "2 2013-01-03               0       25     Москва ТРК \"Атриум\"    22154   \n",
       "3 2013-01-20               0       25     Москва ТРК \"Атриум\"    22154   \n",
       "4 2013-01-23               0       25     Москва ТРК \"Атриум\"    22154   \n",
       "\n",
       "           item_name  item_category_id item_category_name  item_price  \\\n",
       "0  ЯВЛЕНИЕ 2012 (BD)                37     Кино - Blu-Ray       999.0   \n",
       "1  ЯВЛЕНИЕ 2012 (BD)                37     Кино - Blu-Ray       999.0   \n",
       "2  ЯВЛЕНИЕ 2012 (BD)                37     Кино - Blu-Ray       999.0   \n",
       "3  ЯВЛЕНИЕ 2012 (BD)                37     Кино - Blu-Ray       999.0   \n",
       "4  ЯВЛЕНИЕ 2012 (BD)                37     Кино - Blu-Ray       999.0   \n",
       "\n",
       "   item_cnt_day  sales  \n",
       "0           1.0  999.0  \n",
       "1           1.0  999.0  \n",
       "2           1.0  999.0  \n",
       "3           1.0  999.0  \n",
       "4           1.0  999.0  "
      ]
     },
     "execution_count": 3,
     "metadata": {},
     "output_type": "execute_result"
    }
   ],
   "source": [
    "id_out = [11, 14, 15, 12]\n",
    "raw_df.loc[(raw_df.date == '2013-11-29') & (raw_df.item_category_id.isin(id_out)), 'sales'] = np.nan\n",
    "raw_df.loc[(raw_df.date_block_num == 10) & (raw_df.item_category_id.isin(id_out))].interpolate(method='linear');\n",
    "raw_df.head()"
   ]
  },
  {
   "cell_type": "code",
   "execution_count": 4,
   "metadata": {},
   "outputs": [],
   "source": [
    "ts_data = raw_df[['date','sales']]"
   ]
  },
  {
   "cell_type": "code",
   "execution_count": 5,
   "metadata": {},
   "outputs": [
    {
     "data": {
      "text/plain": [
       "date\n",
       "2013-01-01    1240542.46\n",
       "2013-01-02    5386498.06\n",
       "2013-01-03    4775444.11\n",
       "2013-01-04    4235864.80\n",
       "2013-01-05    3980626.10\n",
       "Name: sales, dtype: float64"
      ]
     },
     "execution_count": 5,
     "metadata": {},
     "output_type": "execute_result"
    }
   ],
   "source": [
    "ts_daily = ts_data.groupby(['date'])['sales'].sum()\n",
    "ts_daily.head()"
   ]
  },
  {
   "cell_type": "markdown",
   "metadata": {},
   "source": [
    "### ARMA model (baseline model)\n",
    "\n",
    "We will start with model order 1 to get a naive based model predictions on sales. We split the dataset into train (Jan 2013 - Jul 2015) and test (Aug 2015 - Oct 2015)."
   ]
  },
  {
   "cell_type": "code",
   "execution_count": 6,
   "metadata": {},
   "outputs": [],
   "source": [
    "pred_period = 30  # roughly representOct 2015"
   ]
  },
  {
   "cell_type": "code",
   "execution_count": 7,
   "metadata": {},
   "outputs": [],
   "source": [
    "ts_train = ts_daily[:-pred_period]\n",
    "ts_test = ts_daily[-pred_period:]"
   ]
  },
  {
   "cell_type": "code",
   "execution_count": 8,
   "metadata": {},
   "outputs": [],
   "source": [
    "mod = ARMA(ts_train, order=(1,0), freq='D')\n",
    "res = mod.fit()\n",
    "arma = res.predict(start=ts_test.index[0], end=ts_test.index[-1])"
   ]
  },
  {
   "cell_type": "code",
   "execution_count": 9,
   "metadata": {},
   "outputs": [
    {
     "name": "stdout",
     "output_type": "stream",
     "text": [
      "RMSE is 1,216,434\n"
     ]
    }
   ],
   "source": [
    "arma_rmse = np.sqrt(mean_squared_error(ts_test, arma))\n",
    "print('RMSE is {:,.0f}'.format(arma_rmse))"
   ]
  },
  {
   "cell_type": "markdown",
   "metadata": {},
   "source": [
    "Above is the 1st order model result. RSME is the model evaluation KPIs\n",
    "<br>\n",
    "We will now run through the train and predict for the following models\n",
    "\n",
    "- SARIMA model\n",
    "- Prophet\n",
    "- Holt Winter’s Exponential Smoothing\n",
    "- Multivariate Time Series Model"
   ]
  },
  {
   "cell_type": "markdown",
   "metadata": {},
   "source": [
    "### SARIMA"
   ]
  },
  {
   "cell_type": "markdown",
   "metadata": {},
   "source": [
    "Use auto_arima to find the optimal orders"
   ]
  },
  {
   "cell_type": "code",
   "execution_count": 10,
   "metadata": {},
   "outputs": [
    {
     "name": "stdout",
     "output_type": "stream",
     "text": [
      "Fit ARIMA: order=(1, 1, 1) seasonal_order=(0, 1, 1, 12); AIC=31134.466, BIC=31158.960, Fit time=0.946 seconds\n",
      "Fit ARIMA: order=(0, 1, 0) seasonal_order=(0, 1, 0, 12); AIC=31783.507, BIC=31793.305, Fit time=0.053 seconds\n",
      "Fit ARIMA: order=(1, 1, 0) seasonal_order=(1, 1, 0, 12); AIC=31435.775, BIC=31455.369, Fit time=0.496 seconds\n",
      "Fit ARIMA: order=(0, 1, 1) seasonal_order=(0, 1, 1, 12); AIC=31163.990, BIC=31183.584, Fit time=0.622 seconds\n",
      "Fit ARIMA: order=(1, 1, 1) seasonal_order=(1, 1, 1, 12); AIC=31126.890, BIC=31156.282, Fit time=1.089 seconds\n",
      "Fit ARIMA: order=(1, 1, 1) seasonal_order=(1, 1, 0, 12); AIC=31302.666, BIC=31327.160, Fit time=1.073 seconds\n",
      "Fit ARIMA: order=(1, 1, 1) seasonal_order=(1, 1, 2, 12); AIC=31126.078, BIC=31160.369, Fit time=3.840 seconds\n",
      "Fit ARIMA: order=(0, 1, 1) seasonal_order=(1, 1, 2, 12); AIC=31159.809, BIC=31189.201, Fit time=4.937 seconds\n",
      "Fit ARIMA: order=(2, 1, 1) seasonal_order=(1, 1, 2, 12); AIC=31105.266, BIC=31144.455, Fit time=6.953 seconds\n",
      "Fit ARIMA: order=(2, 1, 0) seasonal_order=(1, 1, 2, 12); AIC=31137.723, BIC=31172.014, Fit time=9.747 seconds\n",
      "Fit ARIMA: order=(2, 1, 2) seasonal_order=(1, 1, 2, 12); AIC=31066.726, BIC=31110.815, Fit time=12.367 seconds\n",
      "Fit ARIMA: order=(3, 1, 3) seasonal_order=(1, 1, 2, 12); AIC=31035.025, BIC=31088.910, Fit time=31.932 seconds\n",
      "Fit ARIMA: order=(3, 1, 3) seasonal_order=(0, 1, 2, 12); AIC=31037.452, BIC=31086.439, Fit time=26.697 seconds\n",
      "Fit ARIMA: order=(3, 1, 3) seasonal_order=(2, 1, 2, 12); AIC=31039.471, BIC=31098.255, Fit time=29.759 seconds\n",
      "Fit ARIMA: order=(3, 1, 3) seasonal_order=(1, 1, 1, 12); AIC=31040.068, BIC=31089.055, Fit time=9.281 seconds\n",
      "Fit ARIMA: order=(3, 1, 3) seasonal_order=(0, 1, 1, 12); AIC=31039.154, BIC=31083.242, Fit time=10.119 seconds\n",
      "Fit ARIMA: order=(2, 1, 3) seasonal_order=(1, 1, 2, 12); AIC=31072.766, BIC=31121.753, Fit time=25.461 seconds\n",
      "Fit ARIMA: order=(3, 1, 2) seasonal_order=(1, 1, 2, 12); AIC=31064.091, BIC=31113.078, Fit time=26.908 seconds\n",
      "Total fit time: 202.286 seconds\n"
     ]
    }
   ],
   "source": [
    "stepwise_fit = pm.auto_arima(ts_train, start_p=1, start_q=1,\n",
    "                             max_p=3, max_q=3, m=12, #set m=12 based on seaonality observations from exploratory analysis\n",
    "                             start_P=0, seasonal=True,\n",
    "                             d=1, D=1, trace=True,\n",
    "                             error_action='ignore',  # don't want to know if an order does not work\n",
    "                             suppress_warnings=True,  # don't want convergence warnings\n",
    "                             stepwise=True)  # set to stepwise"
   ]
  },
  {
   "cell_type": "code",
   "execution_count": 11,
   "metadata": {},
   "outputs": [
    {
     "data": {
      "text/html": [
       "<table class=\"simpletable\">\n",
       "<caption>Statespace Model Results</caption>\n",
       "<tr>\n",
       "  <th>Dep. Variable:</th>                  <td>y</td>               <th>  No. Observations:  </th>    <td>1004</td>   \n",
       "</tr>\n",
       "<tr>\n",
       "  <th>Model:</th>           <td>SARIMAX(3, 1, 3)x(1, 1, 2, 12)</td> <th>  Log Likelihood     </th> <td>-15506.512</td>\n",
       "</tr>\n",
       "<tr>\n",
       "  <th>Date:</th>                   <td>Sun, 23 Feb 2020</td>        <th>  AIC                </th>  <td>31035.025</td>\n",
       "</tr>\n",
       "<tr>\n",
       "  <th>Time:</th>                       <td>21:55:27</td>            <th>  BIC                </th>  <td>31088.910</td>\n",
       "</tr>\n",
       "<tr>\n",
       "  <th>Sample:</th>                         <td>0</td>               <th>  HQIC               </th>  <td>31055.514</td>\n",
       "</tr>\n",
       "<tr>\n",
       "  <th></th>                             <td> - 1004</td>            <th>                     </th>      <td> </td>    \n",
       "</tr>\n",
       "<tr>\n",
       "  <th>Covariance Type:</th>               <td>opg</td>              <th>                     </th>      <td> </td>    \n",
       "</tr>\n",
       "</table>\n",
       "<table class=\"simpletable\">\n",
       "<tr>\n",
       "      <td></td>         <th>coef</th>     <th>std err</th>      <th>z</th>      <th>P>|z|</th>  <th>[0.025</th>    <th>0.975]</th>  \n",
       "</tr>\n",
       "<tr>\n",
       "  <th>intercept</th> <td> 6652.2611</td> <td> 3.29e+04</td> <td>    0.202</td> <td> 0.840</td> <td>-5.78e+04</td> <td> 7.11e+04</td>\n",
       "</tr>\n",
       "<tr>\n",
       "  <th>ar.L1</th>     <td>    0.0037</td> <td>    0.053</td> <td>    0.071</td> <td> 0.943</td> <td>   -0.099</td> <td>    0.107</td>\n",
       "</tr>\n",
       "<tr>\n",
       "  <th>ar.L2</th>     <td>   -0.7973</td> <td>    0.025</td> <td>  -32.152</td> <td> 0.000</td> <td>   -0.846</td> <td>   -0.749</td>\n",
       "</tr>\n",
       "<tr>\n",
       "  <th>ar.L3</th>     <td>    0.4456</td> <td>    0.051</td> <td>    8.771</td> <td> 0.000</td> <td>    0.346</td> <td>    0.545</td>\n",
       "</tr>\n",
       "<tr>\n",
       "  <th>ma.L1</th>     <td>   -0.4551</td> <td>    0.040</td> <td>  -11.326</td> <td> 0.000</td> <td>   -0.534</td> <td>   -0.376</td>\n",
       "</tr>\n",
       "<tr>\n",
       "  <th>ma.L2</th>     <td>    0.6171</td> <td>    0.027</td> <td>   23.241</td> <td> 0.000</td> <td>    0.565</td> <td>    0.669</td>\n",
       "</tr>\n",
       "<tr>\n",
       "  <th>ma.L3</th>     <td>   -0.8779</td> <td>    0.043</td> <td>  -20.630</td> <td> 0.000</td> <td>   -0.961</td> <td>   -0.794</td>\n",
       "</tr>\n",
       "<tr>\n",
       "  <th>ar.S.L12</th>  <td>   -0.8569</td> <td>    8.971</td> <td>   -0.096</td> <td> 0.924</td> <td>  -18.440</td> <td>   16.726</td>\n",
       "</tr>\n",
       "<tr>\n",
       "  <th>ma.S.L12</th>  <td>   -0.0694</td> <td>    8.996</td> <td>   -0.008</td> <td> 0.994</td> <td>  -17.702</td> <td>   17.563</td>\n",
       "</tr>\n",
       "<tr>\n",
       "  <th>ma.S.L24</th>  <td>   -0.7914</td> <td>    8.331</td> <td>   -0.095</td> <td> 0.924</td> <td>  -17.121</td> <td>   15.538</td>\n",
       "</tr>\n",
       "<tr>\n",
       "  <th>sigma2</th>    <td> 3.867e+12</td> <td>    0.001</td> <td> 3.36e+15</td> <td> 0.000</td> <td> 3.87e+12</td> <td> 3.87e+12</td>\n",
       "</tr>\n",
       "</table>\n",
       "<table class=\"simpletable\">\n",
       "<tr>\n",
       "  <th>Ljung-Box (Q):</th>          <td>177.29</td> <th>  Jarque-Bera (JB):  </th> <td>69402.90</td>\n",
       "</tr>\n",
       "<tr>\n",
       "  <th>Prob(Q):</th>                 <td>0.00</td>  <th>  Prob(JB):          </th>   <td>0.00</td>  \n",
       "</tr>\n",
       "<tr>\n",
       "  <th>Heteroskedasticity (H):</th>  <td>2.65</td>  <th>  Skew:              </th>   <td>3.87</td>  \n",
       "</tr>\n",
       "<tr>\n",
       "  <th>Prob(H) (two-sided):</th>     <td>0.00</td>  <th>  Kurtosis:          </th>   <td>43.26</td> \n",
       "</tr>\n",
       "</table><br/><br/>Warnings:<br/>[1] Covariance matrix calculated using the outer product of gradients (complex-step).<br/>[2] Covariance matrix is singular or near-singular, with condition number 1.01e+31. Standard errors may be unstable."
      ],
      "text/plain": [
       "<class 'statsmodels.iolib.summary.Summary'>\n",
       "\"\"\"\n",
       "                                 Statespace Model Results                                 \n",
       "==========================================================================================\n",
       "Dep. Variable:                                  y   No. Observations:                 1004\n",
       "Model:             SARIMAX(3, 1, 3)x(1, 1, 2, 12)   Log Likelihood              -15506.512\n",
       "Date:                            Sun, 23 Feb 2020   AIC                          31035.025\n",
       "Time:                                    21:55:27   BIC                          31088.910\n",
       "Sample:                                         0   HQIC                         31055.514\n",
       "                                           - 1004                                         \n",
       "Covariance Type:                              opg                                         \n",
       "==============================================================================\n",
       "                 coef    std err          z      P>|z|      [0.025      0.975]\n",
       "------------------------------------------------------------------------------\n",
       "intercept   6652.2611   3.29e+04      0.202      0.840   -5.78e+04    7.11e+04\n",
       "ar.L1          0.0037      0.053      0.071      0.943      -0.099       0.107\n",
       "ar.L2         -0.7973      0.025    -32.152      0.000      -0.846      -0.749\n",
       "ar.L3          0.4456      0.051      8.771      0.000       0.346       0.545\n",
       "ma.L1         -0.4551      0.040    -11.326      0.000      -0.534      -0.376\n",
       "ma.L2          0.6171      0.027     23.241      0.000       0.565       0.669\n",
       "ma.L3         -0.8779      0.043    -20.630      0.000      -0.961      -0.794\n",
       "ar.S.L12      -0.8569      8.971     -0.096      0.924     -18.440      16.726\n",
       "ma.S.L12      -0.0694      8.996     -0.008      0.994     -17.702      17.563\n",
       "ma.S.L24      -0.7914      8.331     -0.095      0.924     -17.121      15.538\n",
       "sigma2      3.867e+12      0.001   3.36e+15      0.000    3.87e+12    3.87e+12\n",
       "===================================================================================\n",
       "Ljung-Box (Q):                      177.29   Jarque-Bera (JB):             69402.90\n",
       "Prob(Q):                              0.00   Prob(JB):                         0.00\n",
       "Heteroskedasticity (H):               2.65   Skew:                             3.87\n",
       "Prob(H) (two-sided):                  0.00   Kurtosis:                        43.26\n",
       "===================================================================================\n",
       "\n",
       "Warnings:\n",
       "[1] Covariance matrix calculated using the outer product of gradients (complex-step).\n",
       "[2] Covariance matrix is singular or near-singular, with condition number 1.01e+31. Standard errors may be unstable.\n",
       "\"\"\""
      ]
     },
     "execution_count": 11,
     "metadata": {},
     "output_type": "execute_result"
    }
   ],
   "source": [
    "stepwise_fit.summary()"
   ]
  },
  {
   "cell_type": "code",
   "execution_count": 12,
   "metadata": {},
   "outputs": [
    {
     "name": "stderr",
     "output_type": "stream",
     "text": [
      "C:\\Users\\sit_k\\AppData\\Local\\Continuum\\anaconda3\\lib\\site-packages\\statsmodels\\base\\model.py:512: ConvergenceWarning:\n",
      "\n",
      "Maximum Likelihood optimization failed to converge. Check mle_retvals\n",
      "\n"
     ]
    }
   ],
   "source": [
    "mod_1 = SARIMAX(ts_train, order=(3,1,3), seasonal_order=(1,1,2,12), freq='D')\n",
    "res_1 = mod_1.fit()\n",
    "sarimax = res_1.predict(start=ts_test.index[0], end=ts_test.index[-1])"
   ]
  },
  {
   "cell_type": "code",
   "execution_count": 13,
   "metadata": {},
   "outputs": [
    {
     "name": "stdout",
     "output_type": "stream",
     "text": [
      "RMSE is 1,077,106\n"
     ]
    }
   ],
   "source": [
    "sarx_rmse = np.sqrt(mean_squared_error(ts_test, sarimax))\n",
    "print('RMSE is {:,.0f}'.format(sarx_rmse))"
   ]
  },
  {
   "cell_type": "markdown",
   "metadata": {},
   "source": [
    "### Holt Winter’s Exponential Smoothing"
   ]
  },
  {
   "cell_type": "code",
   "execution_count": 14,
   "metadata": {},
   "outputs": [],
   "source": [
    "mod_h = ExponentialSmoothing(ts_train, seasonal_periods=12, trend='add', seasonal='add', freq='D', damped=True)\n",
    "res_h = mod_h.fit(use_boxcox=True)\n",
    "holt_w = res_h.predict(start=ts_test.index[0], end=ts_test.index[-1])"
   ]
  },
  {
   "cell_type": "code",
   "execution_count": 15,
   "metadata": {},
   "outputs": [
    {
     "name": "stdout",
     "output_type": "stream",
     "text": [
      "RMSE is 1,428,868\n"
     ]
    }
   ],
   "source": [
    "holt_w_rmse = np.sqrt(mean_squared_error(ts_test, holt_w))\n",
    "print('RMSE is {:,.0f}'.format(holt_w_rmse))"
   ]
  },
  {
   "cell_type": "markdown",
   "metadata": {},
   "source": [
    "### Prophet\n",
    "\n",
    "The model works well with continuous time data. We will switch apply the daily level data set to the model"
   ]
  },
  {
   "cell_type": "code",
   "execution_count": 16,
   "metadata": {},
   "outputs": [],
   "source": [
    "prophet_df = ts_daily.reset_index()\n",
    "prophet_df.columns = ['ds','y']\n",
    "prophet_df.ds = pd.to_datetime(prophet_df.ds)\n",
    "prophet_df.y = prophet_df.y.astype('float')"
   ]
  },
  {
   "cell_type": "code",
   "execution_count": 17,
   "metadata": {},
   "outputs": [],
   "source": [
    "prophet_train = prophet_df[:-pred_period]"
   ]
  },
  {
   "cell_type": "code",
   "execution_count": 18,
   "metadata": {},
   "outputs": [
    {
     "name": "stderr",
     "output_type": "stream",
     "text": [
      "C:\\Users\\sit_k\\AppData\\Local\\Continuum\\anaconda3\\lib\\site-packages\\fbprophet\\forecaster.py:400: FutureWarning:\n",
      "\n",
      "The pandas.datetime class is deprecated and will be removed from pandas in a future version. Import from datetime module instead.\n",
      "\n",
      "C:\\Users\\sit_k\\AppData\\Local\\Continuum\\anaconda3\\lib\\site-packages\\pystan\\misc.py:399: FutureWarning:\n",
      "\n",
      "Conversion of the second argument of issubdtype from `float` to `np.floating` is deprecated. In future, it will be treated as `np.float64 == np.dtype(float).type`.\n",
      "\n"
     ]
    }
   ],
   "source": [
    "m = Prophet()\n",
    "m.fit(prophet_train)\n",
    "future = m.make_future_dataframe(periods=pred_period, freq='D')\n",
    "fcst = m.predict(future)"
   ]
  },
  {
   "cell_type": "code",
   "execution_count": 19,
   "metadata": {},
   "outputs": [],
   "source": [
    "fcst_data = fcst[['ds', 'yhat']][-pred_period:]\n",
    "fcst_data.set_index(fcst_data['ds'],inplace=True)"
   ]
  },
  {
   "cell_type": "code",
   "execution_count": 20,
   "metadata": {},
   "outputs": [],
   "source": [
    "prophet = pd.Series(fcst_data['yhat'], index=fcst_data.index)"
   ]
  },
  {
   "cell_type": "code",
   "execution_count": 21,
   "metadata": {},
   "outputs": [
    {
     "name": "stdout",
     "output_type": "stream",
     "text": [
      "RMSE is 1,136,539\n"
     ]
    }
   ],
   "source": [
    "prophet_rmse = np.sqrt(mean_squared_error(ts_test, prophet))\n",
    "print('RMSE is {:,.0f}'.format(prophet_rmse))"
   ]
  },
  {
   "cell_type": "markdown",
   "metadata": {},
   "source": [
    "### VARMAX (Mulitvariate Time Series)\n",
    "\n",
    "In exploratory anaylsis, we found out top 7 item categories which made up of 92% of total sales, but each category has different time series trend. We want to see if we predict each of the categories independently, and them up, would the total sales be more reflective to certain sales spikes and dips driven by category's sales trend."
   ]
  },
  {
   "cell_type": "code",
   "execution_count": 22,
   "metadata": {},
   "outputs": [],
   "source": [
    "product = raw_df.groupby(['date','item_category_name'])['sales'].sum().reset_index(drop=False)\n",
    "product[['sub_cat', 'prod_name']] = product['item_category_name'].str.split('-', n=1, expand=True)\n",
    "product['sub_cat'] = product['sub_cat'].apply(lambda x: x.strip().lower())"
   ]
  },
  {
   "cell_type": "code",
   "execution_count": 23,
   "metadata": {},
   "outputs": [],
   "source": [
    "subcat = product.groupby(['date','sub_cat'])['sales'].sum().reset_index(drop=False)"
   ]
  },
  {
   "cell_type": "code",
   "execution_count": 24,
   "metadata": {},
   "outputs": [],
   "source": [
    "#below are top categoroies identified in exploratory analysis, which account for 92% of total sales\n",
    "top_cat = ['игры','игровые консоли','игры pc', 'кино','подарки','аксессуары','музыка','программы']"
   ]
  },
  {
   "cell_type": "code",
   "execution_count": 25,
   "metadata": {},
   "outputs": [],
   "source": [
    "top_subcat = subcat[subcat.sub_cat.isin(top_cat)]"
   ]
  },
  {
   "cell_type": "code",
   "execution_count": 26,
   "metadata": {},
   "outputs": [],
   "source": [
    "top_subcat_pivot = top_subcat.pivot_table(index=['date'],columns=['sub_cat'], values=['sales'],aggfunc='sum')\n",
    "top_subcat_pivot.fillna(0, inplace=True)"
   ]
  },
  {
   "cell_type": "code",
   "execution_count": 27,
   "metadata": {},
   "outputs": [],
   "source": [
    "top_subcat_pivot.columns = top_subcat_pivot.columns.droplevel(0)"
   ]
  },
  {
   "cell_type": "code",
   "execution_count": 28,
   "metadata": {},
   "outputs": [],
   "source": [
    "top_subcat_pivot = top_subcat_pivot.reset_index().rename_axis(None, axis=1)\n",
    "top_subcat_pivot.set_index('date', inplace=True)"
   ]
  },
  {
   "cell_type": "code",
   "execution_count": 29,
   "metadata": {},
   "outputs": [
    {
     "data": {
      "text/html": [
       "<div>\n",
       "<style scoped>\n",
       "    .dataframe tbody tr th:only-of-type {\n",
       "        vertical-align: middle;\n",
       "    }\n",
       "\n",
       "    .dataframe tbody tr th {\n",
       "        vertical-align: top;\n",
       "    }\n",
       "\n",
       "    .dataframe thead th {\n",
       "        text-align: right;\n",
       "    }\n",
       "</style>\n",
       "<table border=\"1\" class=\"dataframe\">\n",
       "  <thead>\n",
       "    <tr style=\"text-align: right;\">\n",
       "      <th></th>\n",
       "      <th>аксессуары</th>\n",
       "      <th>игровые консоли</th>\n",
       "      <th>игры</th>\n",
       "      <th>игры pc</th>\n",
       "      <th>кино</th>\n",
       "      <th>музыка</th>\n",
       "      <th>подарки</th>\n",
       "      <th>программы</th>\n",
       "    </tr>\n",
       "    <tr>\n",
       "      <th>date</th>\n",
       "      <th></th>\n",
       "      <th></th>\n",
       "      <th></th>\n",
       "      <th></th>\n",
       "      <th></th>\n",
       "      <th></th>\n",
       "      <th></th>\n",
       "      <th></th>\n",
       "    </tr>\n",
       "  </thead>\n",
       "  <tbody>\n",
       "    <tr>\n",
       "      <th>2013-01-01</th>\n",
       "      <td>97215.64</td>\n",
       "      <td>23462.65</td>\n",
       "      <td>454649.02</td>\n",
       "      <td>197964.88</td>\n",
       "      <td>222527.07</td>\n",
       "      <td>73564.00</td>\n",
       "      <td>106967.55</td>\n",
       "      <td>33820.5</td>\n",
       "    </tr>\n",
       "    <tr>\n",
       "      <th>2013-01-02</th>\n",
       "      <td>422891.94</td>\n",
       "      <td>93503.47</td>\n",
       "      <td>1954434.39</td>\n",
       "      <td>1006318.60</td>\n",
       "      <td>931280.32</td>\n",
       "      <td>255983.24</td>\n",
       "      <td>423317.20</td>\n",
       "      <td>214492.0</td>\n",
       "    </tr>\n",
       "    <tr>\n",
       "      <th>2013-01-03</th>\n",
       "      <td>320383.64</td>\n",
       "      <td>89571.69</td>\n",
       "      <td>1610288.80</td>\n",
       "      <td>920252.60</td>\n",
       "      <td>811190.09</td>\n",
       "      <td>240147.70</td>\n",
       "      <td>417285.29</td>\n",
       "      <td>252577.8</td>\n",
       "    </tr>\n",
       "    <tr>\n",
       "      <th>2013-01-04</th>\n",
       "      <td>280097.71</td>\n",
       "      <td>117788.50</td>\n",
       "      <td>1391984.29</td>\n",
       "      <td>813228.20</td>\n",
       "      <td>743643.40</td>\n",
       "      <td>214576.00</td>\n",
       "      <td>309813.70</td>\n",
       "      <td>287687.0</td>\n",
       "    </tr>\n",
       "    <tr>\n",
       "      <th>2013-01-05</th>\n",
       "      <td>271020.12</td>\n",
       "      <td>58576.40</td>\n",
       "      <td>1330159.88</td>\n",
       "      <td>755777.30</td>\n",
       "      <td>694589.00</td>\n",
       "      <td>235789.25</td>\n",
       "      <td>354180.45</td>\n",
       "      <td>197081.7</td>\n",
       "    </tr>\n",
       "  </tbody>\n",
       "</table>\n",
       "</div>"
      ],
      "text/plain": [
       "            аксессуары  игровые консоли        игры     игры pc       кино  \\\n",
       "date                                                                         \n",
       "2013-01-01    97215.64         23462.65   454649.02   197964.88  222527.07   \n",
       "2013-01-02   422891.94         93503.47  1954434.39  1006318.60  931280.32   \n",
       "2013-01-03   320383.64         89571.69  1610288.80   920252.60  811190.09   \n",
       "2013-01-04   280097.71        117788.50  1391984.29   813228.20  743643.40   \n",
       "2013-01-05   271020.12         58576.40  1330159.88   755777.30  694589.00   \n",
       "\n",
       "               музыка    подарки  программы  \n",
       "date                                         \n",
       "2013-01-01   73564.00  106967.55    33820.5  \n",
       "2013-01-02  255983.24  423317.20   214492.0  \n",
       "2013-01-03  240147.70  417285.29   252577.8  \n",
       "2013-01-04  214576.00  309813.70   287687.0  \n",
       "2013-01-05  235789.25  354180.45   197081.7  "
      ]
     },
     "execution_count": 29,
     "metadata": {},
     "output_type": "execute_result"
    }
   ],
   "source": [
    "top_subcat_pivot.head()"
   ]
  },
  {
   "cell_type": "code",
   "execution_count": 30,
   "metadata": {},
   "outputs": [],
   "source": [
    "from statsmodels.tsa.statespace.varmax import VARMAX"
   ]
  },
  {
   "cell_type": "code",
   "execution_count": 31,
   "metadata": {},
   "outputs": [],
   "source": [
    "cat_train = top_subcat_pivot[:-pred_period]"
   ]
  },
  {
   "cell_type": "code",
   "execution_count": 32,
   "metadata": {},
   "outputs": [
    {
     "name": "stderr",
     "output_type": "stream",
     "text": [
      "C:\\Users\\sit_k\\AppData\\Local\\Continuum\\anaconda3\\lib\\site-packages\\statsmodels\\tsa\\statespace\\varmax.py:159: EstimationWarning:\n",
      "\n",
      "Estimation of VARMA(p,q) models is not generically robust, due especially to identification issues.\n",
      "\n",
      "C:\\Users\\sit_k\\AppData\\Local\\Continuum\\anaconda3\\lib\\site-packages\\statsmodels\\base\\model.py:512: ConvergenceWarning:\n",
      "\n",
      "Maximum Likelihood optimization failed to converge. Check mle_retvals\n",
      "\n"
     ]
    }
   ],
   "source": [
    "model = VARMAX(cat_train, order=(3, 3), freq='D') # reuse the orders identified in SARIMA model\n",
    "model_fit = model.fit(maxiter=10, disp=False)"
   ]
  },
  {
   "cell_type": "code",
   "execution_count": 33,
   "metadata": {},
   "outputs": [
    {
     "name": "stderr",
     "output_type": "stream",
     "text": [
      "C:\\Users\\sit_k\\AppData\\Local\\Continuum\\anaconda3\\lib\\site-packages\\statsmodels\\tsa\\statespace\\varmax.py:159: EstimationWarning:\n",
      "\n",
      "Estimation of VARMA(p,q) models is not generically robust, due especially to identification issues.\n",
      "\n"
     ]
    }
   ],
   "source": [
    "varx = model_fit.predict(start=ts_test.index[0], end=ts_test.index[-1]).sum(axis=1)/.92 #pro-rated back to 100% of sales"
   ]
  },
  {
   "cell_type": "code",
   "execution_count": 34,
   "metadata": {},
   "outputs": [
    {
     "name": "stdout",
     "output_type": "stream",
     "text": [
      "RMSE is 1,148,011\n"
     ]
    }
   ],
   "source": [
    "varx_rmse = np.sqrt(mean_squared_error(ts_test, varx))\n",
    "print('RMSE is {:,.0f}'.format(varx_rmse))"
   ]
  },
  {
   "cell_type": "markdown",
   "metadata": {},
   "source": [
    "### Models Comparison"
   ]
  },
  {
   "cell_type": "code",
   "execution_count": 35,
   "metadata": {},
   "outputs": [],
   "source": [
    "#daily average sale during the predict period\n",
    "daily_avg = np.mean(ts_test)"
   ]
  },
  {
   "cell_type": "code",
   "execution_count": 36,
   "metadata": {},
   "outputs": [],
   "source": [
    "model = pd.DataFrame({'model': ['ARMA', 'SARIMAX', 'Holt Winter','Prophet', 'VARMAX'], \n",
    "                      'RMSE': [arma_rmse, sarx_rmse, holt_w_rmse, prophet_rmse, varx_rmse],\n",
    "                      'daily_RMSE%':[arma_rmse/daily_avg, sarx_rmse/daily_avg, holt_w_rmse/daily_avg, prophet_rmse/(daily_avg), varx_rmse/daily_avg]\n",
    "                      \n",
    "                     })\n",
    "model.set_index('model', inplace=True)"
   ]
  },
  {
   "cell_type": "code",
   "execution_count": 37,
   "metadata": {},
   "outputs": [
    {
     "data": {
      "text/html": [
       "<div>\n",
       "<style scoped>\n",
       "    .dataframe tbody tr th:only-of-type {\n",
       "        vertical-align: middle;\n",
       "    }\n",
       "\n",
       "    .dataframe tbody tr th {\n",
       "        vertical-align: top;\n",
       "    }\n",
       "\n",
       "    .dataframe thead th {\n",
       "        text-align: right;\n",
       "    }\n",
       "</style>\n",
       "<table border=\"1\" class=\"dataframe\">\n",
       "  <thead>\n",
       "    <tr style=\"text-align: right;\">\n",
       "      <th></th>\n",
       "      <th>RMSE</th>\n",
       "      <th>daily_RMSE%</th>\n",
       "    </tr>\n",
       "    <tr>\n",
       "      <th>model</th>\n",
       "      <th></th>\n",
       "      <th></th>\n",
       "    </tr>\n",
       "  </thead>\n",
       "  <tbody>\n",
       "    <tr>\n",
       "      <th>ARMA</th>\n",
       "      <td>1.216434e+06</td>\n",
       "      <td>0.502547</td>\n",
       "    </tr>\n",
       "    <tr>\n",
       "      <th>SARIMAX</th>\n",
       "      <td>1.077106e+06</td>\n",
       "      <td>0.444986</td>\n",
       "    </tr>\n",
       "    <tr>\n",
       "      <th>Holt Winter</th>\n",
       "      <td>1.428868e+06</td>\n",
       "      <td>0.590310</td>\n",
       "    </tr>\n",
       "    <tr>\n",
       "      <th>Prophet</th>\n",
       "      <td>1.136539e+06</td>\n",
       "      <td>0.469540</td>\n",
       "    </tr>\n",
       "    <tr>\n",
       "      <th>VARMAX</th>\n",
       "      <td>1.148011e+06</td>\n",
       "      <td>0.474279</td>\n",
       "    </tr>\n",
       "  </tbody>\n",
       "</table>\n",
       "</div>"
      ],
      "text/plain": [
       "                     RMSE  daily_RMSE%\n",
       "model                                 \n",
       "ARMA         1.216434e+06     0.502547\n",
       "SARIMAX      1.077106e+06     0.444986\n",
       "Holt Winter  1.428868e+06     0.590310\n",
       "Prophet      1.136539e+06     0.469540\n",
       "VARMAX       1.148011e+06     0.474279"
      ]
     },
     "execution_count": 37,
     "metadata": {},
     "output_type": "execute_result"
    }
   ],
   "source": [
    "model"
   ]
  },
  {
   "cell_type": "markdown",
   "metadata": {},
   "source": [
    "##### Graphically"
   ]
  },
  {
   "cell_type": "code",
   "execution_count": 38,
   "metadata": {},
   "outputs": [
    {
     "data": {
      "image/png": "[encoded data removed]",
      "text/plain": [
       "<Figure size 1440x360 with 1 Axes>"
      ]
     },
     "metadata": {
      "needs_background": "light"
     },
     "output_type": "display_data"
    }
   ],
   "source": [
    "plt.figure(figsize=(20,5))\n",
    "sarimax.plot(color='green', label='sarimax')\n",
    "arma.plot(color='red', linestyle=':', label='ARMA')\n",
    "holt_w.plot(color='purple', linestyle='-.', label='Holt Winter')\n",
    "prophet.plot(color='black', linestyle='--', label='prophet')\n",
    "varx.plot(color='orange', linestyle='-', label='VARMAX')\n",
    "ts_daily[-60:].plot(label='actuals')\n",
    "plt.legend(loc='best')\n",
    "plt.show()"
   ]
  },
  {
   "cell_type": "markdown",
   "metadata": {},
   "source": [
    "### Observations\n",
    "\n",
    "SARIMAX has the smallest RSME. Prophet, given its simplistic development and fast exeuction, rank a strong second.\n",
    "<br>\n",
    "However, all the time series models did not perform that much better than the base model. From the graphical results, we also see that there are days that the projections were way off (on daily average, RMSE is 40% off). We would make an initial conclusion that time series models are not the best model on predicting sales at the daily level. The errors will likely to get bigger as we try to drill down to store/product level.\n",
    "\n",
    "Possible reasons that time-series models do not work in this case are limited amount of sales data by date. Sales spikes could be highly depending on product/marketing factors that are independent of time. At the daily level, the sales pattern is not very stationary."
   ]
  },
  {
   "cell_type": "markdown",
   "metadata": {},
   "source": [
    "### Next Steps\n",
    "\n",
    "We will explore classifications and ensemble models to identify improvements to prediction."
   ]
  }
 ],
 "metadata": {
  "kernelspec": {
   "display_name": "Python 3",
   "language": "python",
   "name": "python3"
  },
  "language_info": {
   "codemirror_mode": {
    "name": "ipython",
    "version": 3
   },
   "file_extension": ".py",
   "mimetype": "text/x-python",
   "name": "python",
   "nbconvert_exporter": "python",
   "pygments_lexer": "ipython3",
   "version": "3.7.3"
  }
 },
 "nbformat": 4,
 "nbformat_minor": 4
}
