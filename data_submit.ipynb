{
 "cells": [
  {
   "cell_type": "markdown",
   "metadata": {},
   "source": [
    "### Kaggle Data Submission"
   ]
  },
  {
   "cell_type": "code",
   "execution_count": 1,
   "metadata": {
    "execution": {
     "iopub.execute_input": "2020-09-14T16:38:50.841564Z",
     "iopub.status.busy": "2020-09-14T16:38:50.841564Z",
     "iopub.status.idle": "2020-09-14T16:38:53.823168Z",
     "shell.execute_reply": "2020-09-14T16:38:53.821865Z",
     "shell.execute_reply.started": "2020-09-14T16:38:50.841564Z"
    }
   },
   "outputs": [
    {
     "name": "stderr",
     "output_type": "stream",
     "text": [
      "C:\\Users\\sit_k\\AppData\\Local\\Continuum\\anaconda3\\lib\\site-packages\\statsmodels\\tools\\_testing.py:19: FutureWarning: pandas.util.testing is deprecated. Use the functions in the public API at pandas.testing instead.\n",
      "  import pandas.util.testing as tm\n"
     ]
    }
   ],
   "source": [
    "import numpy as np\n",
    "import pandas as pd\n",
    "from pandas.plotting import register_matplotlib_converters\n",
    "register_matplotlib_converters()\n",
    "from statsmodels.tsa.statespace.sarimax import SARIMAX\n",
    "import matplotlib.pyplot as plt\n",
    "import seaborn as sns\n",
    "import pandas.testing as tm\n",
    "from datetime import datetime as dt\n",
    "from sklearn.ensemble import RandomForestRegressor\n",
    "import xgboost as xgb\n",
    "from xgboost import XGBRegressor\n",
    "from xgboost import plot_importance\n",
    "import matplotlib.pyplot as plt\n",
    "import seaborn as sns\n",
    "from sklearn import linear_model\n",
    "sns.set()\n",
    "%matplotlib inline "
   ]
  },
  {
   "cell_type": "code",
   "execution_count": 2,
   "metadata": {
    "execution": {
     "iopub.execute_input": "2020-09-14T16:38:53.826173Z",
     "iopub.status.busy": "2020-09-14T16:38:53.824780Z",
     "iopub.status.idle": "2020-09-14T16:39:06.621789Z",
     "shell.execute_reply": "2020-09-14T16:39:06.619750Z",
     "shell.execute_reply.started": "2020-09-14T16:38:53.826173Z"
    }
   },
   "outputs": [],
   "source": [
    "raw_df = pd.read_csv('data/train_df.csv', parse_dates=['date'])"
   ]
  },
  {
   "cell_type": "markdown",
   "metadata": {},
   "source": [
    "### Import Test Data"
   ]
  },
  {
   "cell_type": "code",
   "execution_count": 3,
   "metadata": {
    "execution": {
     "iopub.execute_input": "2020-09-14T16:39:06.630713Z",
     "iopub.status.busy": "2020-09-14T16:39:06.629714Z",
     "iopub.status.idle": "2020-09-14T16:39:06.849086Z",
     "shell.execute_reply": "2020-09-14T16:39:06.848112Z",
     "shell.execute_reply.started": "2020-09-14T16:39:06.630713Z"
    }
   },
   "outputs": [
    {
     "data": {
      "text/html": [
       "<div>\n",
       "<style scoped>\n",
       "    .dataframe tbody tr th:only-of-type {\n",
       "        vertical-align: middle;\n",
       "    }\n",
       "\n",
       "    .dataframe tbody tr th {\n",
       "        vertical-align: top;\n",
       "    }\n",
       "\n",
       "    .dataframe thead th {\n",
       "        text-align: right;\n",
       "    }\n",
       "</style>\n",
       "<table border=\"1\" class=\"dataframe\">\n",
       "  <thead>\n",
       "    <tr style=\"text-align: right;\">\n",
       "      <th></th>\n",
       "      <th>ID</th>\n",
       "      <th>shop_id</th>\n",
       "      <th>item_id</th>\n",
       "    </tr>\n",
       "  </thead>\n",
       "  <tbody>\n",
       "    <tr>\n",
       "      <th>0</th>\n",
       "      <td>0</td>\n",
       "      <td>5</td>\n",
       "      <td>5037</td>\n",
       "    </tr>\n",
       "    <tr>\n",
       "      <th>1</th>\n",
       "      <td>1</td>\n",
       "      <td>5</td>\n",
       "      <td>5320</td>\n",
       "    </tr>\n",
       "    <tr>\n",
       "      <th>2</th>\n",
       "      <td>2</td>\n",
       "      <td>5</td>\n",
       "      <td>5233</td>\n",
       "    </tr>\n",
       "    <tr>\n",
       "      <th>3</th>\n",
       "      <td>3</td>\n",
       "      <td>5</td>\n",
       "      <td>5232</td>\n",
       "    </tr>\n",
       "    <tr>\n",
       "      <th>4</th>\n",
       "      <td>4</td>\n",
       "      <td>5</td>\n",
       "      <td>5268</td>\n",
       "    </tr>\n",
       "  </tbody>\n",
       "</table>\n",
       "</div>"
      ],
      "text/plain": [
       "   ID  shop_id  item_id\n",
       "0   0        5     5037\n",
       "1   1        5     5320\n",
       "2   2        5     5233\n",
       "3   3        5     5232\n",
       "4   4        5     5268"
      ]
     },
     "execution_count": 3,
     "metadata": {},
     "output_type": "execute_result"
    }
   ],
   "source": [
    "test = pd.read_csv('data/test.csv')\n",
    "test.head()"
   ]
  },
  {
   "cell_type": "code",
   "execution_count": 4,
   "metadata": {
    "execution": {
     "iopub.execute_input": "2020-09-14T16:39:06.851375Z",
     "iopub.status.busy": "2020-09-14T16:39:06.850094Z",
     "iopub.status.idle": "2020-09-14T16:39:06.881915Z",
     "shell.execute_reply": "2020-09-14T16:39:06.880406Z",
     "shell.execute_reply.started": "2020-09-14T16:39:06.851375Z"
    }
   },
   "outputs": [
    {
     "data": {
      "text/html": [
       "<div>\n",
       "<style scoped>\n",
       "    .dataframe tbody tr th:only-of-type {\n",
       "        vertical-align: middle;\n",
       "    }\n",
       "\n",
       "    .dataframe tbody tr th {\n",
       "        vertical-align: top;\n",
       "    }\n",
       "\n",
       "    .dataframe thead th {\n",
       "        text-align: right;\n",
       "    }\n",
       "</style>\n",
       "<table border=\"1\" class=\"dataframe\">\n",
       "  <thead>\n",
       "    <tr style=\"text-align: right;\">\n",
       "      <th></th>\n",
       "      <th>date</th>\n",
       "      <th>date_block_num</th>\n",
       "      <th>shop_id</th>\n",
       "      <th>shop_name</th>\n",
       "      <th>item_id</th>\n",
       "      <th>item_name</th>\n",
       "      <th>item_category_id</th>\n",
       "      <th>item_category_name</th>\n",
       "      <th>item_price</th>\n",
       "      <th>item_cnt_day</th>\n",
       "      <th>sales</th>\n",
       "    </tr>\n",
       "  </thead>\n",
       "  <tbody>\n",
       "    <tr>\n",
       "      <th>2916099</th>\n",
       "      <td>2015-10-22</td>\n",
       "      <td>33</td>\n",
       "      <td>55</td>\n",
       "      <td>Цифровой склад 1С-Онлайн</td>\n",
       "      <td>13093</td>\n",
       "      <td>Карта оплаты Windows: 250 рублей [Цифровая вер...</td>\n",
       "      <td>36</td>\n",
       "      <td>Карты оплаты - Windows (Цифра)</td>\n",
       "      <td>250.0</td>\n",
       "      <td>1.0</td>\n",
       "      <td>250.0</td>\n",
       "    </tr>\n",
       "    <tr>\n",
       "      <th>2916100</th>\n",
       "      <td>2015-09-21</td>\n",
       "      <td>32</td>\n",
       "      <td>55</td>\n",
       "      <td>Цифровой склад 1С-Онлайн</td>\n",
       "      <td>13091</td>\n",
       "      <td>Карта оплаты Windows: 1000 рублей [Цифровая ве...</td>\n",
       "      <td>36</td>\n",
       "      <td>Карты оплаты - Windows (Цифра)</td>\n",
       "      <td>1000.0</td>\n",
       "      <td>1.0</td>\n",
       "      <td>1000.0</td>\n",
       "    </tr>\n",
       "    <tr>\n",
       "      <th>2916101</th>\n",
       "      <td>2015-09-16</td>\n",
       "      <td>32</td>\n",
       "      <td>55</td>\n",
       "      <td>Цифровой склад 1С-Онлайн</td>\n",
       "      <td>13094</td>\n",
       "      <td>Карта оплаты Windows: 2500 рублей [Цифровая ве...</td>\n",
       "      <td>36</td>\n",
       "      <td>Карты оплаты - Windows (Цифра)</td>\n",
       "      <td>2500.0</td>\n",
       "      <td>1.0</td>\n",
       "      <td>2500.0</td>\n",
       "    </tr>\n",
       "    <tr>\n",
       "      <th>2916102</th>\n",
       "      <td>2015-09-22</td>\n",
       "      <td>32</td>\n",
       "      <td>55</td>\n",
       "      <td>Цифровой склад 1С-Онлайн</td>\n",
       "      <td>13094</td>\n",
       "      <td>Карта оплаты Windows: 2500 рублей [Цифровая ве...</td>\n",
       "      <td>36</td>\n",
       "      <td>Карты оплаты - Windows (Цифра)</td>\n",
       "      <td>2500.0</td>\n",
       "      <td>2.0</td>\n",
       "      <td>5000.0</td>\n",
       "    </tr>\n",
       "    <tr>\n",
       "      <th>2916103</th>\n",
       "      <td>2015-10-26</td>\n",
       "      <td>33</td>\n",
       "      <td>55</td>\n",
       "      <td>Цифровой склад 1С-Онлайн</td>\n",
       "      <td>13092</td>\n",
       "      <td>Карта оплаты Windows: 2000 рублей [Цифровая ве...</td>\n",
       "      <td>36</td>\n",
       "      <td>Карты оплаты - Windows (Цифра)</td>\n",
       "      <td>2000.0</td>\n",
       "      <td>1.0</td>\n",
       "      <td>2000.0</td>\n",
       "    </tr>\n",
       "  </tbody>\n",
       "</table>\n",
       "</div>"
      ],
      "text/plain": [
       "              date  date_block_num  shop_id                 shop_name  \\\n",
       "2916099 2015-10-22              33       55  Цифровой склад 1С-Онлайн   \n",
       "2916100 2015-09-21              32       55  Цифровой склад 1С-Онлайн   \n",
       "2916101 2015-09-16              32       55  Цифровой склад 1С-Онлайн   \n",
       "2916102 2015-09-22              32       55  Цифровой склад 1С-Онлайн   \n",
       "2916103 2015-10-26              33       55  Цифровой склад 1С-Онлайн   \n",
       "\n",
       "         item_id                                          item_name  \\\n",
       "2916099    13093  Карта оплаты Windows: 250 рублей [Цифровая вер...   \n",
       "2916100    13091  Карта оплаты Windows: 1000 рублей [Цифровая ве...   \n",
       "2916101    13094  Карта оплаты Windows: 2500 рублей [Цифровая ве...   \n",
       "2916102    13094  Карта оплаты Windows: 2500 рублей [Цифровая ве...   \n",
       "2916103    13092  Карта оплаты Windows: 2000 рублей [Цифровая ве...   \n",
       "\n",
       "         item_category_id              item_category_name  item_price  \\\n",
       "2916099                36  Карты оплаты - Windows (Цифра)       250.0   \n",
       "2916100                36  Карты оплаты - Windows (Цифра)      1000.0   \n",
       "2916101                36  Карты оплаты - Windows (Цифра)      2500.0   \n",
       "2916102                36  Карты оплаты - Windows (Цифра)      2500.0   \n",
       "2916103                36  Карты оплаты - Windows (Цифра)      2000.0   \n",
       "\n",
       "         item_cnt_day   sales  \n",
       "2916099           1.0   250.0  \n",
       "2916100           1.0  1000.0  \n",
       "2916101           1.0  2500.0  \n",
       "2916102           2.0  5000.0  \n",
       "2916103           1.0  2000.0  "
      ]
     },
     "execution_count": 4,
     "metadata": {},
     "output_type": "execute_result"
    }
   ],
   "source": [
    "raw_df.tail()"
   ]
  },
  {
   "cell_type": "markdown",
   "metadata": {},
   "source": [
    "### Naive Model\n",
    "\n",
    "We want to continue to improve on accuracy, but we should set a baseline for naive model in which no algorithm has been run. We will have two naive models: one using Nov 2014 (period 22) and the other using last period (period 33) actuals by product and by shop."
   ]
  },
  {
   "cell_type": "code",
   "execution_count": 5,
   "metadata": {
    "execution": {
     "iopub.execute_input": "2020-09-14T16:39:06.883757Z",
     "iopub.status.busy": "2020-09-14T16:39:06.883427Z",
     "iopub.status.idle": "2020-09-14T16:39:07.045539Z",
     "shell.execute_reply": "2020-09-14T16:39:07.045539Z",
     "shell.execute_reply.started": "2020-09-14T16:39:06.883757Z"
    }
   },
   "outputs": [],
   "source": [
    "naive = raw_df.query('date_block_num == 22').reset_index()"
   ]
  },
  {
   "cell_type": "code",
   "execution_count": 6,
   "metadata": {
    "execution": {
     "iopub.execute_input": "2020-09-14T16:39:07.049964Z",
     "iopub.status.busy": "2020-09-14T16:39:07.048968Z",
     "iopub.status.idle": "2020-09-14T16:39:07.106628Z",
     "shell.execute_reply": "2020-09-14T16:39:07.106628Z",
     "shell.execute_reply.started": "2020-09-14T16:39:07.048968Z"
    }
   },
   "outputs": [],
   "source": [
    "naive = naive.groupby(['shop_id', 'item_id'])['item_cnt_day'].sum().reset_index()"
   ]
  },
  {
   "cell_type": "code",
   "execution_count": 7,
   "metadata": {
    "execution": {
     "iopub.execute_input": "2020-09-14T16:39:07.110930Z",
     "iopub.status.busy": "2020-09-14T16:39:07.108654Z",
     "iopub.status.idle": "2020-09-14T16:39:08.234188Z",
     "shell.execute_reply": "2020-09-14T16:39:08.234188Z",
     "shell.execute_reply.started": "2020-09-14T16:39:07.110930Z"
    }
   },
   "outputs": [],
   "source": [
    "naive_d = pd.merge(test, naive, on=['shop_id', 'item_id'], how='left')\n",
    "naive_d.fillna(0,inplace=True)\n",
    "naive_d.drop(['shop_id', 'item_id'], axis=1, inplace=True)\n",
    "naive_d.rename(columns={'item_cnt_day':'item_cnt_month'}, inplace=True)\n",
    "naive_d.to_csv('data/submission_naive.csv', index=False)"
   ]
  },
  {
   "cell_type": "code",
   "execution_count": 8,
   "metadata": {
    "execution": {
     "iopub.execute_input": "2020-09-14T16:39:08.240120Z",
     "iopub.status.busy": "2020-09-14T16:39:08.240120Z",
     "iopub.status.idle": "2020-09-14T16:39:09.521595Z",
     "shell.execute_reply": "2020-09-14T16:39:09.520599Z",
     "shell.execute_reply.started": "2020-09-14T16:39:08.240120Z"
    }
   },
   "outputs": [],
   "source": [
    "naive_LM = raw_df.query('date_block_num == 33').reset_index()\n",
    "naive_LM = naive_LM.groupby(['shop_id', 'item_id'])['item_cnt_day'].sum().reset_index()\n",
    "naive_LM = pd.merge(test, naive_LM, on=['shop_id', 'item_id'], how='left')\n",
    "naive_LM.fillna(0,inplace=True)\n",
    "naive_LM.drop(['shop_id', 'item_id'], axis=1, inplace=True)\n",
    "naive_LM.rename(columns={'item_cnt_day':'item_cnt_month'}, inplace=True)\n",
    "naive_LM.to_csv('data/submission_naiveLM.csv', index=False)"
   ]
  },
  {
   "cell_type": "markdown",
   "metadata": {},
   "source": [
    "### Time Series Model (SARIMA)"
   ]
  },
  {
   "cell_type": "markdown",
   "metadata": {},
   "source": [
    "We will use up all the train data and predict Nov 2015 sales. Apply SARIMA model as identified in the model training excerises."
   ]
  },
  {
   "cell_type": "code",
   "execution_count": 9,
   "metadata": {
    "execution": {
     "iopub.execute_input": "2020-09-14T16:39:09.526283Z",
     "iopub.status.busy": "2020-09-14T16:39:09.525310Z",
     "iopub.status.idle": "2020-09-14T16:40:25.856393Z",
     "shell.execute_reply": "2020-09-14T16:40:25.854885Z",
     "shell.execute_reply.started": "2020-09-14T16:39:09.526283Z"
    }
   },
   "outputs": [
    {
     "name": "stderr",
     "output_type": "stream",
     "text": [
      "C:\\Users\\sit_k\\AppData\\Local\\Continuum\\anaconda3\\lib\\site-packages\\statsmodels\\base\\model.py:512: ConvergenceWarning: Maximum Likelihood optimization failed to converge. Check mle_retvals\n",
      "  \"Check mle_retvals\", ConvergenceWarning)\n"
     ]
    }
   ],
   "source": [
    "ts_data = raw_df[['date','sales']]\n",
    "ts_daily = ts_data.groupby(['date'])['sales'].sum()\n",
    "mod = SARIMAX(ts_daily, order=(3,1,3), seasonal_order=(1,1,2,12), freq='D')\n",
    "res = mod.fit()\n",
    "sarimax = res.predict(start='2015-11-01', end='2015-11-30')"
   ]
  },
  {
   "cell_type": "code",
   "execution_count": 10,
   "metadata": {
    "execution": {
     "iopub.execute_input": "2020-09-14T16:40:25.858486Z",
     "iopub.status.busy": "2020-09-14T16:40:25.858486Z",
     "iopub.status.idle": "2020-09-14T16:40:25.865534Z",
     "shell.execute_reply": "2020-09-14T16:40:25.864136Z",
     "shell.execute_reply.started": "2020-09-14T16:40:25.858486Z"
    }
   },
   "outputs": [],
   "source": [
    "# total sales predicted for Nov 2015\n",
    "nov_2015 = sarimax.sum(axis=0)"
   ]
  },
  {
   "cell_type": "code",
   "execution_count": 11,
   "metadata": {
    "execution": {
     "iopub.execute_input": "2020-09-14T16:40:25.867528Z",
     "iopub.status.busy": "2020-09-14T16:40:25.866531Z",
     "iopub.status.idle": "2020-09-14T16:40:26.138622Z",
     "shell.execute_reply": "2020-09-14T16:40:26.136928Z",
     "shell.execute_reply.started": "2020-09-14T16:40:25.867528Z"
    }
   },
   "outputs": [],
   "source": [
    "ts_data = raw_df[['date','sales']]\n",
    "ts_daily = ts_data.groupby(['date'])['sales'].sum()"
   ]
  },
  {
   "cell_type": "markdown",
   "metadata": {},
   "source": [
    "To split the total sales back to item/shop level, we assume the sales penetration by item by shop is closely resemble to what Oct 2015 was."
   ]
  },
  {
   "cell_type": "code",
   "execution_count": 12,
   "metadata": {
    "execution": {
     "iopub.execute_input": "2020-09-14T16:40:26.141275Z",
     "iopub.status.busy": "2020-09-14T16:40:26.140731Z",
     "iopub.status.idle": "2020-09-14T16:40:26.262734Z",
     "shell.execute_reply": "2020-09-14T16:40:26.261606Z",
     "shell.execute_reply.started": "2020-09-14T16:40:26.141275Z"
    }
   },
   "outputs": [],
   "source": [
    "oct_2015 = raw_df.query('date_block_num == 33')\n",
    "oct_2015 = oct_2015.groupby(['item_id', 'shop_id'])['sales'].sum().reset_index()"
   ]
  },
  {
   "cell_type": "code",
   "execution_count": 13,
   "metadata": {
    "execution": {
     "iopub.execute_input": "2020-09-14T16:40:26.264258Z",
     "iopub.status.busy": "2020-09-14T16:40:26.264258Z",
     "iopub.status.idle": "2020-09-14T16:40:26.273808Z",
     "shell.execute_reply": "2020-09-14T16:40:26.271814Z",
     "shell.execute_reply.started": "2020-09-14T16:40:26.264258Z"
    }
   },
   "outputs": [],
   "source": [
    "oct_2015_ttl = oct_2015['sales'].sum()"
   ]
  },
  {
   "cell_type": "code",
   "execution_count": 14,
   "metadata": {
    "execution": {
     "iopub.execute_input": "2020-09-14T16:40:26.276801Z",
     "iopub.status.busy": "2020-09-14T16:40:26.275804Z",
     "iopub.status.idle": "2020-09-14T16:40:26.300947Z",
     "shell.execute_reply": "2020-09-14T16:40:26.299949Z",
     "shell.execute_reply.started": "2020-09-14T16:40:26.276801Z"
    }
   },
   "outputs": [],
   "source": [
    "# get sale % by shop and by item\n",
    "oct_2015['sales_%'] = oct_2015['sales']/oct_2015_ttl"
   ]
  },
  {
   "cell_type": "code",
   "execution_count": 15,
   "metadata": {
    "execution": {
     "iopub.execute_input": "2020-09-14T16:40:26.303819Z",
     "iopub.status.busy": "2020-09-14T16:40:26.303819Z",
     "iopub.status.idle": "2020-09-14T16:40:26.352646Z",
     "shell.execute_reply": "2020-09-14T16:40:26.351669Z",
     "shell.execute_reply.started": "2020-09-14T16:40:26.303819Z"
    }
   },
   "outputs": [
    {
     "data": {
      "text/html": [
       "<div>\n",
       "<style scoped>\n",
       "    .dataframe tbody tr th:only-of-type {\n",
       "        vertical-align: middle;\n",
       "    }\n",
       "\n",
       "    .dataframe tbody tr th {\n",
       "        vertical-align: top;\n",
       "    }\n",
       "\n",
       "    .dataframe thead th {\n",
       "        text-align: right;\n",
       "    }\n",
       "</style>\n",
       "<table border=\"1\" class=\"dataframe\">\n",
       "  <thead>\n",
       "    <tr style=\"text-align: right;\">\n",
       "      <th></th>\n",
       "      <th>item_id</th>\n",
       "      <th>shop_id</th>\n",
       "      <th>sales</th>\n",
       "      <th>sales_%</th>\n",
       "    </tr>\n",
       "  </thead>\n",
       "  <tbody>\n",
       "    <tr>\n",
       "      <th>10767</th>\n",
       "      <td>7224</td>\n",
       "      <td>25</td>\n",
       "      <td>390738.0</td>\n",
       "      <td>0.005198</td>\n",
       "    </tr>\n",
       "    <tr>\n",
       "      <th>1418</th>\n",
       "      <td>1578</td>\n",
       "      <td>42</td>\n",
       "      <td>368959.0</td>\n",
       "      <td>0.004908</td>\n",
       "    </tr>\n",
       "    <tr>\n",
       "      <th>10777</th>\n",
       "      <td>7224</td>\n",
       "      <td>42</td>\n",
       "      <td>323928.0</td>\n",
       "      <td>0.004309</td>\n",
       "    </tr>\n",
       "    <tr>\n",
       "      <th>1408</th>\n",
       "      <td>1578</td>\n",
       "      <td>25</td>\n",
       "      <td>305966.0</td>\n",
       "      <td>0.004070</td>\n",
       "    </tr>\n",
       "    <tr>\n",
       "      <th>10726</th>\n",
       "      <td>7223</td>\n",
       "      <td>25</td>\n",
       "      <td>275931.0</td>\n",
       "      <td>0.003670</td>\n",
       "    </tr>\n",
       "    <tr>\n",
       "      <th>...</th>\n",
       "      <td>...</td>\n",
       "      <td>...</td>\n",
       "      <td>...</td>\n",
       "      <td>...</td>\n",
       "    </tr>\n",
       "    <tr>\n",
       "      <th>13257</th>\n",
       "      <td>9242</td>\n",
       "      <td>12</td>\n",
       "      <td>-1500.0</td>\n",
       "      <td>-0.000020</td>\n",
       "    </tr>\n",
       "    <tr>\n",
       "      <th>24077</th>\n",
       "      <td>16146</td>\n",
       "      <td>21</td>\n",
       "      <td>-1799.0</td>\n",
       "      <td>-0.000024</td>\n",
       "    </tr>\n",
       "    <tr>\n",
       "      <th>3360</th>\n",
       "      <td>2860</td>\n",
       "      <td>48</td>\n",
       "      <td>-1799.0</td>\n",
       "      <td>-0.000024</td>\n",
       "    </tr>\n",
       "    <tr>\n",
       "      <th>8095</th>\n",
       "      <td>5488</td>\n",
       "      <td>12</td>\n",
       "      <td>-2799.0</td>\n",
       "      <td>-0.000037</td>\n",
       "    </tr>\n",
       "    <tr>\n",
       "      <th>30088</th>\n",
       "      <td>21363</td>\n",
       "      <td>26</td>\n",
       "      <td>-3199.0</td>\n",
       "      <td>-0.000043</td>\n",
       "    </tr>\n",
       "  </tbody>\n",
       "</table>\n",
       "<p>31289 rows × 4 columns</p>\n",
       "</div>"
      ],
      "text/plain": [
       "       item_id  shop_id     sales   sales_%\n",
       "10767     7224       25  390738.0  0.005198\n",
       "1418      1578       42  368959.0  0.004908\n",
       "10777     7224       42  323928.0  0.004309\n",
       "1408      1578       25  305966.0  0.004070\n",
       "10726     7223       25  275931.0  0.003670\n",
       "...        ...      ...       ...       ...\n",
       "13257     9242       12   -1500.0 -0.000020\n",
       "24077    16146       21   -1799.0 -0.000024\n",
       "3360      2860       48   -1799.0 -0.000024\n",
       "8095      5488       12   -2799.0 -0.000037\n",
       "30088    21363       26   -3199.0 -0.000043\n",
       "\n",
       "[31289 rows x 4 columns]"
      ]
     },
     "execution_count": 15,
     "metadata": {},
     "output_type": "execute_result"
    }
   ],
   "source": [
    "oct_2015.sort_values(by='sales_%', ascending=False)"
   ]
  },
  {
   "cell_type": "code",
   "execution_count": 16,
   "metadata": {
    "execution": {
     "iopub.execute_input": "2020-09-14T16:40:26.355439Z",
     "iopub.status.busy": "2020-09-14T16:40:26.355439Z",
     "iopub.status.idle": "2020-09-14T16:40:26.480027Z",
     "shell.execute_reply": "2020-09-14T16:40:26.479026Z",
     "shell.execute_reply.started": "2020-09-14T16:40:26.355439Z"
    }
   },
   "outputs": [],
   "source": [
    "sarima_d = pd.merge(test, oct_2015, on=['shop_id','item_id'], how='left')"
   ]
  },
  {
   "cell_type": "markdown",
   "metadata": {},
   "source": [
    "The following step is to get the price per item_id, which will be used to convers sales to sales count"
   ]
  },
  {
   "cell_type": "code",
   "execution_count": 17,
   "metadata": {
    "execution": {
     "iopub.execute_input": "2020-09-14T16:40:26.482705Z",
     "iopub.status.busy": "2020-09-14T16:40:26.482306Z",
     "iopub.status.idle": "2020-09-14T16:40:26.563148Z",
     "shell.execute_reply": "2020-09-14T16:40:26.562148Z",
     "shell.execute_reply.started": "2020-09-14T16:40:26.482705Z"
    }
   },
   "outputs": [],
   "source": [
    "items = pd.read_csv('./data/items.csv')"
   ]
  },
  {
   "cell_type": "code",
   "execution_count": 18,
   "metadata": {
    "execution": {
     "iopub.execute_input": "2020-09-14T16:40:26.564145Z",
     "iopub.status.busy": "2020-09-14T16:40:26.564145Z",
     "iopub.status.idle": "2020-09-14T16:40:29.987629Z",
     "shell.execute_reply": "2020-09-14T16:40:29.986632Z",
     "shell.execute_reply.started": "2020-09-14T16:40:26.564145Z"
    }
   },
   "outputs": [],
   "source": [
    "items_price = pd.merge(items, raw_df, on=['item_id'], how='left')\n",
    "items_price = items_price[['item_id', 'item_price']]\n",
    "items_price = items_price.drop_duplicates(subset='item_id')"
   ]
  },
  {
   "cell_type": "code",
   "execution_count": 19,
   "metadata": {
    "execution": {
     "iopub.execute_input": "2020-09-14T16:40:29.989664Z",
     "iopub.status.busy": "2020-09-14T16:40:29.989664Z",
     "iopub.status.idle": "2020-09-14T16:40:30.120585Z",
     "shell.execute_reply": "2020-09-14T16:40:30.118995Z",
     "shell.execute_reply.started": "2020-09-14T16:40:29.989664Z"
    }
   },
   "outputs": [],
   "source": [
    "sarima_d = pd.merge(sarima_d, items_price, on=['item_id'], how='left')\n",
    "sarima_d['item_cnt_month'] = nov_2015*sarima_d['sales_%']/sarima_d['item_price']\n",
    "sarima_d.fillna(0,inplace=True)"
   ]
  },
  {
   "cell_type": "code",
   "execution_count": 20,
   "metadata": {
    "execution": {
     "iopub.execute_input": "2020-09-14T16:40:30.123680Z",
     "iopub.status.busy": "2020-09-14T16:40:30.122683Z",
     "iopub.status.idle": "2020-09-14T16:40:31.229521Z",
     "shell.execute_reply": "2020-09-14T16:40:31.228525Z",
     "shell.execute_reply.started": "2020-09-14T16:40:30.123680Z"
    }
   },
   "outputs": [],
   "source": [
    "sarima_d = sarima_d.reset_index().drop(['shop_id', 'item_id', 'sales', 'sales_%', 'item_price','index'], axis=1)\n",
    "sarima_d.to_csv('data/submission_sar.csv', index=False)"
   ]
  },
  {
   "cell_type": "markdown",
   "metadata": {},
   "source": [
    "### Classification Model"
   ]
  },
  {
   "cell_type": "code",
   "execution_count": 21,
   "metadata": {
    "execution": {
     "iopub.execute_input": "2020-09-14T16:40:31.232748Z",
     "iopub.status.busy": "2020-09-14T16:40:31.231542Z",
     "iopub.status.idle": "2020-09-14T16:40:36.079573Z",
     "shell.execute_reply": "2020-09-14T16:40:36.078575Z",
     "shell.execute_reply.started": "2020-09-14T16:40:31.232748Z"
    }
   },
   "outputs": [
    {
     "name": "stderr",
     "output_type": "stream",
     "text": [
      "C:\\Users\\sit_k\\AppData\\Local\\Continuum\\anaconda3\\lib\\site-packages\\numpy\\lib\\arraysetops.py:580: FutureWarning: elementwise comparison failed; returning scalar instead, but in the future will perform elementwise comparison\n",
      "  mask |= (ar1 == a)\n"
     ]
    },
    {
     "data": {
      "text/html": [
       "<div>\n",
       "<style scoped>\n",
       "    .dataframe tbody tr th:only-of-type {\n",
       "        vertical-align: middle;\n",
       "    }\n",
       "\n",
       "    .dataframe tbody tr th {\n",
       "        vertical-align: top;\n",
       "    }\n",
       "\n",
       "    .dataframe thead th {\n",
       "        text-align: right;\n",
       "    }\n",
       "</style>\n",
       "<table border=\"1\" class=\"dataframe\">\n",
       "  <thead>\n",
       "    <tr style=\"text-align: right;\">\n",
       "      <th></th>\n",
       "      <th>date_block_num</th>\n",
       "      <th>item_category_id</th>\n",
       "      <th>item_cnt_day</th>\n",
       "      <th>item_price</th>\n",
       "      <th>item_id</th>\n",
       "      <th>shop_id</th>\n",
       "      <th>month</th>\n",
       "      <th>lag1</th>\n",
       "      <th>lag3</th>\n",
       "      <th>lag6</th>\n",
       "      <th>lag12</th>\n",
       "      <th>lag1_pct</th>\n",
       "      <th>lag3_pct</th>\n",
       "      <th>lag6_pct</th>\n",
       "      <th>lag12_pct</th>\n",
       "      <th>target</th>\n",
       "    </tr>\n",
       "  </thead>\n",
       "  <tbody>\n",
       "    <tr>\n",
       "      <th>0</th>\n",
       "      <td>13</td>\n",
       "      <td>40.0</td>\n",
       "      <td>0.0</td>\n",
       "      <td>58.0</td>\n",
       "      <td>0</td>\n",
       "      <td>54</td>\n",
       "      <td>2</td>\n",
       "      <td>0.0</td>\n",
       "      <td>0.0</td>\n",
       "      <td>0.0</td>\n",
       "      <td>0.0</td>\n",
       "      <td>0.0</td>\n",
       "      <td>0.0</td>\n",
       "      <td>0.0</td>\n",
       "      <td>0.0</td>\n",
       "      <td>0.0</td>\n",
       "    </tr>\n",
       "    <tr>\n",
       "      <th>1</th>\n",
       "      <td>14</td>\n",
       "      <td>40.0</td>\n",
       "      <td>0.0</td>\n",
       "      <td>58.0</td>\n",
       "      <td>0</td>\n",
       "      <td>54</td>\n",
       "      <td>3</td>\n",
       "      <td>0.0</td>\n",
       "      <td>0.0</td>\n",
       "      <td>0.0</td>\n",
       "      <td>0.0</td>\n",
       "      <td>0.0</td>\n",
       "      <td>0.0</td>\n",
       "      <td>0.0</td>\n",
       "      <td>0.0</td>\n",
       "      <td>0.0</td>\n",
       "    </tr>\n",
       "    <tr>\n",
       "      <th>2</th>\n",
       "      <td>15</td>\n",
       "      <td>40.0</td>\n",
       "      <td>0.0</td>\n",
       "      <td>58.0</td>\n",
       "      <td>0</td>\n",
       "      <td>54</td>\n",
       "      <td>4</td>\n",
       "      <td>0.0</td>\n",
       "      <td>0.0</td>\n",
       "      <td>0.0</td>\n",
       "      <td>0.0</td>\n",
       "      <td>0.0</td>\n",
       "      <td>0.0</td>\n",
       "      <td>0.0</td>\n",
       "      <td>0.0</td>\n",
       "      <td>0.0</td>\n",
       "    </tr>\n",
       "  </tbody>\n",
       "</table>\n",
       "</div>"
      ],
      "text/plain": [
       "   date_block_num  item_category_id  item_cnt_day  item_price  item_id  \\\n",
       "0              13              40.0           0.0        58.0        0   \n",
       "1              14              40.0           0.0        58.0        0   \n",
       "2              15              40.0           0.0        58.0        0   \n",
       "\n",
       "   shop_id  month  lag1  lag3  lag6  lag12  lag1_pct  lag3_pct  lag6_pct  \\\n",
       "0       54      2   0.0   0.0   0.0    0.0       0.0       0.0       0.0   \n",
       "1       54      3   0.0   0.0   0.0    0.0       0.0       0.0       0.0   \n",
       "2       54      4   0.0   0.0   0.0    0.0       0.0       0.0       0.0   \n",
       "\n",
       "   lag12_pct  target  \n",
       "0        0.0     0.0  \n",
       "1        0.0     0.0  \n",
       "2        0.0     0.0  "
      ]
     },
     "execution_count": 21,
     "metadata": {},
     "output_type": "execute_result"
    }
   ],
   "source": [
    "final_df = pd.read_csv('data/final_df.csv',index_col=0)\n",
    "final_df.head(3)"
   ]
  },
  {
   "cell_type": "markdown",
   "metadata": {},
   "source": [
    "##### Xgboost"
   ]
  },
  {
   "cell_type": "code",
   "execution_count": 22,
   "metadata": {
    "execution": {
     "iopub.execute_input": "2020-09-14T16:40:36.081757Z",
     "iopub.status.busy": "2020-09-14T16:40:36.080761Z",
     "iopub.status.idle": "2020-09-14T16:40:36.484402Z",
     "shell.execute_reply": "2020-09-14T16:40:36.482485Z",
     "shell.execute_reply.started": "2020-09-14T16:40:36.081757Z"
    }
   },
   "outputs": [],
   "source": [
    "train_final = final_df[final_df.date_block_num <=32]\n",
    "test_final = final_df[final_df.date_block_num == 33]"
   ]
  },
  {
   "cell_type": "code",
   "execution_count": 23,
   "metadata": {
    "execution": {
     "iopub.execute_input": "2020-09-14T16:40:36.487097Z",
     "iopub.status.busy": "2020-09-14T16:40:36.486102Z",
     "iopub.status.idle": "2020-09-14T16:40:36.715561Z",
     "shell.execute_reply": "2020-09-14T16:40:36.714524Z",
     "shell.execute_reply.started": "2020-09-14T16:40:36.487097Z"
    }
   },
   "outputs": [],
   "source": [
    "train_feature = train_final.drop(columns=['target'])\n",
    "train_target = train_final['target']\n",
    "pred_feature = test_final.drop(columns=['target'])\n",
    "pred_target = test_final['target']"
   ]
  },
  {
   "cell_type": "code",
   "execution_count": 24,
   "metadata": {
    "execution": {
     "iopub.execute_input": "2020-09-14T16:40:36.719514Z",
     "iopub.status.busy": "2020-09-14T16:40:36.718552Z",
     "iopub.status.idle": "2020-09-14T16:40:38.994004Z",
     "shell.execute_reply": "2020-09-14T16:40:38.994004Z",
     "shell.execute_reply.started": "2020-09-14T16:40:36.719514Z"
    }
   },
   "outputs": [],
   "source": [
    "pred_label = test_final.set_index(['item_id','shop_id']).index\n",
    "DM_train_final = xgb.DMatrix(data=train_feature, label=train_target)\n",
    "DM_test_final = xgb.DMatrix(data=pred_feature, label=pred_target)"
   ]
  },
  {
   "cell_type": "code",
   "execution_count": 25,
   "metadata": {
    "execution": {
     "iopub.execute_input": "2020-09-14T16:40:38.997851Z",
     "iopub.status.busy": "2020-09-14T16:40:38.997040Z",
     "iopub.status.idle": "2020-09-14T16:40:56.945311Z",
     "shell.execute_reply": "2020-09-14T16:40:56.945311Z",
     "shell.execute_reply.started": "2020-09-14T16:40:38.997851Z"
    }
   },
   "outputs": [
    {
     "name": "stdout",
     "output_type": "stream",
     "text": [
      "Wall time: 17.9 s\n"
     ]
    }
   ],
   "source": [
    "%%time\n",
    "params = {\"booster\":\"gbtree\", \"objective\":\"reg:squarederror\", 'max_depth':8, 'n_estimators':500, 'min_child_weight':40, 'colsample_bytree': 0.8, \n",
    "          'subsample':0.8, 'eta' :0.3, 'seed':42}\n",
    "\n",
    "xg_reg = xgb.train(params = params, dtrain=DM_train_final, num_boost_round=15)"
   ]
  },
  {
   "cell_type": "code",
   "execution_count": 26,
   "metadata": {
    "execution": {
     "iopub.execute_input": "2020-09-14T16:40:56.951234Z",
     "iopub.status.busy": "2020-09-14T16:40:56.951234Z",
     "iopub.status.idle": "2020-09-14T16:40:57.003095Z",
     "shell.execute_reply": "2020-09-14T16:40:57.001804Z",
     "shell.execute_reply.started": "2020-09-14T16:40:56.951234Z"
    }
   },
   "outputs": [],
   "source": [
    "preds_final = xg_reg.predict(DM_test_final)"
   ]
  },
  {
   "cell_type": "code",
   "execution_count": 27,
   "metadata": {
    "execution": {
     "iopub.execute_input": "2020-09-14T16:40:57.005824Z",
     "iopub.status.busy": "2020-09-14T16:40:57.004125Z",
     "iopub.status.idle": "2020-09-14T16:40:57.037762Z",
     "shell.execute_reply": "2020-09-14T16:40:57.036767Z",
     "shell.execute_reply.started": "2020-09-14T16:40:57.005824Z"
    }
   },
   "outputs": [],
   "source": [
    "predictions = pd.Series(preds_final).rename('item_cnt_month')\n",
    "predictions.index = test_final.index\n",
    "predictions= pd.merge(predictions, test_final[['item_id', 'shop_id']], left_index=True, right_index=True)"
   ]
  },
  {
   "cell_type": "code",
   "execution_count": 28,
   "metadata": {
    "execution": {
     "iopub.execute_input": "2020-09-14T16:40:57.041174Z",
     "iopub.status.busy": "2020-09-14T16:40:57.038828Z",
     "iopub.status.idle": "2020-09-14T16:40:57.220093Z",
     "shell.execute_reply": "2020-09-14T16:40:57.219695Z",
     "shell.execute_reply.started": "2020-09-14T16:40:57.041174Z"
    }
   },
   "outputs": [
    {
     "data": {
      "text/html": [
       "<div>\n",
       "<style scoped>\n",
       "    .dataframe tbody tr th:only-of-type {\n",
       "        vertical-align: middle;\n",
       "    }\n",
       "\n",
       "    .dataframe tbody tr th {\n",
       "        vertical-align: top;\n",
       "    }\n",
       "\n",
       "    .dataframe thead th {\n",
       "        text-align: right;\n",
       "    }\n",
       "</style>\n",
       "<table border=\"1\" class=\"dataframe\">\n",
       "  <thead>\n",
       "    <tr style=\"text-align: right;\">\n",
       "      <th></th>\n",
       "      <th>ID</th>\n",
       "      <th>item_cnt_month</th>\n",
       "    </tr>\n",
       "  </thead>\n",
       "  <tbody>\n",
       "    <tr>\n",
       "      <th>0</th>\n",
       "      <td>0</td>\n",
       "      <td>0.0</td>\n",
       "    </tr>\n",
       "    <tr>\n",
       "      <th>1</th>\n",
       "      <td>1</td>\n",
       "      <td>0.0</td>\n",
       "    </tr>\n",
       "    <tr>\n",
       "      <th>2</th>\n",
       "      <td>2</td>\n",
       "      <td>0.0</td>\n",
       "    </tr>\n",
       "    <tr>\n",
       "      <th>3</th>\n",
       "      <td>3</td>\n",
       "      <td>0.0</td>\n",
       "    </tr>\n",
       "    <tr>\n",
       "      <th>4</th>\n",
       "      <td>4</td>\n",
       "      <td>0.0</td>\n",
       "    </tr>\n",
       "  </tbody>\n",
       "</table>\n",
       "</div>"
      ],
      "text/plain": [
       "   ID  item_cnt_month\n",
       "0   0             0.0\n",
       "1   1             0.0\n",
       "2   2             0.0\n",
       "3   3             0.0\n",
       "4   4             0.0"
      ]
     },
     "execution_count": 28,
     "metadata": {},
     "output_type": "execute_result"
    }
   ],
   "source": [
    "test_xgb = pd.merge(test, predictions, on=['item_id', 'shop_id'], how='left')\n",
    "test_xgb.fillna(0,inplace=True)\n",
    "test_xgb.drop(columns=['item_id','shop_id'], inplace=True)\n",
    "test_xgb.head()"
   ]
  },
  {
   "cell_type": "code",
   "execution_count": 29,
   "metadata": {
    "execution": {
     "iopub.execute_input": "2020-09-14T16:40:57.221626Z",
     "iopub.status.busy": "2020-09-14T16:40:57.221626Z",
     "iopub.status.idle": "2020-09-14T16:40:58.288868Z",
     "shell.execute_reply": "2020-09-14T16:40:58.287898Z",
     "shell.execute_reply.started": "2020-09-14T16:40:57.221626Z"
    }
   },
   "outputs": [],
   "source": [
    "test_xgb.to_csv('data/submission_xgb.csv', index=False)"
   ]
  },
  {
   "cell_type": "markdown",
   "metadata": {},
   "source": [
    "#### Random Forest"
   ]
  },
  {
   "cell_type": "code",
   "execution_count": 30,
   "metadata": {
    "execution": {
     "iopub.execute_input": "2020-09-14T16:40:58.291858Z",
     "iopub.status.busy": "2020-09-14T16:40:58.291792Z",
     "iopub.status.idle": "2020-09-14T16:40:58.299474Z",
     "shell.execute_reply": "2020-09-14T16:40:58.297977Z",
     "shell.execute_reply.started": "2020-09-14T16:40:58.291858Z"
    }
   },
   "outputs": [],
   "source": [
    "rfc = RandomForestRegressor(n_estimators=250, max_depth=6, n_jobs=4, min_samples_leaf=2000)"
   ]
  },
  {
   "cell_type": "code",
   "execution_count": 31,
   "metadata": {
    "execution": {
     "iopub.execute_input": "2020-09-14T16:40:58.399339Z",
     "iopub.status.busy": "2020-09-14T16:40:58.399339Z",
     "iopub.status.idle": "2020-09-14T16:40:58.617219Z",
     "shell.execute_reply": "2020-09-14T16:40:58.614818Z",
     "shell.execute_reply.started": "2020-09-14T16:40:58.399339Z"
    }
   },
   "outputs": [],
   "source": [
    "train_f = train_final.drop(['target'], axis=1)\n",
    "train_t = train_final['target']"
   ]
  },
  {
   "cell_type": "code",
   "execution_count": 39,
   "metadata": {},
   "outputs": [
    {
     "name": "stdout",
     "output_type": "stream",
     "text": [
      "Wall time: 25min 41s\n"
     ]
    },
    {
     "data": {
      "text/plain": [
       "RandomForestRegressor(bootstrap=True, ccp_alpha=0.0, criterion='mse',\n",
       "                      max_depth=6, max_features='auto', max_leaf_nodes=None,\n",
       "                      max_samples=None, min_impurity_decrease=0.0,\n",
       "                      min_impurity_split=None, min_samples_leaf=2000,\n",
       "                      min_samples_split=2, min_weight_fraction_leaf=0.0,\n",
       "                      n_estimators=250, n_jobs=4, oob_score=False,\n",
       "                      random_state=None, verbose=0, warm_start=False)"
      ]
     },
     "execution_count": 39,
     "metadata": {},
     "output_type": "execute_result"
    }
   ],
   "source": [
    "%%time\n",
    "rfc.fit(train_f, train_t)"
   ]
  },
  {
   "cell_type": "code",
   "execution_count": 42,
   "metadata": {},
   "outputs": [],
   "source": [
    "pred_rfc = pd.Series(rfc.predict(pred_feature)).rename('item_cnt_month')\n",
    "pred_rfc.index = test_final.index\n",
    "pred_rfc = pd.merge(pred_rfc, test_final[['item_id','shop_id']], left_index=True, right_index = True)"
   ]
  },
  {
   "cell_type": "code",
   "execution_count": 43,
   "metadata": {},
   "outputs": [
    {
     "data": {
      "text/html": [
       "<div>\n",
       "<style scoped>\n",
       "    .dataframe tbody tr th:only-of-type {\n",
       "        vertical-align: middle;\n",
       "    }\n",
       "\n",
       "    .dataframe tbody tr th {\n",
       "        vertical-align: top;\n",
       "    }\n",
       "\n",
       "    .dataframe thead th {\n",
       "        text-align: right;\n",
       "    }\n",
       "</style>\n",
       "<table border=\"1\" class=\"dataframe\">\n",
       "  <thead>\n",
       "    <tr style=\"text-align: right;\">\n",
       "      <th></th>\n",
       "      <th>ID</th>\n",
       "      <th>item_cnt_month</th>\n",
       "    </tr>\n",
       "  </thead>\n",
       "  <tbody>\n",
       "    <tr>\n",
       "      <th>0</th>\n",
       "      <td>0</td>\n",
       "      <td>0.251975</td>\n",
       "    </tr>\n",
       "    <tr>\n",
       "      <th>1</th>\n",
       "      <td>1</td>\n",
       "      <td>0.000000</td>\n",
       "    </tr>\n",
       "    <tr>\n",
       "      <th>2</th>\n",
       "      <td>2</td>\n",
       "      <td>0.926223</td>\n",
       "    </tr>\n",
       "    <tr>\n",
       "      <th>3</th>\n",
       "      <td>3</td>\n",
       "      <td>0.097183</td>\n",
       "    </tr>\n",
       "    <tr>\n",
       "      <th>4</th>\n",
       "      <td>4</td>\n",
       "      <td>0.000000</td>\n",
       "    </tr>\n",
       "  </tbody>\n",
       "</table>\n",
       "</div>"
      ],
      "text/plain": [
       "   ID  item_cnt_month\n",
       "0   0        0.251975\n",
       "1   1        0.000000\n",
       "2   2        0.926223\n",
       "3   3        0.097183\n",
       "4   4        0.000000"
      ]
     },
     "execution_count": 43,
     "metadata": {},
     "output_type": "execute_result"
    }
   ],
   "source": [
    "test_rfc = pd.merge(test, pred_rfc, on=['item_id', 'shop_id'], how='left')\n",
    "test_rfc.fillna(0,inplace=True)\n",
    "test_rfc.drop(columns=['item_id','shop_id'], inplace=True)\n",
    "test_rfc.head()"
   ]
  },
  {
   "cell_type": "code",
   "execution_count": 44,
   "metadata": {},
   "outputs": [],
   "source": [
    "test_rfc.to_csv('data/submission_rfc.csv', index=False)"
   ]
  },
  {
   "cell_type": "markdown",
   "metadata": {},
   "source": [
    "#### Rigde Regression"
   ]
  },
  {
   "cell_type": "code",
   "execution_count": 32,
   "metadata": {
    "execution": {
     "iopub.execute_input": "2020-09-14T16:47:27.465228Z",
     "iopub.status.busy": "2020-09-14T16:47:27.464429Z",
     "iopub.status.idle": "2020-09-14T16:47:28.195973Z",
     "shell.execute_reply": "2020-09-14T16:47:28.195973Z",
     "shell.execute_reply.started": "2020-09-14T16:47:27.465228Z"
    }
   },
   "outputs": [],
   "source": [
    "regr = linear_model.Ridge()\n",
    "regr.fit(train_f, train_t)\n",
    "pred_reg = pd.Series(regr.predict(pred_feature)).rename('item_cnt_month')\n",
    "pred_reg.index = test_final.index\n",
    "pred_reg = pd.merge(pred_reg, test_final[['item_id','shop_id']], left_index=True, right_index = True)"
   ]
  },
  {
   "cell_type": "code",
   "execution_count": 46,
   "metadata": {},
   "outputs": [
    {
     "data": {
      "text/html": [
       "<div>\n",
       "<style scoped>\n",
       "    .dataframe tbody tr th:only-of-type {\n",
       "        vertical-align: middle;\n",
       "    }\n",
       "\n",
       "    .dataframe tbody tr th {\n",
       "        vertical-align: top;\n",
       "    }\n",
       "\n",
       "    .dataframe thead th {\n",
       "        text-align: right;\n",
       "    }\n",
       "</style>\n",
       "<table border=\"1\" class=\"dataframe\">\n",
       "  <thead>\n",
       "    <tr style=\"text-align: right;\">\n",
       "      <th></th>\n",
       "      <th>ID</th>\n",
       "      <th>item_cnt_month</th>\n",
       "    </tr>\n",
       "  </thead>\n",
       "  <tbody>\n",
       "    <tr>\n",
       "      <th>0</th>\n",
       "      <td>0</td>\n",
       "      <td>0.306985</td>\n",
       "    </tr>\n",
       "    <tr>\n",
       "      <th>1</th>\n",
       "      <td>1</td>\n",
       "      <td>0.000000</td>\n",
       "    </tr>\n",
       "    <tr>\n",
       "      <th>2</th>\n",
       "      <td>2</td>\n",
       "      <td>1.031328</td>\n",
       "    </tr>\n",
       "    <tr>\n",
       "      <th>3</th>\n",
       "      <td>3</td>\n",
       "      <td>0.029803</td>\n",
       "    </tr>\n",
       "    <tr>\n",
       "      <th>4</th>\n",
       "      <td>4</td>\n",
       "      <td>0.000000</td>\n",
       "    </tr>\n",
       "  </tbody>\n",
       "</table>\n",
       "</div>"
      ],
      "text/plain": [
       "   ID  item_cnt_month\n",
       "0   0        0.306985\n",
       "1   1        0.000000\n",
       "2   2        1.031328\n",
       "3   3        0.029803\n",
       "4   4        0.000000"
      ]
     },
     "execution_count": 46,
     "metadata": {},
     "output_type": "execute_result"
    }
   ],
   "source": [
    "test_reg = pd.merge(test, pred_reg, on=['item_id', 'shop_id'], how='left')\n",
    "test_reg.fillna(0,inplace=True)\n",
    "test_reg.drop(columns=['item_id','shop_id'], inplace=True)\n",
    "test_reg.head()"
   ]
  },
  {
   "cell_type": "code",
   "execution_count": 47,
   "metadata": {},
   "outputs": [],
   "source": [
    "test_reg.to_csv('data/submission_reg.csv', index=False)"
   ]
  }
 ],
 "metadata": {
  "kernelspec": {
   "display_name": "Python 3",
   "language": "python",
   "name": "python3"
  },
  "language_info": {
   "codemirror_mode": {
    "name": "ipython",
    "version": 3
   },
   "file_extension": ".py",
   "mimetype": "text/x-python",
   "name": "python",
   "nbconvert_exporter": "python",
   "pygments_lexer": "ipython3",
   "version": "3.7.1"
  }
 },
 "nbformat": 4,
 "nbformat_minor": 4
}
