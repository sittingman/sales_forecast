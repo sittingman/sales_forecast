{
 "cells": [
  {
   "cell_type": "markdown",
   "metadata": {},
   "source": [
    "### Kaggle Data Submission\n",
    "\n",
    "What we found in the \"model\" section is that general time series may not be very accuarte for this project due to lack of historical data and fluctuations that make the data not very stationary. We will still submit data to kaggle to evaluate its accuarcy, and that would serve as baseline accuracy for continous improvments.\n",
    "\n",
    "We know that SARIMAX model would be the most accurate among all. The output, however, is total sales. To fit kaggle requirements, we need to break down into item and shop level. This workbook is to accomplish that."
   ]
  },
  {
   "cell_type": "code",
   "execution_count": 1,
   "metadata": {},
   "outputs": [
    {
     "name": "stderr",
     "output_type": "stream",
     "text": [
      "C:\\Users\\sit_k\\AppData\\Local\\Continuum\\anaconda3\\lib\\site-packages\\statsmodels\\tools\\_testing.py:19: FutureWarning: pandas.util.testing is deprecated. Use the functions in the public API at pandas.testing instead.\n",
      "  import pandas.util.testing as tm\n"
     ]
    }
   ],
   "source": [
    "import numpy as np\n",
    "import pandas as pd\n",
    "from pandas.plotting import register_matplotlib_converters\n",
    "register_matplotlib_converters()\n",
    "from statsmodels.tsa.statespace.sarimax import SARIMAX\n",
    "import matplotlib.pyplot as plt\n",
    "import seaborn as sns\n",
    "import pandas.testing as tm\n",
    "sns.set()\n",
    "%matplotlib inline "
   ]
  },
  {
   "cell_type": "code",
   "execution_count": 2,
   "metadata": {},
   "outputs": [],
   "source": [
    "raw_df = pd.read_csv('data/train_df.csv', parse_dates=['date'])"
   ]
  },
  {
   "cell_type": "code",
   "execution_count": 3,
   "metadata": {},
   "outputs": [
    {
     "data": {
      "text/html": [
       "<div>\n",
       "<style scoped>\n",
       "    .dataframe tbody tr th:only-of-type {\n",
       "        vertical-align: middle;\n",
       "    }\n",
       "\n",
       "    .dataframe tbody tr th {\n",
       "        vertical-align: top;\n",
       "    }\n",
       "\n",
       "    .dataframe thead th {\n",
       "        text-align: right;\n",
       "    }\n",
       "</style>\n",
       "<table border=\"1\" class=\"dataframe\">\n",
       "  <thead>\n",
       "    <tr style=\"text-align: right;\">\n",
       "      <th></th>\n",
       "      <th>date</th>\n",
       "      <th>date_block_num</th>\n",
       "      <th>shop_id</th>\n",
       "      <th>shop_name</th>\n",
       "      <th>item_id</th>\n",
       "      <th>item_name</th>\n",
       "      <th>item_category_id</th>\n",
       "      <th>item_category_name</th>\n",
       "      <th>item_price</th>\n",
       "      <th>item_cnt_day</th>\n",
       "      <th>sales</th>\n",
       "    </tr>\n",
       "  </thead>\n",
       "  <tbody>\n",
       "    <tr>\n",
       "      <th>2935844</th>\n",
       "      <td>2015-10-22</td>\n",
       "      <td>33</td>\n",
       "      <td>55</td>\n",
       "      <td>Цифровой склад 1С-Онлайн</td>\n",
       "      <td>13093</td>\n",
       "      <td>Карта оплаты Windows: 250 рублей [Цифровая вер...</td>\n",
       "      <td>36</td>\n",
       "      <td>Карты оплаты - Windows (Цифра)</td>\n",
       "      <td>250.0</td>\n",
       "      <td>1.0</td>\n",
       "      <td>250.0</td>\n",
       "    </tr>\n",
       "    <tr>\n",
       "      <th>2935845</th>\n",
       "      <td>2015-09-21</td>\n",
       "      <td>32</td>\n",
       "      <td>55</td>\n",
       "      <td>Цифровой склад 1С-Онлайн</td>\n",
       "      <td>13091</td>\n",
       "      <td>Карта оплаты Windows: 1000 рублей [Цифровая ве...</td>\n",
       "      <td>36</td>\n",
       "      <td>Карты оплаты - Windows (Цифра)</td>\n",
       "      <td>1000.0</td>\n",
       "      <td>1.0</td>\n",
       "      <td>1000.0</td>\n",
       "    </tr>\n",
       "    <tr>\n",
       "      <th>2935846</th>\n",
       "      <td>2015-09-16</td>\n",
       "      <td>32</td>\n",
       "      <td>55</td>\n",
       "      <td>Цифровой склад 1С-Онлайн</td>\n",
       "      <td>13094</td>\n",
       "      <td>Карта оплаты Windows: 2500 рублей [Цифровая ве...</td>\n",
       "      <td>36</td>\n",
       "      <td>Карты оплаты - Windows (Цифра)</td>\n",
       "      <td>2500.0</td>\n",
       "      <td>1.0</td>\n",
       "      <td>2500.0</td>\n",
       "    </tr>\n",
       "    <tr>\n",
       "      <th>2935847</th>\n",
       "      <td>2015-09-22</td>\n",
       "      <td>32</td>\n",
       "      <td>55</td>\n",
       "      <td>Цифровой склад 1С-Онлайн</td>\n",
       "      <td>13094</td>\n",
       "      <td>Карта оплаты Windows: 2500 рублей [Цифровая ве...</td>\n",
       "      <td>36</td>\n",
       "      <td>Карты оплаты - Windows (Цифра)</td>\n",
       "      <td>2500.0</td>\n",
       "      <td>2.0</td>\n",
       "      <td>5000.0</td>\n",
       "    </tr>\n",
       "    <tr>\n",
       "      <th>2935848</th>\n",
       "      <td>2015-10-26</td>\n",
       "      <td>33</td>\n",
       "      <td>55</td>\n",
       "      <td>Цифровой склад 1С-Онлайн</td>\n",
       "      <td>13092</td>\n",
       "      <td>Карта оплаты Windows: 2000 рублей [Цифровая ве...</td>\n",
       "      <td>36</td>\n",
       "      <td>Карты оплаты - Windows (Цифра)</td>\n",
       "      <td>2000.0</td>\n",
       "      <td>1.0</td>\n",
       "      <td>2000.0</td>\n",
       "    </tr>\n",
       "  </tbody>\n",
       "</table>\n",
       "</div>"
      ],
      "text/plain": [
       "              date  date_block_num  shop_id                 shop_name  \\\n",
       "2935844 2015-10-22              33       55  Цифровой склад 1С-Онлайн   \n",
       "2935845 2015-09-21              32       55  Цифровой склад 1С-Онлайн   \n",
       "2935846 2015-09-16              32       55  Цифровой склад 1С-Онлайн   \n",
       "2935847 2015-09-22              32       55  Цифровой склад 1С-Онлайн   \n",
       "2935848 2015-10-26              33       55  Цифровой склад 1С-Онлайн   \n",
       "\n",
       "         item_id                                          item_name  \\\n",
       "2935844    13093  Карта оплаты Windows: 250 рублей [Цифровая вер...   \n",
       "2935845    13091  Карта оплаты Windows: 1000 рублей [Цифровая ве...   \n",
       "2935846    13094  Карта оплаты Windows: 2500 рублей [Цифровая ве...   \n",
       "2935847    13094  Карта оплаты Windows: 2500 рублей [Цифровая ве...   \n",
       "2935848    13092  Карта оплаты Windows: 2000 рублей [Цифровая ве...   \n",
       "\n",
       "         item_category_id              item_category_name  item_price  \\\n",
       "2935844                36  Карты оплаты - Windows (Цифра)       250.0   \n",
       "2935845                36  Карты оплаты - Windows (Цифра)      1000.0   \n",
       "2935846                36  Карты оплаты - Windows (Цифра)      2500.0   \n",
       "2935847                36  Карты оплаты - Windows (Цифра)      2500.0   \n",
       "2935848                36  Карты оплаты - Windows (Цифра)      2000.0   \n",
       "\n",
       "         item_cnt_day   sales  \n",
       "2935844           1.0   250.0  \n",
       "2935845           1.0  1000.0  \n",
       "2935846           1.0  2500.0  \n",
       "2935847           2.0  5000.0  \n",
       "2935848           1.0  2000.0  "
      ]
     },
     "execution_count": 3,
     "metadata": {},
     "output_type": "execute_result"
    }
   ],
   "source": [
    "raw_df.tail()"
   ]
  },
  {
   "cell_type": "markdown",
   "metadata": {},
   "source": [
    "We will use up all the train data and predict Nov 2015 sales"
   ]
  },
  {
   "cell_type": "code",
   "execution_count": 4,
   "metadata": {},
   "outputs": [],
   "source": [
    "ts_data = raw_df[['date','sales']]\n",
    "ts_daily = ts_data.groupby(['date'])['sales'].sum()"
   ]
  },
  {
   "cell_type": "code",
   "execution_count": 5,
   "metadata": {},
   "outputs": [
    {
     "name": "stderr",
     "output_type": "stream",
     "text": [
      "C:\\Users\\sit_k\\AppData\\Local\\Continuum\\anaconda3\\lib\\site-packages\\statsmodels\\base\\model.py:512: ConvergenceWarning: Maximum Likelihood optimization failed to converge. Check mle_retvals\n",
      "  \"Check mle_retvals\", ConvergenceWarning)\n"
     ]
    }
   ],
   "source": [
    "mod = SARIMAX(ts_daily, order=(3,1,3), seasonal_order=(1,1,2,12), freq='D')\n",
    "res = mod.fit()\n",
    "sarimax = res.predict(start='2015-11-01', end='2015-11-30')"
   ]
  },
  {
   "cell_type": "code",
   "execution_count": 6,
   "metadata": {},
   "outputs": [],
   "source": [
    "# total sales predicted for Nov 2015\n",
    "nov_2015 = sarimax.sum(axis=0)"
   ]
  },
  {
   "cell_type": "markdown",
   "metadata": {},
   "source": [
    "To split the total sales back to item/shop level, we assume the sales penetration by item by shop is closely resemble to what Oct 2015 was."
   ]
  },
  {
   "cell_type": "code",
   "execution_count": 7,
   "metadata": {},
   "outputs": [],
   "source": [
    "oct_2015 = raw_df.query('date_block_num == 33')\n",
    "oct_2015 = oct_2015.groupby(['item_id', 'shop_id'])['sales'].sum().reset_index()"
   ]
  },
  {
   "cell_type": "code",
   "execution_count": 8,
   "metadata": {},
   "outputs": [],
   "source": [
    "oct_2015_ttl = oct_2015['sales'].sum()"
   ]
  },
  {
   "cell_type": "code",
   "execution_count": 9,
   "metadata": {},
   "outputs": [],
   "source": [
    "# get sale % by shop and by item\n",
    "oct_2015['sales_%'] = oct_2015['sales']/oct_2015_ttl"
   ]
  },
  {
   "cell_type": "code",
   "execution_count": 10,
   "metadata": {},
   "outputs": [
    {
     "data": {
      "text/html": [
       "<div>\n",
       "<style scoped>\n",
       "    .dataframe tbody tr th:only-of-type {\n",
       "        vertical-align: middle;\n",
       "    }\n",
       "\n",
       "    .dataframe tbody tr th {\n",
       "        vertical-align: top;\n",
       "    }\n",
       "\n",
       "    .dataframe thead th {\n",
       "        text-align: right;\n",
       "    }\n",
       "</style>\n",
       "<table border=\"1\" class=\"dataframe\">\n",
       "  <thead>\n",
       "    <tr style=\"text-align: right;\">\n",
       "      <th></th>\n",
       "      <th>item_id</th>\n",
       "      <th>shop_id</th>\n",
       "      <th>sales</th>\n",
       "      <th>sales_%</th>\n",
       "    </tr>\n",
       "  </thead>\n",
       "  <tbody>\n",
       "    <tr>\n",
       "      <th>10861</th>\n",
       "      <td>7224</td>\n",
       "      <td>25</td>\n",
       "      <td>390738.0</td>\n",
       "      <td>0.004633</td>\n",
       "    </tr>\n",
       "    <tr>\n",
       "      <th>1419</th>\n",
       "      <td>1578</td>\n",
       "      <td>42</td>\n",
       "      <td>368959.0</td>\n",
       "      <td>0.004375</td>\n",
       "    </tr>\n",
       "    <tr>\n",
       "      <th>10871</th>\n",
       "      <td>7224</td>\n",
       "      <td>42</td>\n",
       "      <td>323928.0</td>\n",
       "      <td>0.003841</td>\n",
       "    </tr>\n",
       "    <tr>\n",
       "      <th>1409</th>\n",
       "      <td>1578</td>\n",
       "      <td>25</td>\n",
       "      <td>305966.0</td>\n",
       "      <td>0.003628</td>\n",
       "    </tr>\n",
       "    <tr>\n",
       "      <th>10820</th>\n",
       "      <td>7223</td>\n",
       "      <td>25</td>\n",
       "      <td>275931.0</td>\n",
       "      <td>0.003272</td>\n",
       "    </tr>\n",
       "    <tr>\n",
       "      <th>...</th>\n",
       "      <td>...</td>\n",
       "      <td>...</td>\n",
       "      <td>...</td>\n",
       "      <td>...</td>\n",
       "    </tr>\n",
       "    <tr>\n",
       "      <th>24319</th>\n",
       "      <td>16146</td>\n",
       "      <td>21</td>\n",
       "      <td>-1799.0</td>\n",
       "      <td>-0.000021</td>\n",
       "    </tr>\n",
       "    <tr>\n",
       "      <th>3361</th>\n",
       "      <td>2860</td>\n",
       "      <td>48</td>\n",
       "      <td>-1799.0</td>\n",
       "      <td>-0.000021</td>\n",
       "    </tr>\n",
       "    <tr>\n",
       "      <th>8127</th>\n",
       "      <td>5488</td>\n",
       "      <td>12</td>\n",
       "      <td>-2799.0</td>\n",
       "      <td>-0.000033</td>\n",
       "    </tr>\n",
       "    <tr>\n",
       "      <th>30330</th>\n",
       "      <td>21363</td>\n",
       "      <td>26</td>\n",
       "      <td>-3199.0</td>\n",
       "      <td>-0.000038</td>\n",
       "    </tr>\n",
       "    <tr>\n",
       "      <th>10124</th>\n",
       "      <td>6674</td>\n",
       "      <td>48</td>\n",
       "      <td>-29990.0</td>\n",
       "      <td>-0.000356</td>\n",
       "    </tr>\n",
       "  </tbody>\n",
       "</table>\n",
       "<p>31531 rows × 4 columns</p>\n",
       "</div>"
      ],
      "text/plain": [
       "       item_id  shop_id     sales   sales_%\n",
       "10861     7224       25  390738.0  0.004633\n",
       "1419      1578       42  368959.0  0.004375\n",
       "10871     7224       42  323928.0  0.003841\n",
       "1409      1578       25  305966.0  0.003628\n",
       "10820     7223       25  275931.0  0.003272\n",
       "...        ...      ...       ...       ...\n",
       "24319    16146       21   -1799.0 -0.000021\n",
       "3361      2860       48   -1799.0 -0.000021\n",
       "8127      5488       12   -2799.0 -0.000033\n",
       "30330    21363       26   -3199.0 -0.000038\n",
       "10124     6674       48  -29990.0 -0.000356\n",
       "\n",
       "[31531 rows x 4 columns]"
      ]
     },
     "execution_count": 10,
     "metadata": {},
     "output_type": "execute_result"
    }
   ],
   "source": [
    "oct_2015.sort_values(by='sales_%', ascending=False)"
   ]
  },
  {
   "cell_type": "code",
   "execution_count": 11,
   "metadata": {},
   "outputs": [],
   "source": [
    "#import test data\n",
    "test = pd.read_csv('data/test.csv')"
   ]
  },
  {
   "cell_type": "code",
   "execution_count": 12,
   "metadata": {},
   "outputs": [],
   "source": [
    "test = pd.merge(test, oct_2015, on=['shop_id','item_id'], how='left')"
   ]
  },
  {
   "cell_type": "markdown",
   "metadata": {},
   "source": [
    "The following step is to get the price per item_id, which will be used to convers sales to sales count"
   ]
  },
  {
   "cell_type": "code",
   "execution_count": 13,
   "metadata": {},
   "outputs": [],
   "source": [
    "items = pd.read_csv('./data/items.csv')"
   ]
  },
  {
   "cell_type": "code",
   "execution_count": 14,
   "metadata": {},
   "outputs": [],
   "source": [
    "items_price = pd.merge(items, raw_df, on=['item_id'], how='left')\n",
    "items_price = items_price[['item_id', 'item_price']]\n",
    "items_price = items_price.drop_duplicates(subset='item_id')"
   ]
  },
  {
   "cell_type": "code",
   "execution_count": 15,
   "metadata": {},
   "outputs": [],
   "source": [
    "test = pd.merge(test, items_price, on=['item_id'], how='left')\n",
    "test['item_cnt_month'] = nov_2015*test['sales_%']/test['item_price']\n",
    "test.fillna(0,inplace=True)"
   ]
  },
  {
   "cell_type": "code",
   "execution_count": 16,
   "metadata": {},
   "outputs": [],
   "source": [
    "test = test.reset_index().drop(['shop_id', 'item_id', 'sales', 'sales_%', 'item_price','index'], axis=1)\n",
    "test.to_csv('data/submission.csv', index=False)"
   ]
  }
 ],
 "metadata": {
  "kernelspec": {
   "display_name": "Python 3",
   "language": "python",
   "name": "python3"
  },
  "language_info": {
   "codemirror_mode": {
    "name": "ipython",
    "version": 3
   },
   "file_extension": ".py",
   "mimetype": "text/x-python",
   "name": "python",
   "nbconvert_exporter": "python",
   "pygments_lexer": "ipython3",
   "version": "3.7.3"
  }
 },
 "nbformat": 4,
 "nbformat_minor": 4
}
