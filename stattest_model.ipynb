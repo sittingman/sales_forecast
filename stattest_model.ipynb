{
 "cells": [
  {
   "cell_type": "markdown",
   "metadata": {},
   "source": [
    "## Statistical Test\n",
    "\n",
    "From the exploratory analysis, we identify that sales tend to fluctuate by month and day of week, both of which are time-series components. We will access the time-series nature of the data to ensure it follows certain properties since any time-series predictive models will rely on that."
   ]
  },
  {
   "cell_type": "code",
   "execution_count": 1,
   "metadata": {},
   "outputs": [],
   "source": [
    "from datetime import datetime as dt\n",
    "from datetime import date\n",
    "import numpy as np\n",
    "import pandas as pd\n",
    "from pandas.plotting import register_matplotlib_converters\n",
    "register_matplotlib_converters()\n",
    "from statsmodels.tsa.stattools import acf, adfuller\n",
    "from statsmodels.graphics.tsaplots import plot_acf, plot_pacf\n",
    "from sklearn.metrics import mean_squared_error\n",
    "from statsmodels.tsa.arima_model import ARMA, ARIMA\n",
    "import matplotlib.pyplot as plt\n",
    "import seaborn as sns\n",
    "sns.set()\n",
    "%matplotlib inline "
   ]
  },
  {
   "cell_type": "code",
   "execution_count": 2,
   "metadata": {},
   "outputs": [],
   "source": [
    "train_df = pd.read_csv('data/train_df.csv', parse_dates=['date'])"
   ]
  },
  {
   "cell_type": "code",
   "execution_count": 3,
   "metadata": {},
   "outputs": [
    {
     "data": {
      "text/html": [
       "<div>\n",
       "<style scoped>\n",
       "    .dataframe tbody tr th:only-of-type {\n",
       "        vertical-align: middle;\n",
       "    }\n",
       "\n",
       "    .dataframe tbody tr th {\n",
       "        vertical-align: top;\n",
       "    }\n",
       "\n",
       "    .dataframe thead th {\n",
       "        text-align: right;\n",
       "    }\n",
       "</style>\n",
       "<table border=\"1\" class=\"dataframe\">\n",
       "  <thead>\n",
       "    <tr style=\"text-align: right;\">\n",
       "      <th></th>\n",
       "      <th>date</th>\n",
       "      <th>date_block_num</th>\n",
       "      <th>shop_id</th>\n",
       "      <th>shop_name</th>\n",
       "      <th>item_id</th>\n",
       "      <th>item_name</th>\n",
       "      <th>item_category_id</th>\n",
       "      <th>item_category_name</th>\n",
       "      <th>item_price</th>\n",
       "      <th>item_cnt_day</th>\n",
       "      <th>sales</th>\n",
       "    </tr>\n",
       "  </thead>\n",
       "  <tbody>\n",
       "    <tr>\n",
       "      <th>0</th>\n",
       "      <td>2013-01-02</td>\n",
       "      <td>0</td>\n",
       "      <td>59</td>\n",
       "      <td>Ярославль ТЦ \"Альтаир\"</td>\n",
       "      <td>22154</td>\n",
       "      <td>ЯВЛЕНИЕ 2012 (BD)</td>\n",
       "      <td>37</td>\n",
       "      <td>Кино - Blu-Ray</td>\n",
       "      <td>999.0</td>\n",
       "      <td>1.0</td>\n",
       "      <td>999.0</td>\n",
       "    </tr>\n",
       "    <tr>\n",
       "      <th>1</th>\n",
       "      <td>2013-01-02</td>\n",
       "      <td>0</td>\n",
       "      <td>25</td>\n",
       "      <td>Москва ТРК \"Атриум\"</td>\n",
       "      <td>22154</td>\n",
       "      <td>ЯВЛЕНИЕ 2012 (BD)</td>\n",
       "      <td>37</td>\n",
       "      <td>Кино - Blu-Ray</td>\n",
       "      <td>999.0</td>\n",
       "      <td>1.0</td>\n",
       "      <td>999.0</td>\n",
       "    </tr>\n",
       "    <tr>\n",
       "      <th>2</th>\n",
       "      <td>2013-01-03</td>\n",
       "      <td>0</td>\n",
       "      <td>25</td>\n",
       "      <td>Москва ТРК \"Атриум\"</td>\n",
       "      <td>22154</td>\n",
       "      <td>ЯВЛЕНИЕ 2012 (BD)</td>\n",
       "      <td>37</td>\n",
       "      <td>Кино - Blu-Ray</td>\n",
       "      <td>999.0</td>\n",
       "      <td>1.0</td>\n",
       "      <td>999.0</td>\n",
       "    </tr>\n",
       "    <tr>\n",
       "      <th>3</th>\n",
       "      <td>2013-01-20</td>\n",
       "      <td>0</td>\n",
       "      <td>25</td>\n",
       "      <td>Москва ТРК \"Атриум\"</td>\n",
       "      <td>22154</td>\n",
       "      <td>ЯВЛЕНИЕ 2012 (BD)</td>\n",
       "      <td>37</td>\n",
       "      <td>Кино - Blu-Ray</td>\n",
       "      <td>999.0</td>\n",
       "      <td>1.0</td>\n",
       "      <td>999.0</td>\n",
       "    </tr>\n",
       "    <tr>\n",
       "      <th>4</th>\n",
       "      <td>2013-01-23</td>\n",
       "      <td>0</td>\n",
       "      <td>25</td>\n",
       "      <td>Москва ТРК \"Атриум\"</td>\n",
       "      <td>22154</td>\n",
       "      <td>ЯВЛЕНИЕ 2012 (BD)</td>\n",
       "      <td>37</td>\n",
       "      <td>Кино - Blu-Ray</td>\n",
       "      <td>999.0</td>\n",
       "      <td>1.0</td>\n",
       "      <td>999.0</td>\n",
       "    </tr>\n",
       "  </tbody>\n",
       "</table>\n",
       "</div>"
      ],
      "text/plain": [
       "        date  date_block_num  shop_id               shop_name  item_id  \\\n",
       "0 2013-01-02               0       59  Ярославль ТЦ \"Альтаир\"    22154   \n",
       "1 2013-01-02               0       25     Москва ТРК \"Атриум\"    22154   \n",
       "2 2013-01-03               0       25     Москва ТРК \"Атриум\"    22154   \n",
       "3 2013-01-20               0       25     Москва ТРК \"Атриум\"    22154   \n",
       "4 2013-01-23               0       25     Москва ТРК \"Атриум\"    22154   \n",
       "\n",
       "           item_name  item_category_id item_category_name  item_price  \\\n",
       "0  ЯВЛЕНИЕ 2012 (BD)                37     Кино - Blu-Ray       999.0   \n",
       "1  ЯВЛЕНИЕ 2012 (BD)                37     Кино - Blu-Ray       999.0   \n",
       "2  ЯВЛЕНИЕ 2012 (BD)                37     Кино - Blu-Ray       999.0   \n",
       "3  ЯВЛЕНИЕ 2012 (BD)                37     Кино - Blu-Ray       999.0   \n",
       "4  ЯВЛЕНИЕ 2012 (BD)                37     Кино - Blu-Ray       999.0   \n",
       "\n",
       "   item_cnt_day  sales  \n",
       "0           1.0  999.0  \n",
       "1           1.0  999.0  \n",
       "2           1.0  999.0  \n",
       "3           1.0  999.0  \n",
       "4           1.0  999.0  "
      ]
     },
     "execution_count": 3,
     "metadata": {},
     "output_type": "execute_result"
    }
   ],
   "source": [
    "train_df.head()"
   ]
  },
  {
   "cell_type": "markdown",
   "metadata": {},
   "source": [
    "### Autocorrelation\n",
    "\n",
    "Test if each day of sales has correlation to daily sales of another day. Resample data to test week and month. Identify lags that has the highest autocorrelation"
   ]
  },
  {
   "cell_type": "code",
   "execution_count": 4,
   "metadata": {},
   "outputs": [],
   "source": [
    "ts_data = train_df[['date','sales']]"
   ]
  },
  {
   "cell_type": "code",
   "execution_count": 5,
   "metadata": {},
   "outputs": [],
   "source": [
    "ts_daily = ts_data.groupby(['date'])['sales'].sum()"
   ]
  },
  {
   "cell_type": "code",
   "execution_count": 6,
   "metadata": {},
   "outputs": [],
   "source": [
    "ts_weekly = ts_daily.resample(rule='W').last()\n",
    "ts_monthly = ts_daily.resample(rule='M').last()"
   ]
  },
  {
   "cell_type": "code",
   "execution_count": 7,
   "metadata": {},
   "outputs": [
    {
     "data": {
      "text/plain": [
       "DatetimeIndex(['2015-07-26', '2015-08-02', '2015-08-09', '2015-08-16',\n",
       "               '2015-08-23', '2015-08-30', '2015-09-06', '2015-09-13',\n",
       "               '2015-09-20', '2015-09-27', '2015-10-04', '2015-10-11',\n",
       "               '2015-10-18', '2015-10-25', '2015-11-01'],\n",
       "              dtype='datetime64[ns]', name='date', freq='W-SUN')"
      ]
     },
     "execution_count": 7,
     "metadata": {},
     "output_type": "execute_result"
    }
   ],
   "source": [
    "ts_weekly.index[-15:]"
   ]
  },
  {
   "cell_type": "code",
   "execution_count": 8,
   "metadata": {},
   "outputs": [],
   "source": [
    "auto_daily = ts_daily.pct_change().autocorr()\n",
    "auto_weekly = ts_weekly.pct_change().autocorr()\n",
    "auto_monthly = ts_monthly.pct_change().autocorr()"
   ]
  },
  {
   "cell_type": "code",
   "execution_count": 9,
   "metadata": {},
   "outputs": [
    {
     "name": "stdout",
     "output_type": "stream",
     "text": [
      "Daily_autocorrelation -0.08463005530311793\n",
      "Weekly_autocorrelation -0.23559041330362235\n",
      "Monthly_autocorrelation -0.21480875731501684\n"
     ]
    }
   ],
   "source": [
    "print('Daily_autocorrelation {}'.format(auto_daily))\n",
    "print('Weekly_autocorrelation {}'.format(auto_weekly))\n",
    "print('Monthly_autocorrelation {}'.format(auto_monthly))"
   ]
  },
  {
   "cell_type": "markdown",
   "metadata": {},
   "source": [
    "The daily autocorrelation is almost not exist (~8%). Weekly and monthly has 3 times higher in autocorrelation magnitude. We will focusing on those two frequencies."
   ]
  },
  {
   "cell_type": "code",
   "execution_count": 10,
   "metadata": {},
   "outputs": [
    {
     "data": {
      "image/png": "[encoded data removed]",
      "text/plain": [
       "<Figure size 1080x288 with 1 Axes>"
      ]
     },
     "metadata": {
      "needs_background": "light"
     },
     "output_type": "display_data"
    }
   ],
   "source": [
    "fig, ax = plt.subplots(figsize=(15, 4))\n",
    "plot_acf(ts_weekly, alpha=.05, ax=ax, lags=30)\n",
    "plt.show()"
   ]
  },
  {
   "cell_type": "markdown",
   "metadata": {},
   "source": [
    "Strong lags at 2, 3, and 52"
   ]
  },
  {
   "cell_type": "code",
   "execution_count": 11,
   "metadata": {},
   "outputs": [
    {
     "data": {
      "image/png": "[encoded data removed]",
      "text/plain": [
       "<Figure size 1080x288 with 1 Axes>"
      ]
     },
     "metadata": {
      "needs_background": "light"
     },
     "output_type": "display_data"
    }
   ],
   "source": [
    "fig1, ax = plt.subplots(figsize=(15, 4))\n",
    "plot_pacf(ts_weekly, alpha=.05, ax=ax, lags=60)\n",
    "plt.show()"
   ]
  },
  {
   "cell_type": "code",
   "execution_count": 12,
   "metadata": {},
   "outputs": [
    {
     "data": {
      "image/png": "[encoded data removed]",
      "text/plain": [
       "<Figure size 1080x288 with 1 Axes>"
      ]
     },
     "metadata": {
      "needs_background": "light"
     },
     "output_type": "display_data"
    }
   ],
   "source": [
    "fig2, ax = plt.subplots(figsize=(15, 4))\n",
    "plot_acf(ts_monthly, alpha=.05, ax=ax, lags=30)\n",
    "plt.show()"
   ]
  },
  {
   "cell_type": "markdown",
   "metadata": {},
   "source": [
    "Strong lag at 12"
   ]
  },
  {
   "cell_type": "code",
   "execution_count": 13,
   "metadata": {},
   "outputs": [
    {
     "name": "stderr",
     "output_type": "stream",
     "text": [
      "C:\\Users\\sit_k\\AppData\\Local\\Continuum\\anaconda3\\lib\\site-packages\\statsmodels\\regression\\linear_model.py:1283: RuntimeWarning: invalid value encountered in sqrt\n",
      "  return rho, np.sqrt(sigmasq)\n"
     ]
    },
    {
     "data": {
      "image/png": "[encoded data removed]",
      "text/plain": [
       "<Figure size 1080x288 with 1 Axes>"
      ]
     },
     "metadata": {
      "needs_background": "light"
     },
     "output_type": "display_data"
    }
   ],
   "source": [
    "fig3, ax = plt.subplots(figsize=(15, 4))\n",
    "plot_pacf(ts_monthly, alpha=.05, ax=ax, lags=30)\n",
    "plt.show()"
   ]
  },
  {
   "cell_type": "markdown",
   "metadata": {},
   "source": [
    "Weekly level appears to give us more information on the lag, we will focus on weekly time series data from now on. We also want to check the confident intervals on the autocorrelation."
   ]
  },
  {
   "cell_type": "code",
   "execution_count": 14,
   "metadata": {},
   "outputs": [
    {
     "name": "stdout",
     "output_type": "stream",
     "text": [
      "The approximate confidence interval is +/- 0.16\n"
     ]
    }
   ],
   "source": [
    "conf = 1.96/np.sqrt(len(ts_weekly))\n",
    "print(\"The approximate confidence interval is +/- %4.2f\" %(conf))"
   ]
  },
  {
   "cell_type": "markdown",
   "metadata": {},
   "source": [
    "### Random Walk Test\n",
    "\n",
    "**H0**: data follow patten of random walk\n",
    "<br>\n",
    "**H1**: data does not follow pattern of random walk\n",
    "\n",
    "Apply Dickey-Fuller test"
   ]
  },
  {
   "cell_type": "code",
   "execution_count": 15,
   "metadata": {},
   "outputs": [
    {
     "name": "stdout",
     "output_type": "stream",
     "text": [
      "(-5.704656865380627, 7.536734912512145e-07, 0, 147, {'1%': -3.4756368462466662, '5%': -2.8814104466172608, '10%': -2.5773652982553568}, 4141.481596579406)\n",
      "p-value is 0.0001%\n"
     ]
    }
   ],
   "source": [
    "results =adfuller(ts_weekly)\n",
    "print(results)\n",
    "print('p-value is {:.4%}'.format(results[1]))"
   ]
  },
  {
   "cell_type": "markdown",
   "metadata": {},
   "source": [
    "We will reject H0 that the data follow random walk pattern."
   ]
  },
  {
   "cell_type": "markdown",
   "metadata": {},
   "source": [
    "### Seasonality Adjustments\n",
    "\n",
    "We want to identify and remove the seasonal component from the data for later modeling purposes. From the autocorrelation analysis, we identify 2, 3, and 52 to be strong lags. We choose 52 because 2 and 3 significance disappear if we observed at the monthly level."
   ]
  },
  {
   "cell_type": "code",
   "execution_count": 16,
   "metadata": {},
   "outputs": [],
   "source": [
    "ts_weeklysa = ts_weekly.diff(periods=52)"
   ]
  },
  {
   "cell_type": "code",
   "execution_count": 17,
   "metadata": {},
   "outputs": [],
   "source": [
    "ts_weeklysa = ts_weeklysa.dropna()"
   ]
  },
  {
   "cell_type": "code",
   "execution_count": 18,
   "metadata": {},
   "outputs": [
    {
     "data": {
      "image/png": "[encoded data removed]",
      "text/plain": [
       "<Figure size 432x288 with 1 Axes>"
      ]
     },
     "metadata": {
      "needs_background": "light"
     },
     "output_type": "display_data"
    }
   ],
   "source": [
    "plot_acf(ts_weeklysa, alpha=.05)\n",
    "plt.show()"
   ]
  },
  {
   "cell_type": "markdown",
   "metadata": {},
   "source": [
    "## Modeling"
   ]
  },
  {
   "cell_type": "markdown",
   "metadata": {},
   "source": [
    "### Simple ARMA model\n",
    "\n",
    "We will start with model order 1 to get a naive based model predictions on sales. We split the dataset into train (Jan 2013 - Jul 2015) and test (Aug 2015 - Oct 2015)."
   ]
  },
  {
   "cell_type": "code",
   "execution_count": 19,
   "metadata": {},
   "outputs": [],
   "source": [
    "ts_train = ts_weekly.loc[:'2015-07-26']\n",
    "ts_test = ts_weekly.loc['2015-08-02':]"
   ]
  },
  {
   "cell_type": "code",
   "execution_count": 20,
   "metadata": {},
   "outputs": [
    {
     "name": "stderr",
     "output_type": "stream",
     "text": [
      "C:\\Users\\sit_k\\AppData\\Local\\Continuum\\anaconda3\\lib\\site-packages\\statsmodels\\tsa\\base\\tsa_model.py:336: FutureWarning: Creating a DatetimeIndex by passing range endpoints is deprecated.  Use `pandas.date_range` instead.\n",
      "  freq=base_index.freq)\n"
     ]
    }
   ],
   "source": [
    "mod = ARMA(ts_train, order=(1,0))\n",
    "res = mod.fit()\n",
    "prediction = res.predict(start='2015-08-02', end='2015-11-01')"
   ]
  },
  {
   "cell_type": "code",
   "execution_count": 21,
   "metadata": {},
   "outputs": [],
   "source": [
    "comparsion = pd.DataFrame({'predict': prediction, 'test': ts_test})"
   ]
  },
  {
   "cell_type": "code",
   "execution_count": 22,
   "metadata": {},
   "outputs": [
    {
     "name": "stdout",
     "output_type": "stream",
     "text": [
      "RMSE is 885,162,372,129\n"
     ]
    }
   ],
   "source": [
    "print('RMSE is {:,.0f}'.format(mean_squared_error(ts_test, prediction)))"
   ]
  },
  {
   "cell_type": "markdown",
   "metadata": {},
   "source": [
    "Above is the 1st order model result. We will find the optimal order(s) that will lead to the minimal BIC"
   ]
  },
  {
   "cell_type": "code",
   "execution_count": 23,
   "metadata": {},
   "outputs": [
    {
     "data": {
      "image/png": "[encoded data removed]",
      "text/plain": [
       "<Figure size 432x288 with 1 Axes>"
      ]
     },
     "metadata": {
      "needs_background": "light"
     },
     "output_type": "display_data"
    }
   ],
   "source": [
    "BIC = np.zeros(7)\n",
    "for p in range(7):\n",
    "    mod = ARMA(ts_weekly, order=(p,0))\n",
    "    res = mod.fit()\n",
    "# Save BIC for AR(p)    \n",
    "    BIC[p] = res.bic\n",
    "    \n",
    "# Plot the BIC as a function of p\n",
    "plt.plot(range(1,7), BIC[1:7], marker='o')\n",
    "plt.xlabel('Order of AR Model')\n",
    "plt.ylabel('Bayesian Information Criterion')\n",
    "plt.show()"
   ]
  },
  {
   "cell_type": "markdown",
   "metadata": {},
   "source": [
    "AR = 1 is the best parameter. We repeat the same process for finding MA, with AR already set at 1"
   ]
  },
  {
   "cell_type": "markdown",
   "metadata": {},
   "source": [
    "Using trial and error, it turns out MA=2 will result in the lowest RSME"
   ]
  },
  {
   "cell_type": "code",
   "execution_count": 24,
   "metadata": {},
   "outputs": [
    {
     "name": "stdout",
     "output_type": "stream",
     "text": [
      "RMSE is 570,733,030,280\n"
     ]
    },
    {
     "name": "stderr",
     "output_type": "stream",
     "text": [
      "C:\\Users\\sit_k\\AppData\\Local\\Continuum\\anaconda3\\lib\\site-packages\\statsmodels\\tsa\\base\\tsa_model.py:336: FutureWarning: Creating a DatetimeIndex by passing range endpoints is deprecated.  Use `pandas.date_range` instead.\n",
      "  freq=base_index.freq)\n"
     ]
    }
   ],
   "source": [
    "mod_1 = ARMA(ts_train, order=(1,2))\n",
    "res_1 = mod_1.fit()\n",
    "prediction_1 = res_1.predict(start='2015-08-02', end='2015-11-01')\n",
    "print('RMSE is {:,.0f}'.format(mean_squared_error(ts_test, prediction_1)))"
   ]
  },
  {
   "cell_type": "markdown",
   "metadata": {},
   "source": [
    "RSME dropped by 35% when MA order is added to the model"
   ]
  },
  {
   "cell_type": "code",
   "execution_count": 25,
   "metadata": {},
   "outputs": [
    {
     "data": {
      "text/html": [
       "<table class=\"simpletable\">\n",
       "<caption>ARMA Model Results</caption>\n",
       "<tr>\n",
       "  <th>Dep. Variable:</th>       <td>sales</td>      <th>  No. Observations:  </th>     <td>134</td>    \n",
       "</tr>\n",
       "<tr>\n",
       "  <th>Model:</th>            <td>ARMA(1, 2)</td>    <th>  Log Likelihood     </th>  <td>-2082.008</td> \n",
       "</tr>\n",
       "<tr>\n",
       "  <th>Method:</th>             <td>css-mle</td>     <th>  S.D. of innovations</th> <td>1351076.077</td>\n",
       "</tr>\n",
       "<tr>\n",
       "  <th>Date:</th>          <td>Sun, 26 Jan 2020</td> <th>  AIC                </th>  <td>4174.015</td>  \n",
       "</tr>\n",
       "<tr>\n",
       "  <th>Time:</th>              <td>18:33:35</td>     <th>  BIC                </th>  <td>4188.505</td>  \n",
       "</tr>\n",
       "<tr>\n",
       "  <th>Sample:</th>           <td>01-06-2013</td>    <th>  HQIC               </th>  <td>4179.903</td>  \n",
       "</tr>\n",
       "<tr>\n",
       "  <th></th>                 <td>- 07-26-2015</td>   <th>                     </th>      <td> </td>     \n",
       "</tr>\n",
       "</table>\n",
       "<table class=\"simpletable\">\n",
       "<tr>\n",
       "       <td></td>          <th>coef</th>     <th>std err</th>      <th>z</th>      <th>P>|z|</th>  <th>[0.025</th>    <th>0.975]</th>  \n",
       "</tr>\n",
       "<tr>\n",
       "  <th>const</th>       <td> 3.596e+06</td> <td> 3.94e+05</td> <td>    9.134</td> <td> 0.000</td> <td> 2.82e+06</td> <td> 4.37e+06</td>\n",
       "</tr>\n",
       "<tr>\n",
       "  <th>ar.L1.sales</th> <td>    0.8388</td> <td>    0.122</td> <td>    6.896</td> <td> 0.000</td> <td>    0.600</td> <td>    1.077</td>\n",
       "</tr>\n",
       "<tr>\n",
       "  <th>ma.L1.sales</th> <td>   -0.2608</td> <td>    0.168</td> <td>   -1.552</td> <td> 0.123</td> <td>   -0.590</td> <td>    0.069</td>\n",
       "</tr>\n",
       "<tr>\n",
       "  <th>ma.L2.sales</th> <td>   -0.1797</td> <td>    0.124</td> <td>   -1.444</td> <td> 0.151</td> <td>   -0.424</td> <td>    0.064</td>\n",
       "</tr>\n",
       "</table>\n",
       "<table class=\"simpletable\">\n",
       "<caption>Roots</caption>\n",
       "<tr>\n",
       "    <td></td>   <th>            Real</th>  <th>         Imaginary</th> <th>         Modulus</th>  <th>        Frequency</th>\n",
       "</tr>\n",
       "<tr>\n",
       "  <th>AR.1</th> <td>           1.1921</td> <td>          +0.0000j</td> <td>           1.1921</td> <td>           0.0000</td>\n",
       "</tr>\n",
       "<tr>\n",
       "  <th>MA.1</th> <td>           1.7422</td> <td>          +0.0000j</td> <td>           1.7422</td> <td>           0.0000</td>\n",
       "</tr>\n",
       "<tr>\n",
       "  <th>MA.2</th> <td>          -3.1934</td> <td>          +0.0000j</td> <td>           3.1934</td> <td>           0.5000</td>\n",
       "</tr>\n",
       "</table>"
      ],
      "text/plain": [
       "<class 'statsmodels.iolib.summary.Summary'>\n",
       "\"\"\"\n",
       "                              ARMA Model Results                              \n",
       "==============================================================================\n",
       "Dep. Variable:                  sales   No. Observations:                  134\n",
       "Model:                     ARMA(1, 2)   Log Likelihood               -2082.008\n",
       "Method:                       css-mle   S.D. of innovations        1351076.077\n",
       "Date:                Sun, 26 Jan 2020   AIC                           4174.015\n",
       "Time:                        18:33:35   BIC                           4188.505\n",
       "Sample:                    01-06-2013   HQIC                          4179.903\n",
       "                         - 07-26-2015                                         \n",
       "===============================================================================\n",
       "                  coef    std err          z      P>|z|      [0.025      0.975]\n",
       "-------------------------------------------------------------------------------\n",
       "const        3.596e+06   3.94e+05      9.134      0.000    2.82e+06    4.37e+06\n",
       "ar.L1.sales     0.8388      0.122      6.896      0.000       0.600       1.077\n",
       "ma.L1.sales    -0.2608      0.168     -1.552      0.123      -0.590       0.069\n",
       "ma.L2.sales    -0.1797      0.124     -1.444      0.151      -0.424       0.064\n",
       "                                    Roots                                    \n",
       "=============================================================================\n",
       "                  Real          Imaginary           Modulus         Frequency\n",
       "-----------------------------------------------------------------------------\n",
       "AR.1            1.1921           +0.0000j            1.1921            0.0000\n",
       "MA.1            1.7422           +0.0000j            1.7422            0.0000\n",
       "MA.2           -3.1934           +0.0000j            3.1934            0.5000\n",
       "-----------------------------------------------------------------------------\n",
       "\"\"\""
      ]
     },
     "execution_count": 25,
     "metadata": {},
     "output_type": "execute_result"
    }
   ],
   "source": [
    "res_1.summary()"
   ]
  },
  {
   "cell_type": "markdown",
   "metadata": {},
   "source": [
    "Final step is to integrate the ARMA into ARIMA"
   ]
  },
  {
   "cell_type": "code",
   "execution_count": 26,
   "metadata": {},
   "outputs": [
    {
     "name": "stdout",
     "output_type": "stream",
     "text": [
      "RMSE is 427,336,678,809\n"
     ]
    }
   ],
   "source": [
    "mod_2 = ARIMA(ts_weekly, order=(1,0,2))\n",
    "res_2 = mod_2.fit()\n",
    "prediction_2 = res_2.predict(start='2015-08-02', end='2015-11-01')\n",
    "print('RMSE is {:,.0f}'.format(mean_squared_error(ts_test, prediction_2)))"
   ]
  },
  {
   "cell_type": "code",
   "execution_count": 27,
   "metadata": {},
   "outputs": [],
   "source": [
    "comparsion = pd.DataFrame({'predict': prediction, 'predict_1': prediction_1, 'predict_2': prediction_2, 'test': ts_test})"
   ]
  },
  {
   "cell_type": "code",
   "execution_count": 28,
   "metadata": {},
   "outputs": [
    {
     "data": {
      "image/png": "[encoded data removed]",
      "text/plain": [
       "<Figure size 1080x360 with 1 Axes>"
      ]
     },
     "metadata": {
      "needs_background": "light"
     },
     "output_type": "display_data"
    }
   ],
   "source": [
    "plt.figure(figsize=(15,5))\n",
    "plt.plot(comparsion['predict'], color='b', linestyle='dashed')\n",
    "plt.plot(comparsion['predict_1'], color='g', linestyle='dashed')\n",
    "plt.plot(comparsion['predict_2'], color='y', linestyle='dashed')\n",
    "plt.plot(comparsion['test'], color='r')\n",
    "plt.title('Graphical comparison on model forecast to actuals')\n",
    "plt.xlabel('date')\n",
    "plt.ylabel('sales')\n",
    "plt.show()"
   ]
  },
  {
   "cell_type": "markdown",
   "metadata": {},
   "source": [
    "#### Model Comparison"
   ]
  },
  {
   "cell_type": "code",
   "execution_count": 29,
   "metadata": {},
   "outputs": [],
   "source": [
    "model = pd.DataFrame({'model': ['AR', 'ARMA', 'ARIMA'], \n",
    "                      'RMSE': [mean_squared_error(ts_test, prediction), mean_squared_error(ts_test, prediction_1), mean_squared_error(ts_test, prediction_2)],\n",
    "                     'AIC+BIC':[(res.aic+res.bic), (res_1.aic+res_1.bic), (res_2.aic+res_2.bic)]})"
   ]
  },
  {
   "cell_type": "code",
   "execution_count": 30,
   "metadata": {},
   "outputs": [
    {
     "data": {
      "text/html": [
       "<div>\n",
       "<style scoped>\n",
       "    .dataframe tbody tr th:only-of-type {\n",
       "        vertical-align: middle;\n",
       "    }\n",
       "\n",
       "    .dataframe tbody tr th {\n",
       "        vertical-align: top;\n",
       "    }\n",
       "\n",
       "    .dataframe thead th {\n",
       "        text-align: right;\n",
       "    }\n",
       "</style>\n",
       "<table border=\"1\" class=\"dataframe\">\n",
       "  <thead>\n",
       "    <tr style=\"text-align: right;\">\n",
       "      <th></th>\n",
       "      <th>RMSE</th>\n",
       "      <th>AIC+BIC</th>\n",
       "    </tr>\n",
       "    <tr>\n",
       "      <th>model</th>\n",
       "      <th></th>\n",
       "      <th></th>\n",
       "    </tr>\n",
       "  </thead>\n",
       "  <tbody>\n",
       "    <tr>\n",
       "      <th>AR</th>\n",
       "      <td>8.851624e+11</td>\n",
       "      <td>9228.236325</td>\n",
       "    </tr>\n",
       "    <tr>\n",
       "      <th>ARMA</th>\n",
       "      <td>5.707330e+11</td>\n",
       "      <td>8362.519812</td>\n",
       "    </tr>\n",
       "    <tr>\n",
       "      <th>ARIMA</th>\n",
       "      <td>4.273367e+11</td>\n",
       "      <td>9210.790978</td>\n",
       "    </tr>\n",
       "  </tbody>\n",
       "</table>\n",
       "</div>"
      ],
      "text/plain": [
       "               RMSE      AIC+BIC\n",
       "model                           \n",
       "AR     8.851624e+11  9228.236325\n",
       "ARMA   5.707330e+11  8362.519812\n",
       "ARIMA  4.273367e+11  9210.790978"
      ]
     },
     "execution_count": 30,
     "metadata": {},
     "output_type": "execute_result"
    }
   ],
   "source": [
    "model.set_index('model')"
   ]
  },
  {
   "cell_type": "markdown",
   "metadata": {},
   "source": [
    "### Observations\n",
    "\n",
    "ARIMA has the smallest RMSE among the 3 models but AIC+BIC is the largest, which pose risks on overfitting. ARMA has higher RMSE (but still lower than AR model) while keeping the same level of AIC+BIC."
   ]
  },
  {
   "cell_type": "markdown",
   "metadata": {},
   "source": [
    "### Next Steps\n",
    "\n",
    "While ARIMA has the smallest RMSE, the risks of overfitting is concerning. One way to validate that is to perform time based cross validation, using expanding windows. We will also apply other time series model such as Prophet, Multivariate Time Series Model, and Regime Switching Model."
   ]
  }
 ],
 "metadata": {
  "kernelspec": {
   "display_name": "Python 3",
   "language": "python",
   "name": "python3"
  },
  "language_info": {
   "codemirror_mode": {
    "name": "ipython",
    "version": 3
   },
   "file_extension": ".py",
   "mimetype": "text/x-python",
   "name": "python",
   "nbconvert_exporter": "python",
   "pygments_lexer": "ipython3",
   "version": "3.7.3"
  }
 },
 "nbformat": 4,
 "nbformat_minor": 2
}
